{
  "cells": [
    {
      "cell_type": "markdown",
      "metadata": {
        "id": "view-in-github",
        "colab_type": "text"
      },
      "source": [
        "<a href=\"https://colab.research.google.com/github/nkodali34/662/blob/Lab1/Q1_FCNetworks.ipynb\" target=\"_parent\"><img src=\"https://colab.research.google.com/assets/colab-badge.svg\" alt=\"Open In Colab\"/></a>"
      ]
    },
    {
      "cell_type": "code",
      "execution_count": 2,
      "metadata": {
        "id": "HRfXns1vurmF",
        "colab": {
          "base_uri": "https://localhost:8080/"
        },
        "outputId": "532b48d8-4219-46e0-88f3-9b146ec5f8c0"
      },
      "outputs": [
        {
          "output_type": "stream",
          "name": "stdout",
          "text": [
            "Mounted at /content/drive\n",
            "/content\n"
          ]
        }
      ],
      "source": [
        "# this mounts your Google Drive to the Colab VM.\n",
        "from google.colab import drive\n",
        "drive.mount('/content/drive', force_remount=True)\n",
        "\n",
        "# enter the foldername in your Drive where you have saved the unzipped\n",
        "# assignment folder, e.g. 'ece697ls/assignments/assignment3/'\n",
        "FOLDERNAME = 'ML/Lab1/assignment1/'\n",
        "\n",
        "assert FOLDERNAME is not None, \"[!] Enter the foldername.\"\n",
        "\n",
        "# now that we've mounted your Drive, this ensures that\n",
        "# the Python interpreter of the Colab VM can load\n",
        "# python files from within it.\n",
        "import sys\n",
        "sys.path.append('/content/drive/My Drive/{}'.format(FOLDERNAME))\n",
        "\n",
        "%cd /content"
      ]
    },
    {
      "cell_type": "markdown",
      "metadata": {
        "id": "PqOSfs6furmO",
        "tags": [
          "pdf-ignore"
        ]
      },
      "source": [
        "# Fully-Connected Neural Nets\n",
        "In this exercise we will implement fully-connected networks using a modular approach. Ideally we want to build networks using a more modular design so that we can implement different layer types in isolation and then snap them together into models with different architectures. For each layer we will implement a `forward` and a `backward` function. The `forward` function will receive inputs, weights, and other parameters and will return both an output and a `cache` object storing data needed for the backward pass, like this:\n",
        "\n",
        "```python\n",
        "def layer_forward(x, w):\n",
        "  \"\"\" Receive inputs x and weights w \"\"\"\n",
        "  # Do some computations ...\n",
        "  z = # ... some intermediate value\n",
        "  # Do some more computations ...\n",
        "  out = # the output\n",
        "   \n",
        "  cache = (x, w, z, out) # Values we need to compute gradients\n",
        "   \n",
        "  return out, cache\n",
        "```\n",
        "\n",
        "The backward pass will receive upstream derivatives and the `cache` object, and will return gradients with respect to the inputs and weights, like this:\n",
        "\n",
        "```python\n",
        "def layer_backward(dout, cache):\n",
        "  \"\"\"\n",
        "  Receive dout (derivative of loss with respect to outputs) and cache,\n",
        "  and compute derivative with respect to inputs.\n",
        "  \"\"\"\n",
        "  # Unpack cache values\n",
        "  x, w, z, out = cache\n",
        "  \n",
        "  # Use values in cache to compute derivatives\n",
        "  dx = # Derivative of loss with respect to x\n",
        "  dw = # Derivative of loss with respect to w\n",
        "  \n",
        "  return dx, dw\n",
        "```\n",
        "\n",
        "After implementing a bunch of layers this way, we will be able to easily combine them to build classifiers with different architectures.\n",
        "\n",
        "In addition to implementing fully-connected networks of arbitrary depth, we will also explore different update rules for optimization, and introduce Dropout as a regularizer and Batch/Layer Normalization as a tool to more efficiently optimize deep networks.\n",
        "  "
      ]
    },
    {
      "cell_type": "code",
      "execution_count": 3,
      "metadata": {
        "id": "GFhm-2aqurmP",
        "tags": [
          "pdf-ignore"
        ],
        "colab": {
          "base_uri": "https://localhost:8080/",
          "height": 649
        },
        "outputId": "4a9ef452-8ab5-440b-b504-1b9a0e2ec335"
      },
      "outputs": [
        {
          "output_type": "stream",
          "name": "stdout",
          "text": [
            "=========== You can safely ignore the message below if you are NOT working on ConvolutionalNetworks.ipynb ===========\n",
            "\tYou will need to compile a Cython extension for a portion of this assignment.\n",
            "\tThe instructions to do this will be given in a section of the notebook below.\n",
            "\tThere will be an option for Colab users and another for Jupyter (local) users.\n"
          ]
        },
        {
          "output_type": "error",
          "ename": "ModuleNotFoundError",
          "evalue": "No module named 'imp'",
          "traceback": [
            "\u001b[0;31m---------------------------------------------------------------------------\u001b[0m",
            "\u001b[0;31mModuleNotFoundError\u001b[0m                       Traceback (most recent call last)",
            "\u001b[0;32m/tmp/ipython-input-2269538515.py\u001b[0m in \u001b[0;36m<cell line: 0>\u001b[0;34m()\u001b[0m\n\u001b[1;32m     16\u001b[0m \u001b[0;31m# for auto-reloading external modules\u001b[0m\u001b[0;34m\u001b[0m\u001b[0;34m\u001b[0m\u001b[0m\n\u001b[1;32m     17\u001b[0m \u001b[0;31m# see http://stackoverflow.com/questions/1907993/autoreload-of-modules-in-ipython\u001b[0m\u001b[0;34m\u001b[0m\u001b[0;34m\u001b[0m\u001b[0m\n\u001b[0;32m---> 18\u001b[0;31m \u001b[0mget_ipython\u001b[0m\u001b[0;34m(\u001b[0m\u001b[0;34m)\u001b[0m\u001b[0;34m.\u001b[0m\u001b[0mrun_line_magic\u001b[0m\u001b[0;34m(\u001b[0m\u001b[0;34m'load_ext'\u001b[0m\u001b[0;34m,\u001b[0m \u001b[0;34m'autoreload'\u001b[0m\u001b[0;34m)\u001b[0m\u001b[0;34m\u001b[0m\u001b[0;34m\u001b[0m\u001b[0m\n\u001b[0m\u001b[1;32m     19\u001b[0m \u001b[0mget_ipython\u001b[0m\u001b[0;34m(\u001b[0m\u001b[0;34m)\u001b[0m\u001b[0;34m.\u001b[0m\u001b[0mrun_line_magic\u001b[0m\u001b[0;34m(\u001b[0m\u001b[0;34m'autoreload'\u001b[0m\u001b[0;34m,\u001b[0m \u001b[0;34m'2'\u001b[0m\u001b[0;34m)\u001b[0m\u001b[0;34m\u001b[0m\u001b[0;34m\u001b[0m\u001b[0m\n\u001b[1;32m     20\u001b[0m \u001b[0;34m\u001b[0m\u001b[0m\n",
            "\u001b[0;32m/usr/local/lib/python3.12/dist-packages/IPython/core/interactiveshell.py\u001b[0m in \u001b[0;36mrun_line_magic\u001b[0;34m(self, magic_name, line, _stack_depth)\u001b[0m\n\u001b[1;32m   2416\u001b[0m                 \u001b[0mkwargs\u001b[0m\u001b[0;34m[\u001b[0m\u001b[0;34m'local_ns'\u001b[0m\u001b[0;34m]\u001b[0m \u001b[0;34m=\u001b[0m \u001b[0mself\u001b[0m\u001b[0;34m.\u001b[0m\u001b[0mget_local_scope\u001b[0m\u001b[0;34m(\u001b[0m\u001b[0mstack_depth\u001b[0m\u001b[0;34m)\u001b[0m\u001b[0;34m\u001b[0m\u001b[0;34m\u001b[0m\u001b[0m\n\u001b[1;32m   2417\u001b[0m             \u001b[0;32mwith\u001b[0m \u001b[0mself\u001b[0m\u001b[0;34m.\u001b[0m\u001b[0mbuiltin_trap\u001b[0m\u001b[0;34m:\u001b[0m\u001b[0;34m\u001b[0m\u001b[0;34m\u001b[0m\u001b[0m\n\u001b[0;32m-> 2418\u001b[0;31m                 \u001b[0mresult\u001b[0m \u001b[0;34m=\u001b[0m \u001b[0mfn\u001b[0m\u001b[0;34m(\u001b[0m\u001b[0;34m*\u001b[0m\u001b[0margs\u001b[0m\u001b[0;34m,\u001b[0m \u001b[0;34m**\u001b[0m\u001b[0mkwargs\u001b[0m\u001b[0;34m)\u001b[0m\u001b[0;34m\u001b[0m\u001b[0;34m\u001b[0m\u001b[0m\n\u001b[0m\u001b[1;32m   2419\u001b[0m             \u001b[0;32mreturn\u001b[0m \u001b[0mresult\u001b[0m\u001b[0;34m\u001b[0m\u001b[0;34m\u001b[0m\u001b[0m\n\u001b[1;32m   2420\u001b[0m \u001b[0;34m\u001b[0m\u001b[0m\n",
            "\u001b[0;32m<decorator-gen-57>\u001b[0m in \u001b[0;36mload_ext\u001b[0;34m(self, module_str)\u001b[0m\n",
            "\u001b[0;32m/usr/local/lib/python3.12/dist-packages/IPython/core/magic.py\u001b[0m in \u001b[0;36m<lambda>\u001b[0;34m(f, *a, **k)\u001b[0m\n\u001b[1;32m    185\u001b[0m     \u001b[0;31m# but it's overkill for just that one bit of state.\u001b[0m\u001b[0;34m\u001b[0m\u001b[0;34m\u001b[0m\u001b[0m\n\u001b[1;32m    186\u001b[0m     \u001b[0;32mdef\u001b[0m \u001b[0mmagic_deco\u001b[0m\u001b[0;34m(\u001b[0m\u001b[0marg\u001b[0m\u001b[0;34m)\u001b[0m\u001b[0;34m:\u001b[0m\u001b[0;34m\u001b[0m\u001b[0;34m\u001b[0m\u001b[0m\n\u001b[0;32m--> 187\u001b[0;31m         \u001b[0mcall\u001b[0m \u001b[0;34m=\u001b[0m \u001b[0;32mlambda\u001b[0m \u001b[0mf\u001b[0m\u001b[0;34m,\u001b[0m \u001b[0;34m*\u001b[0m\u001b[0ma\u001b[0m\u001b[0;34m,\u001b[0m \u001b[0;34m**\u001b[0m\u001b[0mk\u001b[0m\u001b[0;34m:\u001b[0m \u001b[0mf\u001b[0m\u001b[0;34m(\u001b[0m\u001b[0;34m*\u001b[0m\u001b[0ma\u001b[0m\u001b[0;34m,\u001b[0m \u001b[0;34m**\u001b[0m\u001b[0mk\u001b[0m\u001b[0;34m)\u001b[0m\u001b[0;34m\u001b[0m\u001b[0;34m\u001b[0m\u001b[0m\n\u001b[0m\u001b[1;32m    188\u001b[0m \u001b[0;34m\u001b[0m\u001b[0m\n\u001b[1;32m    189\u001b[0m         \u001b[0;32mif\u001b[0m \u001b[0mcallable\u001b[0m\u001b[0;34m(\u001b[0m\u001b[0marg\u001b[0m\u001b[0;34m)\u001b[0m\u001b[0;34m:\u001b[0m\u001b[0;34m\u001b[0m\u001b[0;34m\u001b[0m\u001b[0m\n",
            "\u001b[0;32m/usr/local/lib/python3.12/dist-packages/IPython/core/magics/extension.py\u001b[0m in \u001b[0;36mload_ext\u001b[0;34m(self, module_str)\u001b[0m\n\u001b[1;32m     31\u001b[0m         \u001b[0;32mif\u001b[0m \u001b[0;32mnot\u001b[0m \u001b[0mmodule_str\u001b[0m\u001b[0;34m:\u001b[0m\u001b[0;34m\u001b[0m\u001b[0;34m\u001b[0m\u001b[0m\n\u001b[1;32m     32\u001b[0m             \u001b[0;32mraise\u001b[0m \u001b[0mUsageError\u001b[0m\u001b[0;34m(\u001b[0m\u001b[0;34m'Missing module name.'\u001b[0m\u001b[0;34m)\u001b[0m\u001b[0;34m\u001b[0m\u001b[0;34m\u001b[0m\u001b[0m\n\u001b[0;32m---> 33\u001b[0;31m         \u001b[0mres\u001b[0m \u001b[0;34m=\u001b[0m \u001b[0mself\u001b[0m\u001b[0;34m.\u001b[0m\u001b[0mshell\u001b[0m\u001b[0;34m.\u001b[0m\u001b[0mextension_manager\u001b[0m\u001b[0;34m.\u001b[0m\u001b[0mload_extension\u001b[0m\u001b[0;34m(\u001b[0m\u001b[0mmodule_str\u001b[0m\u001b[0;34m)\u001b[0m\u001b[0;34m\u001b[0m\u001b[0;34m\u001b[0m\u001b[0m\n\u001b[0m\u001b[1;32m     34\u001b[0m \u001b[0;34m\u001b[0m\u001b[0m\n\u001b[1;32m     35\u001b[0m         \u001b[0;32mif\u001b[0m \u001b[0mres\u001b[0m \u001b[0;34m==\u001b[0m \u001b[0;34m'already loaded'\u001b[0m\u001b[0;34m:\u001b[0m\u001b[0;34m\u001b[0m\u001b[0;34m\u001b[0m\u001b[0m\n",
            "\u001b[0;32m/usr/local/lib/python3.12/dist-packages/IPython/core/extensions.py\u001b[0m in \u001b[0;36mload_extension\u001b[0;34m(self, module_str)\u001b[0m\n\u001b[1;32m     78\u001b[0m             \u001b[0;32mif\u001b[0m \u001b[0mmodule_str\u001b[0m \u001b[0;32mnot\u001b[0m \u001b[0;32min\u001b[0m \u001b[0msys\u001b[0m\u001b[0;34m.\u001b[0m\u001b[0mmodules\u001b[0m\u001b[0;34m:\u001b[0m\u001b[0;34m\u001b[0m\u001b[0;34m\u001b[0m\u001b[0m\n\u001b[1;32m     79\u001b[0m                 \u001b[0;32mwith\u001b[0m \u001b[0mprepended_to_syspath\u001b[0m\u001b[0;34m(\u001b[0m\u001b[0mself\u001b[0m\u001b[0;34m.\u001b[0m\u001b[0mipython_extension_dir\u001b[0m\u001b[0;34m)\u001b[0m\u001b[0;34m:\u001b[0m\u001b[0;34m\u001b[0m\u001b[0;34m\u001b[0m\u001b[0m\n\u001b[0;32m---> 80\u001b[0;31m                     \u001b[0mmod\u001b[0m \u001b[0;34m=\u001b[0m \u001b[0mimport_module\u001b[0m\u001b[0;34m(\u001b[0m\u001b[0mmodule_str\u001b[0m\u001b[0;34m)\u001b[0m\u001b[0;34m\u001b[0m\u001b[0;34m\u001b[0m\u001b[0m\n\u001b[0m\u001b[1;32m     81\u001b[0m                     \u001b[0;32mif\u001b[0m \u001b[0mmod\u001b[0m\u001b[0;34m.\u001b[0m\u001b[0m__file__\u001b[0m\u001b[0;34m.\u001b[0m\u001b[0mstartswith\u001b[0m\u001b[0;34m(\u001b[0m\u001b[0mself\u001b[0m\u001b[0;34m.\u001b[0m\u001b[0mipython_extension_dir\u001b[0m\u001b[0;34m)\u001b[0m\u001b[0;34m:\u001b[0m\u001b[0;34m\u001b[0m\u001b[0;34m\u001b[0m\u001b[0m\n\u001b[1;32m     82\u001b[0m                         print((\"Loading extensions from {dir} is deprecated. \"\n",
            "\u001b[0;32m/usr/lib/python3.12/importlib/__init__.py\u001b[0m in \u001b[0;36mimport_module\u001b[0;34m(name, package)\u001b[0m\n\u001b[1;32m     88\u001b[0m                 \u001b[0;32mbreak\u001b[0m\u001b[0;34m\u001b[0m\u001b[0;34m\u001b[0m\u001b[0m\n\u001b[1;32m     89\u001b[0m             \u001b[0mlevel\u001b[0m \u001b[0;34m+=\u001b[0m \u001b[0;36m1\u001b[0m\u001b[0;34m\u001b[0m\u001b[0;34m\u001b[0m\u001b[0m\n\u001b[0;32m---> 90\u001b[0;31m     \u001b[0;32mreturn\u001b[0m \u001b[0m_bootstrap\u001b[0m\u001b[0;34m.\u001b[0m\u001b[0m_gcd_import\u001b[0m\u001b[0;34m(\u001b[0m\u001b[0mname\u001b[0m\u001b[0;34m[\u001b[0m\u001b[0mlevel\u001b[0m\u001b[0;34m:\u001b[0m\u001b[0;34m]\u001b[0m\u001b[0;34m,\u001b[0m \u001b[0mpackage\u001b[0m\u001b[0;34m,\u001b[0m \u001b[0mlevel\u001b[0m\u001b[0;34m)\u001b[0m\u001b[0;34m\u001b[0m\u001b[0;34m\u001b[0m\u001b[0m\n\u001b[0m\u001b[1;32m     91\u001b[0m \u001b[0;34m\u001b[0m\u001b[0m\n\u001b[1;32m     92\u001b[0m \u001b[0;34m\u001b[0m\u001b[0m\n",
            "\u001b[0;32m/usr/lib/python3.12/importlib/_bootstrap.py\u001b[0m in \u001b[0;36m_gcd_import\u001b[0;34m(name, package, level)\u001b[0m\n",
            "\u001b[0;32m/usr/lib/python3.12/importlib/_bootstrap.py\u001b[0m in \u001b[0;36m_find_and_load\u001b[0;34m(name, import_)\u001b[0m\n",
            "\u001b[0;32m/usr/lib/python3.12/importlib/_bootstrap.py\u001b[0m in \u001b[0;36m_find_and_load_unlocked\u001b[0;34m(name, import_)\u001b[0m\n",
            "\u001b[0;32m/usr/lib/python3.12/importlib/_bootstrap.py\u001b[0m in \u001b[0;36m_load_unlocked\u001b[0;34m(spec)\u001b[0m\n",
            "\u001b[0;32m/usr/lib/python3.12/importlib/_bootstrap_external.py\u001b[0m in \u001b[0;36mexec_module\u001b[0;34m(self, module)\u001b[0m\n",
            "\u001b[0;32m/usr/lib/python3.12/importlib/_bootstrap.py\u001b[0m in \u001b[0;36m_call_with_frames_removed\u001b[0;34m(f, *args, **kwds)\u001b[0m\n",
            "\u001b[0;32m/usr/local/lib/python3.12/dist-packages/IPython/extensions/autoreload.py\u001b[0m in \u001b[0;36m<module>\u001b[0;34m\u001b[0m\n\u001b[1;32m    119\u001b[0m \u001b[0;32mfrom\u001b[0m \u001b[0mimportlib\u001b[0m \u001b[0;32mimport\u001b[0m \u001b[0mimport_module\u001b[0m\u001b[0;34m\u001b[0m\u001b[0;34m\u001b[0m\u001b[0m\n\u001b[1;32m    120\u001b[0m \u001b[0;32mfrom\u001b[0m \u001b[0mimportlib\u001b[0m\u001b[0;34m.\u001b[0m\u001b[0mutil\u001b[0m \u001b[0;32mimport\u001b[0m \u001b[0msource_from_cache\u001b[0m\u001b[0;34m\u001b[0m\u001b[0;34m\u001b[0m\u001b[0m\n\u001b[0;32m--> 121\u001b[0;31m \u001b[0;32mfrom\u001b[0m \u001b[0mimp\u001b[0m \u001b[0;32mimport\u001b[0m \u001b[0mreload\u001b[0m\u001b[0;34m\u001b[0m\u001b[0;34m\u001b[0m\u001b[0m\n\u001b[0m\u001b[1;32m    122\u001b[0m \u001b[0;34m\u001b[0m\u001b[0m\n\u001b[1;32m    123\u001b[0m \u001b[0;31m#------------------------------------------------------------------------------\u001b[0m\u001b[0;34m\u001b[0m\u001b[0;34m\u001b[0m\u001b[0m\n",
            "\u001b[0;31mModuleNotFoundError\u001b[0m: No module named 'imp'",
            "",
            "\u001b[0;31m---------------------------------------------------------------------------\u001b[0;32m\nNOTE: If your import is failing due to a missing package, you can\nmanually install dependencies using either !pip or !apt.\n\nTo view examples of installing some common dependencies, click the\n\"Open Examples\" button below.\n\u001b[0;31m---------------------------------------------------------------------------\u001b[0m\n"
          ],
          "errorDetails": {
            "actions": [
              {
                "action": "open_url",
                "actionText": "Open Examples",
                "url": "/notebooks/snippets/importing_libraries.ipynb"
              }
            ]
          }
        }
      ],
      "source": [
        "# As usual, a bit of setup\n",
        "from __future__ import print_function\n",
        "import time\n",
        "import numpy as np\n",
        "import matplotlib.pyplot as plt\n",
        "from ece662.classifiers.fc_net import *\n",
        "from ece662.data_utils import get_CINIC10_data\n",
        "from ece662.gradient_check import eval_numerical_gradient, eval_numerical_gradient_array\n",
        "from ece662.solver import Solver\n",
        "\n",
        "%matplotlib inline\n",
        "plt.rcParams['figure.figsize'] = (10.0, 8.0) # set default size of plots\n",
        "plt.rcParams['image.interpolation'] = 'nearest'\n",
        "plt.rcParams['image.cmap'] = 'gray'\n",
        "\n",
        "# for auto-reloading external modules\n",
        "# see http://stackoverflow.com/questions/1907993/autoreload-of-modules-in-ipython\n",
        "%load_ext autoreload\n",
        "%autoreload 2\n",
        "\n",
        "def rel_error(x, y):\n",
        "  \"\"\" returns relative error \"\"\"\n",
        "  return np.max(np.abs(x - y) / (np.maximum(1e-8, np.abs(x) + np.abs(y))))"
      ]
    },
    {
      "cell_type": "code",
      "source": [
        "def rel_error(x, y):\n",
        "  \"\"\" returns relative error \"\"\"\n",
        "  return np.max(np.abs(x - y) / (np.maximum(1e-8, np.abs(x) + np.abs(y))))"
      ],
      "metadata": {
        "id": "UPb_YcgvOFp2"
      },
      "execution_count": 4,
      "outputs": []
    },
    {
      "cell_type": "code",
      "execution_count": 5,
      "metadata": {
        "id": "8vtJKAmKurmT",
        "tags": [
          "pdf-ignore"
        ],
        "colab": {
          "base_uri": "https://localhost:8080/"
        },
        "outputId": "20a14084-2acc-4918-c35f-bf9093de60df"
      },
      "outputs": [
        {
          "output_type": "stream",
          "name": "stdout",
          "text": [
            "('X_train: ', (53973, 3, 32, 32))\n",
            "('y_train: ', (53973,))\n",
            "('X_val: ', (10195, 3, 32, 32))\n",
            "('y_val: ', (10195,))\n",
            "('X_test: ', (10196, 3, 32, 32))\n",
            "('y_test: ', (10196,))\n",
            "Number of Classes: 6\n"
          ]
        }
      ],
      "source": [
        "# Load the (preprocessed) CINIC10 data - Note that CINIC10 was modified in size for this course\n",
        "data = get_CINIC10_data()\n",
        "for k, v in list(data.items()):\n",
        "  print(('%s: ' % k, v.shape))\n",
        "\n",
        "print('Number of Classes: {}'.format(len(np.unique(data['y_train']))))"
      ]
    },
    {
      "cell_type": "markdown",
      "metadata": {
        "id": "epAQOI3burmZ"
      },
      "source": [
        "# Affine layer: forward\n",
        "Open the file `ece697ls/layers.py` and implement the `affine_forward` function.\n",
        "\n",
        "Once you are done you can test your implementaion by running the following:"
      ]
    },
    {
      "cell_type": "code",
      "source": [
        "def affine_forward(x, w, b):\n",
        "  # Receive inputs x and weights w\n",
        "  N = x.shape[0]                # batch size\n",
        "  # Do some computations ...\n",
        "  z = z = x.reshape(N, -1)  # ... some intermediate value (flatten input into 2D)\n",
        "  # Do some more computations ...\n",
        "  out = z.dot(w) + b # the output (linear transformation)\n",
        "\n",
        "  cache = (x, w, b) # Values we need to compute gradients\n",
        "\n",
        "  return out, cache"
      ],
      "metadata": {
        "id": "hLILqgBvfc2e"
      },
      "execution_count": 6,
      "outputs": []
    },
    {
      "cell_type": "markdown",
      "source": [],
      "metadata": {
        "id": "Bcb3bQ1JbrNf"
      }
    },
    {
      "cell_type": "code",
      "execution_count": 7,
      "metadata": {
        "id": "8I6IIg9Hurma",
        "colab": {
          "base_uri": "https://localhost:8080/"
        },
        "outputId": "09b9f39c-fd30-4bc1-e6d8-07181d5146c1"
      },
      "outputs": [
        {
          "output_type": "stream",
          "name": "stdout",
          "text": [
            "Testing affine_forward function:\n",
            "difference:  9.769849468192957e-10\n"
          ]
        }
      ],
      "source": [
        "# Test the affine_forward function\n",
        "\n",
        "num_inputs = 2\n",
        "input_shape = (4, 5, 6)\n",
        "output_dim = 3\n",
        "\n",
        "input_size = num_inputs * np.prod(input_shape)\n",
        "weight_size = output_dim * np.prod(input_shape)\n",
        "\n",
        "x = np.linspace(-0.1, 0.5, num=input_size).reshape(num_inputs, *input_shape)\n",
        "w = np.linspace(-0.2, 0.3, num=weight_size).reshape(np.prod(input_shape), output_dim)\n",
        "b = np.linspace(-0.3, 0.1, num=output_dim)\n",
        "\n",
        "out, _ = affine_forward(x, w, b)\n",
        "correct_out = np.array([[ 1.49834967,  1.70660132,  1.91485297],\n",
        "                        [ 3.25553199,  3.5141327,   3.77273342]])\n",
        "\n",
        "# Compare your output with ours. The error should be around e-9 or less.\n",
        "print('Testing affine_forward function:')\n",
        "print('difference: ', rel_error(out, correct_out))"
      ]
    },
    {
      "cell_type": "markdown",
      "metadata": {
        "id": "4Iz47beYurme"
      },
      "source": [
        "# Affine layer: backward\n",
        "Now implement the `affine_backward` function and test your implementation using numeric gradient checking."
      ]
    },
    {
      "cell_type": "code",
      "source": [
        "def affine_backward(dout, cache):\n",
        "  # Receive dout (derivative of loss with respect to outputs) and cache, and compute derivative with respect to inputs.\n",
        "  # Unpack cache values\n",
        "  x, w, b = cache\n",
        "  N = x.shape[0]\n",
        "  z = x.reshape(N, -1)\n",
        "  #Gradients calcuations\n",
        "  # Use values in cache to compute derivatives\n",
        "  dx = dout.dot(w.T).reshape(x.shape)      # reshape back to original input shape # Derivative of loss with respect to x\n",
        "  dw = z.T.dot(dout)                       # gradient wrt weights # Derivative of loss with respect to w\n",
        "  db = np.sum(dout, axis=0)                # gradient wrt biases\n",
        "\n",
        "  return dx, dw, db"
      ],
      "metadata": {
        "id": "w1EQqsVEfhRy"
      },
      "execution_count": 8,
      "outputs": []
    },
    {
      "cell_type": "code",
      "execution_count": 9,
      "metadata": {
        "id": "wRq5_6Elurmf",
        "colab": {
          "base_uri": "https://localhost:8080/"
        },
        "outputId": "f5c989cd-72d6-433f-c167-d52701d20616"
      },
      "outputs": [
        {
          "output_type": "stream",
          "name": "stdout",
          "text": [
            "Testing affine_backward function:\n",
            "dx error:  5.399100368651805e-11\n",
            "dw error:  9.904211865398145e-11\n",
            "db error:  2.4122867568119087e-11\n"
          ]
        }
      ],
      "source": [
        "# Test the affine_backward function\n",
        "np.random.seed(231)\n",
        "x = np.random.randn(10, 2, 3)\n",
        "w = np.random.randn(6, 5)\n",
        "b = np.random.randn(5)\n",
        "dout = np.random.randn(10, 5)\n",
        "\n",
        "dx_num = eval_numerical_gradient_array(lambda x: affine_forward(x, w, b)[0], x, dout)\n",
        "dw_num = eval_numerical_gradient_array(lambda w: affine_forward(x, w, b)[0], w, dout)\n",
        "db_num = eval_numerical_gradient_array(lambda b: affine_forward(x, w, b)[0], b, dout)\n",
        "\n",
        "_, cache = affine_forward(x, w, b)\n",
        "dx, dw, db = affine_backward(dout, cache)\n",
        "\n",
        "# The error should be around e-10 or less\n",
        "print('Testing affine_backward function:')\n",
        "print('dx error: ', rel_error(dx_num, dx))\n",
        "print('dw error: ', rel_error(dw_num, dw))\n",
        "print('db error: ', rel_error(db_num, db))"
      ]
    },
    {
      "cell_type": "markdown",
      "metadata": {
        "id": "dr7IrL2murmk"
      },
      "source": [
        "# ReLU activation: forward\n",
        "Implement the forward pass for the ReLU activation function in the `relu_forward` function and test your implementation using the following:"
      ]
    },
    {
      "cell_type": "code",
      "source": [
        "def relu_forward(x):\n",
        "    #Forward pass for a ReLU (Rectified Linear Unit).\n",
        "    out = np.maximum(0, x)   # apply elementwise ReLU\n",
        "    cache = x\n",
        "    return out, cache"
      ],
      "metadata": {
        "id": "xnf3bT3ncd9g"
      },
      "execution_count": 10,
      "outputs": []
    },
    {
      "cell_type": "code",
      "execution_count": 11,
      "metadata": {
        "id": "utWE7vFpurml",
        "colab": {
          "base_uri": "https://localhost:8080/"
        },
        "outputId": "21e50025-4417-4f3c-bfb9-7d2caf4da390"
      },
      "outputs": [
        {
          "output_type": "stream",
          "name": "stdout",
          "text": [
            "Testing relu_forward function:\n",
            "difference:  4.999999798022158e-08\n"
          ]
        }
      ],
      "source": [
        "# Test the relu_forward function\n",
        "\n",
        "x = np.linspace(-0.5, 0.5, num=12).reshape(3, 4)\n",
        "\n",
        "out, _ = relu_forward(x)\n",
        "correct_out = np.array([[ 0.,          0.,          0.,          0.,        ],\n",
        "                        [ 0.,          0.,          0.04545455,  0.13636364,],\n",
        "                        [ 0.22727273,  0.31818182,  0.40909091,  0.5,       ]])\n",
        "\n",
        "# Compare your output with ours. The error should be on the order of e-8\n",
        "print('Testing relu_forward function:')\n",
        "print('difference: ', rel_error(out, correct_out))"
      ]
    },
    {
      "cell_type": "markdown",
      "metadata": {
        "id": "m6m0RslFurmw"
      },
      "source": [
        "# ReLU activation: backward\n",
        "Now implement the backward pass for the ReLU activation function in the `relu_backward` function and test your implementation using numeric gradient checking:"
      ]
    },
    {
      "cell_type": "code",
      "source": [
        "def relu_backward(dout, cache):\n",
        "    #Backward pass for a ReLU.\n",
        "    x = cache\n",
        "    dx = dout * (x > 0)   # only pass gradient where x > 0\n",
        "    return dx\n"
      ],
      "metadata": {
        "id": "MeFYRomXcy8D"
      },
      "execution_count": 12,
      "outputs": []
    },
    {
      "cell_type": "code",
      "execution_count": 13,
      "metadata": {
        "id": "8M6GJoQSurmy",
        "colab": {
          "base_uri": "https://localhost:8080/"
        },
        "outputId": "7339117c-651b-44ab-fef7-76262c014fe7"
      },
      "outputs": [
        {
          "output_type": "stream",
          "name": "stdout",
          "text": [
            "Testing relu_backward function:\n",
            "dx error:  3.2756349136310288e-12\n"
          ]
        }
      ],
      "source": [
        "np.random.seed(231)\n",
        "x = np.random.randn(10, 10)\n",
        "dout = np.random.randn(*x.shape)\n",
        "\n",
        "dx_num = eval_numerical_gradient_array(lambda x: relu_forward(x)[0], x, dout)\n",
        "\n",
        "_, cache = relu_forward(x)\n",
        "dx = relu_backward(dout, cache)\n",
        "\n",
        "# The error should be on the order of e-12\n",
        "print('Testing relu_backward function:')\n",
        "print('dx error: ', rel_error(dx_num, dx))"
      ]
    },
    {
      "cell_type": "markdown",
      "metadata": {
        "id": "aO8e_-SZurm4",
        "tags": [
          "pdf-inline"
        ]
      },
      "source": [
        "## Inline Question 1:\n",
        "\n",
        "We've only asked you to implement ReLU, but there are a number of different activation functions that one could use in neural networks, each with its pros and cons. In particular, an issue commonly seen with activation functions is getting zero (or close to zero) gradient flow during backpropagation. Which of the following activation functions have this problem? If you consider these functions in the one dimensional case, what types of input would lead to this behaviour?\n",
        "1. Sigmoid\n",
        "2. Tanh\n",
        "\n",
        "## Answer:\n",
        "\n",
        "[FILL YOUR ANSWER HERE]\n"
      ]
    },
    {
      "cell_type": "markdown",
      "source": [
        "## Inline Question 2:\n",
        "\n",
        "Why is an activation function required ? Why is a bias required ?\n",
        "\n",
        "## Answer:\n",
        "\n",
        "[FILL YOUR ANSWER HERE]"
      ],
      "metadata": {
        "id": "ggA3VKz4FgZF"
      }
    },
    {
      "cell_type": "markdown",
      "metadata": {
        "id": "nQu1BShUurm5"
      },
      "source": [
        "# \"Sandwich\" layers\n",
        "There are some common patterns of layers that are frequently used in neural nets. For example, affine layers are frequently followed by a ReLU nonlinearity. To make these common patterns easy, we define several convenience layers in the file `ece697ls/layer_utils.py`.\n",
        "\n",
        "For now take a look at the `affine_relu_forward` and `affine_relu_backward` functions, and run the following to numerically gradient check the backward pass:"
      ]
    },
    {
      "cell_type": "code",
      "source": [
        "def affine_relu_forward(x, w, b):\n",
        "    a, fc_cache = affine_forward(x, w, b)\n",
        "    out, relu_cache = relu_forward(a)\n",
        "    cache = (fc_cache, relu_cache)\n",
        "    return out, cache\n"
      ],
      "metadata": {
        "id": "4FJkbldYdxlX"
      },
      "execution_count": 14,
      "outputs": []
    },
    {
      "cell_type": "code",
      "source": [
        "def affine_relu_backward(dout, cache):\n",
        "    fc_cache, relu_cache = cache\n",
        "    da = relu_backward(dout, relu_cache)\n",
        "    dx, dw, db = affine_backward(da, fc_cache)\n",
        "    return dx, dw, db\n"
      ],
      "metadata": {
        "id": "itODVot0erYq"
      },
      "execution_count": 15,
      "outputs": []
    },
    {
      "cell_type": "code",
      "execution_count": 16,
      "metadata": {
        "id": "-03OQYEuurm6",
        "colab": {
          "base_uri": "https://localhost:8080/"
        },
        "outputId": "a9189224-5db6-45bf-8663-ecd3f9c404ee"
      },
      "outputs": [
        {
          "output_type": "stream",
          "name": "stdout",
          "text": [
            "Testing affine_relu_forward and affine_relu_backward:\n",
            "dx error:  2.299579177309368e-11\n",
            "dw error:  8.162011105764925e-11\n",
            "db error:  7.826724021458994e-12\n"
          ]
        }
      ],
      "source": [
        "#from ece662.layer_utils import affine_relu_forward, affine_relu_backward\n",
        "np.random.seed(231)\n",
        "x = np.random.randn(2, 3, 4)\n",
        "w = np.random.randn(12, 10)\n",
        "b = np.random.randn(10)\n",
        "dout = np.random.randn(2, 10)\n",
        "\n",
        "out, cache = affine_relu_forward(x, w, b)\n",
        "dx, dw, db = affine_relu_backward(dout, cache)\n",
        "\n",
        "dx_num = eval_numerical_gradient_array(lambda x: affine_relu_forward(x, w, b)[0], x, dout)\n",
        "dw_num = eval_numerical_gradient_array(lambda w: affine_relu_forward(x, w, b)[0], w, dout)\n",
        "db_num = eval_numerical_gradient_array(lambda b: affine_relu_forward(x, w, b)[0], b, dout)\n",
        "\n",
        "# Relative error should be around e-10 or less\n",
        "print('Testing affine_relu_forward and affine_relu_backward:')\n",
        "print('dx error: ', rel_error(dx_num, dx))\n",
        "print('dw error: ', rel_error(dw_num, dw))\n",
        "print('db error: ', rel_error(db_num, db))"
      ]
    },
    {
      "cell_type": "markdown",
      "metadata": {
        "id": "kT-rMfXnurm-"
      },
      "source": [
        "# Loss layers: Softmax and SVM\n",
        "You implemented these loss functions in the last assignment, so we'll give them to you for free here. You should still make sure you understand how they work by looking at the implementations in `ece697ls/layers.py`.\n",
        "\n",
        "You can make sure that the implementations are correct by running the following:"
      ]
    },
    {
      "cell_type": "code",
      "execution_count": 17,
      "metadata": {
        "id": "SC0Ihz_xurm_",
        "colab": {
          "base_uri": "https://localhost:8080/"
        },
        "outputId": "2f4049c3-04ca-441e-ec6d-dd0620faf5b6"
      },
      "outputs": [
        {
          "output_type": "stream",
          "name": "stdout",
          "text": [
            "Testing svm_loss:\n",
            "loss:  8.999602749096233\n",
            "dx error:  1.4021566006651672e-09\n",
            "\n",
            "Testing softmax_loss:\n",
            "loss:  2.302545844500738\n",
            "dx error:  9.384673161989355e-09\n"
          ]
        }
      ],
      "source": [
        "np.random.seed(231)\n",
        "num_classes, num_inputs = 10, 50\n",
        "x = 0.001 * np.random.randn(num_inputs, num_classes)\n",
        "y = np.random.randint(num_classes, size=num_inputs)\n",
        "\n",
        "dx_num = eval_numerical_gradient(lambda x: svm_loss(x, y)[0], x, verbose=False)\n",
        "loss, dx = svm_loss(x, y)\n",
        "\n",
        "# Test svm_loss function. Loss should be around 9 and dx error should be around the order of e-9\n",
        "print('Testing svm_loss:')\n",
        "print('loss: ', loss)\n",
        "print('dx error: ', rel_error(dx_num, dx))\n",
        "\n",
        "dx_num = eval_numerical_gradient(lambda x: softmax_loss(x, y)[0], x, verbose=False)\n",
        "loss, dx = softmax_loss(x, y)\n",
        "\n",
        "# Test softmax_loss function. Loss should be close to 2.3 and dx error should be around e-8\n",
        "print('\\nTesting softmax_loss:')\n",
        "print('loss: ', loss)\n",
        "print('dx error: ', rel_error(dx_num, dx))"
      ]
    },
    {
      "cell_type": "markdown",
      "metadata": {
        "id": "gWowXqiiurnD"
      },
      "source": [
        "# Two-layer network\n",
        "In the previous assignment you implemented a two-layer neural network in a single monolithic class. Now that you have implemented modular versions of the necessary layers, you will reimplement the two layer network using these modular implementations.\n",
        "\n",
        "Open the file `ece697ls/classifiers/fc_net.py` and complete the implementation of the `TwoLayerNet` class. This class will serve as a model for the other networks you will implement in this assignment, so read through it to make sure you understand the API. You can run the cell below to test your implementation."
      ]
    },
    {
      "cell_type": "code",
      "execution_count": 18,
      "metadata": {
        "id": "6xvHwzJeurnD",
        "colab": {
          "base_uri": "https://localhost:8080/"
        },
        "outputId": "7e5ed10a-00df-4adc-940a-afffdc47dd21"
      },
      "outputs": [
        {
          "output_type": "stream",
          "name": "stdout",
          "text": [
            "Testing initialization ... \n",
            "Testing test-time forward pass ... \n",
            "Testing training loss (no regularization)\n",
            "Running numeric gradient check with reg =  0.0\n",
            "W1 relative error: 1.83e-08\n",
            "W2 relative error: 3.12e-10\n",
            "b1 relative error: 9.83e-09\n",
            "b2 relative error: 4.33e-10\n",
            "Running numeric gradient check with reg =  0.7\n",
            "W1 relative error: 2.53e-07\n",
            "W2 relative error: 2.85e-08\n",
            "b1 relative error: 1.56e-08\n",
            "b2 relative error: 7.76e-10\n"
          ]
        }
      ],
      "source": [
        "np.random.seed(231)\n",
        "N, D, H, C = 3, 5, 50, 7\n",
        "X = np.random.randn(N, D)\n",
        "y = np.random.randint(C, size=N)\n",
        "\n",
        "std = 1e-3\n",
        "model = TwoLayerNet(input_dim=D, hidden_dim=H, num_classes=C, weight_scale=std)\n",
        "\n",
        "print('Testing initialization ... ')\n",
        "W1_std = abs(model.params['W1'].std() - std)\n",
        "b1 = model.params['b1']\n",
        "W2_std = abs(model.params['W2'].std() - std)\n",
        "b2 = model.params['b2']\n",
        "assert W1_std < std / 10, 'First layer weights do not seem right'\n",
        "assert np.all(b1 == 0), 'First layer biases do not seem right'\n",
        "assert W2_std < std / 10, 'Second layer weights do not seem right'\n",
        "assert np.all(b2 == 0), 'Second layer biases do not seem right'\n",
        "\n",
        "print('Testing test-time forward pass ... ')\n",
        "model.params['W1'] = np.linspace(-0.7, 0.3, num=D*H).reshape(D, H)\n",
        "model.params['b1'] = np.linspace(-0.1, 0.9, num=H)\n",
        "model.params['W2'] = np.linspace(-0.3, 0.4, num=H*C).reshape(H, C)\n",
        "model.params['b2'] = np.linspace(-0.9, 0.1, num=C)\n",
        "X = np.linspace(-5.5, 4.5, num=N*D).reshape(D, N).T\n",
        "scores = model.loss(X)\n",
        "correct_scores = np.asarray(\n",
        "  [[11.53165108,  12.2917344,   13.05181771,  13.81190102,  14.57198434, 15.33206765,  16.09215096],\n",
        "   [12.05769098,  12.74614105,  13.43459113,  14.1230412,   14.81149128, 15.49994135,  16.18839143],\n",
        "   [12.58373087,  13.20054771,  13.81736455,  14.43418138,  15.05099822, 15.66781506,  16.2846319 ]])\n",
        "scores_diff = np.abs(scores - correct_scores).sum()\n",
        "assert scores_diff < 1e-6, 'Problem with test-time forward pass'\n",
        "\n",
        "print('Testing training loss (no regularization)')\n",
        "y = np.asarray([0, 5, 1])\n",
        "loss, grads = model.loss(X, y)\n",
        "correct_loss = 3.4702243556\n",
        "assert abs(loss - correct_loss) < 1e-10, 'Problem with training-time loss'\n",
        "\n",
        "model.reg = 1.0\n",
        "loss, grads = model.loss(X, y)\n",
        "correct_loss = 26.5948426952\n",
        "assert abs(loss - correct_loss) < 1e-10, 'Problem with regularization loss'\n",
        "\n",
        "# Errors should be around e-7 or less\n",
        "for reg in [0.0, 0.7]:\n",
        "  print('Running numeric gradient check with reg = ', reg)\n",
        "  model.reg = reg\n",
        "  loss, grads = model.loss(X, y)\n",
        "\n",
        "  for name in sorted(grads):\n",
        "    f = lambda _: model.loss(X, y)[0]\n",
        "    grad_num = eval_numerical_gradient(f, model.params[name], verbose=False)\n",
        "    print('%s relative error: %.2e' % (name, rel_error(grad_num, grads[name])))"
      ]
    },
    {
      "cell_type": "markdown",
      "metadata": {
        "id": "iCVX3fARurnL"
      },
      "source": [
        "# Solver\n",
        "In the previous assignment, the logic for training models was coupled to the models themselves. Following a more modular design, for this assignment we have split the logic for training models into a separate class.\n",
        "\n",
        "Open the file `ece697ls/solver.py` and read through it to familiarize yourself with the API. After doing so, use a `Solver` instance to train a `TwoLayerNet` that achieves at least `40%` accuracy on the validation set."
      ]
    },
    {
      "cell_type": "code",
      "source": [
        "model = TwoLayerNet(hidden_dim=200, reg=1e-3)\n",
        "solver = Solver(\n",
        "    model,\n",
        "    data,\n",
        "    update_rule=\"sgd\",\n",
        "    optim_config={\"learning_rate\": 1e-2},\n",
        "    lr_decay=0.95,\n",
        "    num_epochs=15,\n",
        "    batch_size=100,\n",
        "    print_every=100,\n",
        "    verbose=True,\n",
        ")\n",
        "\n",
        "##############################################################################\n",
        "# TODO: Use a Solver instance to train a TwoLayerNet that achieves at least  #\n",
        "# 50% accuracy on the validation set.                                        #\n",
        "##############################################################################\n",
        "# *****START OF YOUR CODE (DO NOT DELETE/MODIFY THIS LINE)*****\n",
        "\n",
        "#pass\n",
        "solver.train()\n",
        "print(\"Best validation accuracy:\", solver.best_val_acc)\n",
        "\n",
        "# *****END OF YOUR CODE (DO NOT DELETE/MODIFY THIS LINE)*****\n",
        "##############################################################################\n",
        "#                             END OF YOUR CODE                               #\n",
        "##############################################################################"
      ],
      "metadata": {
        "colab": {
          "base_uri": "https://localhost:8080/"
        },
        "id": "KMGz1JG26zIK",
        "outputId": "fb754bf0-8a5a-4875-c4dd-60c5d61fa790"
      },
      "execution_count": null,
      "outputs": [
        {
          "output_type": "stream",
          "name": "stdout",
          "text": [
            "(Iteration 1 / 8085) loss: 2.300413\n",
            "(Epoch 0 / 15) train acc: 0.180000; val_acc: 0.176165\n",
            "(Iteration 101 / 8085) loss: 247858083696369697717546843050410235218760241995540029259082090591318053153073919773863441192269643776.000000\n",
            "(Iteration 201 / 8085) loss: 101751914858641063272424122667528155439831957729206609027868977076229708459819746414702833768291638245756729101448874226072590122987312219717526645945184520732268843836517528843461381843679595331961487360.000000\n",
            "(Iteration 301 / 8085) loss: inf\n",
            "(Iteration 401 / 8085) loss: nan\n",
            "(Iteration 501 / 8085) loss: nan\n",
            "(Epoch 1 / 15) train acc: 0.196000; val_acc: 0.166748\n",
            "(Iteration 601 / 8085) loss: nan\n",
            "(Iteration 701 / 8085) loss: nan\n",
            "(Iteration 801 / 8085) loss: nan\n",
            "(Iteration 901 / 8085) loss: nan\n",
            "(Iteration 1001 / 8085) loss: nan\n",
            "(Epoch 2 / 15) train acc: 0.174000; val_acc: 0.166748\n",
            "(Iteration 1101 / 8085) loss: nan\n",
            "(Iteration 1201 / 8085) loss: nan\n",
            "(Iteration 1301 / 8085) loss: nan\n",
            "(Iteration 1401 / 8085) loss: nan\n",
            "(Iteration 1501 / 8085) loss: nan\n",
            "(Iteration 1601 / 8085) loss: nan\n",
            "(Epoch 3 / 15) train acc: 0.152000; val_acc: 0.166748\n",
            "(Iteration 1701 / 8085) loss: nan\n",
            "(Iteration 1801 / 8085) loss: nan\n",
            "(Iteration 1901 / 8085) loss: nan\n",
            "(Iteration 2001 / 8085) loss: nan\n",
            "(Iteration 2101 / 8085) loss: nan\n",
            "(Epoch 4 / 15) train acc: 0.165000; val_acc: 0.166748\n",
            "(Iteration 2201 / 8085) loss: nan\n",
            "(Iteration 2301 / 8085) loss: nan\n",
            "(Iteration 2401 / 8085) loss: nan\n",
            "(Iteration 2501 / 8085) loss: nan\n",
            "(Iteration 2601 / 8085) loss: nan\n",
            "(Epoch 5 / 15) train acc: 0.157000; val_acc: 0.166748\n",
            "(Iteration 2701 / 8085) loss: nan\n",
            "(Iteration 2801 / 8085) loss: nan\n",
            "(Iteration 2901 / 8085) loss: nan\n",
            "(Iteration 3001 / 8085) loss: nan\n",
            "(Iteration 3101 / 8085) loss: nan\n",
            "(Iteration 3201 / 8085) loss: nan\n",
            "(Epoch 6 / 15) train acc: 0.154000; val_acc: 0.166748\n",
            "(Iteration 3301 / 8085) loss: nan\n",
            "(Iteration 3401 / 8085) loss: nan\n",
            "(Iteration 3501 / 8085) loss: nan\n",
            "(Iteration 3601 / 8085) loss: nan\n",
            "(Iteration 3701 / 8085) loss: nan\n",
            "(Epoch 7 / 15) train acc: 0.171000; val_acc: 0.166748\n",
            "(Iteration 3801 / 8085) loss: nan\n",
            "(Iteration 3901 / 8085) loss: nan\n",
            "(Iteration 4001 / 8085) loss: nan\n",
            "(Iteration 4101 / 8085) loss: nan\n",
            "(Iteration 4201 / 8085) loss: nan\n",
            "(Iteration 4301 / 8085) loss: nan\n",
            "(Epoch 8 / 15) train acc: 0.166000; val_acc: 0.166748\n",
            "(Iteration 4401 / 8085) loss: nan\n",
            "(Iteration 4501 / 8085) loss: nan\n",
            "(Iteration 4601 / 8085) loss: nan\n",
            "(Iteration 4701 / 8085) loss: nan\n",
            "(Iteration 4801 / 8085) loss: nan\n",
            "(Epoch 9 / 15) train acc: 0.151000; val_acc: 0.166748\n",
            "(Iteration 4901 / 8085) loss: nan\n",
            "(Iteration 5001 / 8085) loss: nan\n",
            "(Iteration 5101 / 8085) loss: nan\n",
            "(Iteration 5201 / 8085) loss: nan\n",
            "(Iteration 5301 / 8085) loss: nan\n",
            "(Epoch 10 / 15) train acc: 0.162000; val_acc: 0.166748\n",
            "(Iteration 5401 / 8085) loss: nan\n",
            "(Iteration 5501 / 8085) loss: nan\n",
            "(Iteration 5601 / 8085) loss: nan\n",
            "(Iteration 5701 / 8085) loss: nan\n",
            "(Iteration 5801 / 8085) loss: nan\n",
            "(Iteration 5901 / 8085) loss: nan\n",
            "(Epoch 11 / 15) train acc: 0.138000; val_acc: 0.166748\n",
            "(Iteration 6001 / 8085) loss: nan\n",
            "(Iteration 6101 / 8085) loss: nan\n",
            "(Iteration 6201 / 8085) loss: nan\n",
            "(Iteration 6301 / 8085) loss: nan\n",
            "(Iteration 6401 / 8085) loss: nan\n",
            "(Epoch 12 / 15) train acc: 0.168000; val_acc: 0.166748\n",
            "(Iteration 6501 / 8085) loss: nan\n",
            "(Iteration 6601 / 8085) loss: nan\n",
            "(Iteration 6701 / 8085) loss: nan\n",
            "(Iteration 6801 / 8085) loss: nan\n",
            "(Iteration 6901 / 8085) loss: nan\n",
            "(Iteration 7001 / 8085) loss: nan\n",
            "(Epoch 13 / 15) train acc: 0.174000; val_acc: 0.166748\n",
            "(Iteration 7101 / 8085) loss: nan\n",
            "(Iteration 7201 / 8085) loss: nan\n",
            "(Iteration 7301 / 8085) loss: nan\n",
            "(Iteration 7401 / 8085) loss: nan\n",
            "(Iteration 7501 / 8085) loss: nan\n",
            "(Epoch 14 / 15) train acc: 0.179000; val_acc: 0.166748\n",
            "(Iteration 7601 / 8085) loss: nan\n",
            "(Iteration 7701 / 8085) loss: nan\n",
            "(Iteration 7801 / 8085) loss: nan\n",
            "(Iteration 7901 / 8085) loss: nan\n",
            "(Iteration 8001 / 8085) loss: nan\n",
            "(Epoch 15 / 15) train acc: 0.176000; val_acc: 0.166748\n",
            "Best validation accuracy: 0.17616478666012753\n"
          ]
        }
      ]
    },
    {
      "cell_type": "markdown",
      "source": [
        "The first iteration of solver failed because i didnt take into concideration the weight scale"
      ],
      "metadata": {
        "id": "Ie3j2rm-83XG"
      }
    },
    {
      "cell_type": "code",
      "execution_count": null,
      "metadata": {
        "id": "tln_solver_accuracy",
        "colab": {
          "base_uri": "https://localhost:8080/"
        },
        "outputId": "1172f00a-9494-47c7-e6fa-b75aad9f668e"
      },
      "outputs": [
        {
          "output_type": "stream",
          "name": "stdout",
          "text": [
            "(Iteration 1 / 5390) loss: 4.112518\n",
            "(Epoch 0 / 10) train acc: 0.198000; val_acc: 0.185777\n",
            "(Iteration 101 / 5390) loss: 1.809885\n",
            "(Iteration 201 / 5390) loss: 1.591488\n",
            "(Iteration 301 / 5390) loss: 1.748481\n",
            "(Iteration 401 / 5390) loss: 1.640113\n",
            "(Iteration 501 / 5390) loss: 1.687644\n",
            "(Epoch 1 / 10) train acc: 0.340000; val_acc: 0.323198\n",
            "(Iteration 601 / 5390) loss: 1.637933\n",
            "(Iteration 701 / 5390) loss: 1.537636\n",
            "(Iteration 801 / 5390) loss: 1.594282\n",
            "(Iteration 901 / 5390) loss: 1.558063\n",
            "(Iteration 1001 / 5390) loss: 1.558267\n",
            "(Epoch 2 / 10) train acc: 0.378000; val_acc: 0.341932\n",
            "(Iteration 1101 / 5390) loss: 1.644255\n",
            "(Iteration 1201 / 5390) loss: 1.548509\n",
            "(Iteration 1301 / 5390) loss: 1.595999\n",
            "(Iteration 1401 / 5390) loss: 1.554139\n",
            "(Iteration 1501 / 5390) loss: 1.592642\n",
            "(Iteration 1601 / 5390) loss: 1.564827\n",
            "(Epoch 3 / 10) train acc: 0.395000; val_acc: 0.354782\n",
            "(Iteration 1701 / 5390) loss: 1.543429\n",
            "(Iteration 1801 / 5390) loss: 1.442286\n",
            "(Iteration 1901 / 5390) loss: 1.511873\n",
            "(Iteration 2001 / 5390) loss: 1.514016\n",
            "(Iteration 2101 / 5390) loss: 1.581123\n",
            "(Epoch 4 / 10) train acc: 0.426000; val_acc: 0.372143\n",
            "(Iteration 2201 / 5390) loss: 1.557050\n",
            "(Iteration 2301 / 5390) loss: 1.462328\n",
            "(Iteration 2401 / 5390) loss: 1.547369\n",
            "(Iteration 2501 / 5390) loss: 1.497174\n",
            "(Iteration 2601 / 5390) loss: 1.593916\n",
            "(Epoch 5 / 10) train acc: 0.436000; val_acc: 0.386562\n",
            "(Iteration 2701 / 5390) loss: 1.496667\n",
            "(Iteration 2801 / 5390) loss: 1.517673\n",
            "(Iteration 2901 / 5390) loss: 1.373175\n",
            "(Iteration 3001 / 5390) loss: 1.399692\n",
            "(Iteration 3101 / 5390) loss: 1.395221\n",
            "(Iteration 3201 / 5390) loss: 1.468840\n",
            "(Epoch 6 / 10) train acc: 0.450000; val_acc: 0.379009\n",
            "(Iteration 3301 / 5390) loss: 1.540582\n",
            "(Iteration 3401 / 5390) loss: 1.433004\n",
            "(Iteration 3501 / 5390) loss: 1.485014\n",
            "(Iteration 3601 / 5390) loss: 1.463163\n",
            "(Iteration 3701 / 5390) loss: 1.631122\n",
            "(Epoch 7 / 10) train acc: 0.463000; val_acc: 0.391466\n",
            "(Iteration 3801 / 5390) loss: 1.344792\n",
            "(Iteration 3901 / 5390) loss: 1.347055\n",
            "(Iteration 4001 / 5390) loss: 1.300902\n",
            "(Iteration 4101 / 5390) loss: 1.379864\n",
            "(Iteration 4201 / 5390) loss: 1.494464\n",
            "(Iteration 4301 / 5390) loss: 1.329756\n",
            "(Epoch 8 / 10) train acc: 0.494000; val_acc: 0.400490\n",
            "(Iteration 4401 / 5390) loss: 1.219259\n",
            "(Iteration 4501 / 5390) loss: 1.304397\n",
            "(Iteration 4601 / 5390) loss: 1.378315\n",
            "(Iteration 4701 / 5390) loss: 1.320984\n",
            "(Iteration 4801 / 5390) loss: 1.292904\n",
            "(Epoch 9 / 10) train acc: 0.473000; val_acc: 0.394899\n",
            "(Iteration 4901 / 5390) loss: 1.231367\n",
            "(Iteration 5001 / 5390) loss: 1.397777\n",
            "(Iteration 5101 / 5390) loss: 1.322450\n",
            "(Iteration 5201 / 5390) loss: 1.462274\n",
            "(Iteration 5301 / 5390) loss: 1.252790\n",
            "(Epoch 10 / 10) train acc: 0.530000; val_acc: 0.393624\n",
            "Best validation accuracy: 0.40049043648847477\n"
          ]
        }
      ],
      "source": [
        "model = TwoLayerNet(hidden_dim=100, reg=1e-3, weight_scale=1e-2)\n",
        "solver = Solver(\n",
        "    model,\n",
        "    data,\n",
        "    update_rule=\"sgd\",\n",
        "    optim_config={\"learning_rate\": 1e-3},\n",
        "    lr_decay=0.95,\n",
        "    num_epochs=10,\n",
        "    batch_size=100,\n",
        "    print_every=100,\n",
        "    verbose=True,\n",
        ")\n",
        "\n",
        "##############################################################################\n",
        "# TODO: Use a Solver instance to train a TwoLayerNet that achieves at least  #\n",
        "# 50% accuracy on the validation set.                                        #\n",
        "##############################################################################\n",
        "# *****START OF YOUR CODE (DO NOT DELETE/MODIFY THIS LINE)*****\n",
        "\n",
        "#pass\n",
        "solver.train()\n",
        "print(\"Best validation accuracy:\", solver.best_val_acc)\n",
        "\n",
        "# *****END OF YOUR CODE (DO NOT DELETE/MODIFY THIS LINE)*****\n",
        "##############################################################################\n",
        "#                             END OF YOUR CODE                               #\n",
        "##############################################################################"
      ]
    },
    {
      "cell_type": "markdown",
      "source": [
        "The second try validation accuracy is around 0.400 wihich is approxmatily 40%"
      ],
      "metadata": {
        "id": "d-eIivxJ6heu"
      }
    },
    {
      "cell_type": "code",
      "source": [
        "model = TwoLayerNet(hidden_dim=300, reg=1e-4, weight_scale=1e-3)\n",
        "solver = Solver(\n",
        "    model,\n",
        "    data,\n",
        "    update_rule=\"sgd\",\n",
        "    optim_config={\"learning_rate\": 5e-4},\n",
        "    lr_decay=0.98,\n",
        "    num_epochs=20,\n",
        "    batch_size=100,\n",
        "    print_every=100,\n",
        "    verbose=True,\n",
        ")\n",
        "\n",
        "##############################################################################\n",
        "# TODO: Use a Solver instance to train a TwoLayerNet that achieves at least  #\n",
        "# 50% accuracy on the validation set.                                        #\n",
        "##############################################################################\n",
        "# *****START OF YOUR CODE (DO NOT DELETE/MODIFY THIS LINE)*****\n",
        "\n",
        "#pass\n",
        "solver.train()\n",
        "print(\"Best validation accuracy:\", solver.best_val_acc)\n",
        "\n",
        "# *****END OF YOUR CODE (DO NOT DELETE/MODIFY THIS LINE)*****\n",
        "##############################################################################\n",
        "#                             END OF YOUR CODE                               #\n",
        "##############################################################################"
      ],
      "metadata": {
        "colab": {
          "base_uri": "https://localhost:8080/"
        },
        "id": "vOtkLU1i6cmX",
        "outputId": "d79fc358-f3fc-422b-e0d3-1d1f623d480c"
      },
      "execution_count": 19,
      "outputs": [
        {
          "output_type": "stream",
          "name": "stdout",
          "text": [
            "(Iteration 1 / 10780) loss: 2.301076\n",
            "(Epoch 0 / 20) train acc: 0.182000; val_acc: 0.185974\n",
            "(Iteration 101 / 10780) loss: 1.663323\n",
            "(Iteration 201 / 10780) loss: 1.702053\n",
            "(Iteration 301 / 10780) loss: 1.613003\n",
            "(Iteration 401 / 10780) loss: 1.530345\n",
            "(Iteration 501 / 10780) loss: 1.574250\n",
            "(Epoch 1 / 20) train acc: 0.396000; val_acc: 0.376655\n",
            "(Iteration 601 / 10780) loss: 1.532643\n",
            "(Iteration 701 / 10780) loss: 1.475506\n",
            "(Iteration 801 / 10780) loss: 1.529662\n",
            "(Iteration 901 / 10780) loss: 1.274661\n",
            "(Iteration 1001 / 10780) loss: 1.381730\n",
            "(Epoch 2 / 20) train acc: 0.426000; val_acc: 0.398921\n",
            "(Iteration 1101 / 10780) loss: 1.495540\n",
            "(Iteration 1201 / 10780) loss: 1.449261\n",
            "(Iteration 1301 / 10780) loss: 1.561888\n",
            "(Iteration 1401 / 10780) loss: 1.386706\n",
            "(Iteration 1501 / 10780) loss: 1.473795\n",
            "(Iteration 1601 / 10780) loss: 1.352337\n",
            "(Epoch 3 / 20) train acc: 0.456000; val_acc: 0.396959\n",
            "(Iteration 1701 / 10780) loss: 1.455566\n",
            "(Iteration 1801 / 10780) loss: 1.483119\n",
            "(Iteration 1901 / 10780) loss: 1.372112\n",
            "(Iteration 2001 / 10780) loss: 1.483908\n",
            "(Iteration 2101 / 10780) loss: 1.255909\n",
            "(Epoch 4 / 20) train acc: 0.462000; val_acc: 0.399411\n",
            "(Iteration 2201 / 10780) loss: 1.293706\n",
            "(Iteration 2301 / 10780) loss: 1.425065\n",
            "(Iteration 2401 / 10780) loss: 1.413966\n",
            "(Iteration 2501 / 10780) loss: 1.304652\n",
            "(Iteration 2601 / 10780) loss: 1.413689\n",
            "(Epoch 5 / 20) train acc: 0.498000; val_acc: 0.412261\n",
            "(Iteration 2701 / 10780) loss: 1.242481\n",
            "(Iteration 2801 / 10780) loss: 1.294848\n",
            "(Iteration 2901 / 10780) loss: 1.249822\n",
            "(Iteration 3001 / 10780) loss: 1.312022\n",
            "(Iteration 3101 / 10780) loss: 1.298140\n",
            "(Iteration 3201 / 10780) loss: 1.497131\n",
            "(Epoch 6 / 20) train acc: 0.482000; val_acc: 0.424228\n",
            "(Iteration 3301 / 10780) loss: 1.293790\n",
            "(Iteration 3401 / 10780) loss: 1.226947\n",
            "(Iteration 3501 / 10780) loss: 1.354641\n",
            "(Iteration 3601 / 10780) loss: 1.274155\n",
            "(Iteration 3701 / 10780) loss: 1.248494\n",
            "(Epoch 7 / 20) train acc: 0.519000; val_acc: 0.412163\n",
            "(Iteration 3801 / 10780) loss: 1.515917\n",
            "(Iteration 3901 / 10780) loss: 1.318262\n",
            "(Iteration 4001 / 10780) loss: 1.182485\n",
            "(Iteration 4101 / 10780) loss: 1.123861\n",
            "(Iteration 4201 / 10780) loss: 1.174681\n",
            "(Iteration 4301 / 10780) loss: 1.278978\n",
            "(Epoch 8 / 20) train acc: 0.526000; val_acc: 0.418538\n",
            "(Iteration 4401 / 10780) loss: 1.078260\n",
            "(Iteration 4501 / 10780) loss: 1.044485\n",
            "(Iteration 4601 / 10780) loss: 1.157019\n",
            "(Iteration 4701 / 10780) loss: 1.186889\n",
            "(Iteration 4801 / 10780) loss: 1.337634\n",
            "(Epoch 9 / 20) train acc: 0.537000; val_acc: 0.413242\n",
            "(Iteration 4901 / 10780) loss: 1.110030\n",
            "(Iteration 5001 / 10780) loss: 1.154338\n",
            "(Iteration 5101 / 10780) loss: 1.089711\n",
            "(Iteration 5201 / 10780) loss: 1.235225\n",
            "(Iteration 5301 / 10780) loss: 1.351342\n",
            "(Epoch 10 / 20) train acc: 0.559000; val_acc: 0.410888\n",
            "(Iteration 5401 / 10780) loss: 1.197671\n",
            "(Iteration 5501 / 10780) loss: 1.292423\n",
            "(Iteration 5601 / 10780) loss: 1.025886\n",
            "(Iteration 5701 / 10780) loss: 1.110469\n",
            "(Iteration 5801 / 10780) loss: 1.187033\n",
            "(Iteration 5901 / 10780) loss: 1.069396\n",
            "(Epoch 11 / 20) train acc: 0.573000; val_acc: 0.419519\n",
            "(Iteration 6001 / 10780) loss: 1.173046\n",
            "(Iteration 6101 / 10780) loss: 1.271784\n",
            "(Iteration 6201 / 10780) loss: 1.029340\n",
            "(Iteration 6301 / 10780) loss: 1.191729\n",
            "(Iteration 6401 / 10780) loss: 1.106079\n",
            "(Epoch 12 / 20) train acc: 0.568000; val_acc: 0.420206\n",
            "(Iteration 6501 / 10780) loss: 1.038304\n",
            "(Iteration 6601 / 10780) loss: 1.153674\n",
            "(Iteration 6701 / 10780) loss: 1.287178\n",
            "(Iteration 6801 / 10780) loss: 1.154890\n",
            "(Iteration 6901 / 10780) loss: 1.167009\n",
            "(Iteration 7001 / 10780) loss: 1.142524\n",
            "(Epoch 13 / 20) train acc: 0.595000; val_acc: 0.414615\n",
            "(Iteration 7101 / 10780) loss: 1.089991\n",
            "(Iteration 7201 / 10780) loss: 1.185014\n",
            "(Iteration 7301 / 10780) loss: 0.990165\n",
            "(Iteration 7401 / 10780) loss: 1.115229\n",
            "(Iteration 7501 / 10780) loss: 1.099975\n",
            "(Epoch 14 / 20) train acc: 0.565000; val_acc: 0.417361\n",
            "(Iteration 7601 / 10780) loss: 0.968837\n",
            "(Iteration 7701 / 10780) loss: 1.059838\n",
            "(Iteration 7801 / 10780) loss: 1.090064\n",
            "(Iteration 7901 / 10780) loss: 1.089070\n",
            "(Iteration 8001 / 10780) loss: 1.107518\n",
            "(Epoch 15 / 20) train acc: 0.626000; val_acc: 0.414615\n",
            "(Iteration 8101 / 10780) loss: 1.137175\n",
            "(Iteration 8201 / 10780) loss: 1.044993\n",
            "(Iteration 8301 / 10780) loss: 1.075658\n",
            "(Iteration 8401 / 10780) loss: 1.035240\n",
            "(Iteration 8501 / 10780) loss: 1.150852\n",
            "(Iteration 8601 / 10780) loss: 0.951607\n",
            "(Epoch 16 / 20) train acc: 0.614000; val_acc: 0.401569\n",
            "(Iteration 8701 / 10780) loss: 1.029324\n",
            "(Iteration 8801 / 10780) loss: 1.010976\n",
            "(Iteration 8901 / 10780) loss: 1.076910\n",
            "(Iteration 9001 / 10780) loss: 1.134047\n",
            "(Iteration 9101 / 10780) loss: 1.008505\n",
            "(Epoch 17 / 20) train acc: 0.626000; val_acc: 0.420206\n",
            "(Iteration 9201 / 10780) loss: 0.853719\n",
            "(Iteration 9301 / 10780) loss: 1.024613\n",
            "(Iteration 9401 / 10780) loss: 1.097210\n",
            "(Iteration 9501 / 10780) loss: 1.078177\n",
            "(Iteration 9601 / 10780) loss: 1.011006\n",
            "(Iteration 9701 / 10780) loss: 0.943586\n",
            "(Epoch 18 / 20) train acc: 0.633000; val_acc: 0.419421\n",
            "(Iteration 9801 / 10780) loss: 1.006102\n",
            "(Iteration 9901 / 10780) loss: 0.912220\n",
            "(Iteration 10001 / 10780) loss: 1.029605\n",
            "(Iteration 10101 / 10780) loss: 1.102663\n",
            "(Iteration 10201 / 10780) loss: 1.028898\n",
            "(Epoch 19 / 20) train acc: 0.657000; val_acc: 0.428445\n",
            "(Iteration 10301 / 10780) loss: 0.905879\n",
            "(Iteration 10401 / 10780) loss: 0.861026\n",
            "(Iteration 10501 / 10780) loss: 0.924438\n",
            "(Iteration 10601 / 10780) loss: 0.752199\n",
            "(Iteration 10701 / 10780) loss: 0.914484\n",
            "(Epoch 20 / 20) train acc: 0.660000; val_acc: 0.426974\n",
            "Best validation accuracy: 0.42844531633153504\n"
          ]
        }
      ]
    },
    {
      "cell_type": "markdown",
      "source": [
        "Third try validiation is around 43% by changing a few parameters and a hidden dim of 300"
      ],
      "metadata": {
        "id": "pXndDuU37hRX"
      }
    },
    {
      "cell_type": "code",
      "execution_count": 20,
      "metadata": {
        "id": "95cv7UHTurnR",
        "colab": {
          "base_uri": "https://localhost:8080/",
          "height": 1000
        },
        "outputId": "ca05486d-b0a2-4ece-bb01-b4902d5a44c2"
      },
      "outputs": [
        {
          "output_type": "display_data",
          "data": {
            "text/plain": [
              "<Figure size 1500x1200 with 2 Axes>"
            ],
            "image/png": "[encoded data removed]"
          },
          "metadata": {}
        }
      ],
      "source": [
        "# Run this cell to visualize training loss and train / val accuracy\n",
        "\n",
        "plt.subplot(2, 1, 1)\n",
        "plt.title('Training loss')\n",
        "plt.plot(solver.loss_history, 'o')\n",
        "plt.xlabel('Iteration')\n",
        "\n",
        "plt.subplot(2, 1, 2)\n",
        "plt.title('Accuracy')\n",
        "plt.plot(solver.train_acc_history, '-o', label='train')\n",
        "plt.plot(solver.val_acc_history, '-o', label='val')\n",
        "plt.plot([0.5] * len(solver.val_acc_history), 'k--')\n",
        "plt.xlabel('Epoch')\n",
        "plt.legend(loc='lower right')\n",
        "plt.gcf().set_size_inches(15, 12)\n",
        "plt.show()"
      ]
    },
    {
      "cell_type": "markdown",
      "metadata": {
        "id": "vovfYCvPurnV"
      },
      "source": [
        "# Multilayer network\n",
        "Next you will implement a fully-connected network with an arbitrary number of hidden layers.\n",
        "\n",
        "Read through the `FullyConnectedNet` class in the file `ece697ls/classifiers/fc_net.py`.\n",
        "\n",
        "Implement the initialization, the forward pass, and the backward pass. For the moment don't worry about implementing dropout or batch/layer normalization; we will add those features soon."
      ]
    },
    {
      "cell_type": "markdown",
      "metadata": {
        "id": "LxCyqqDYurnX"
      },
      "source": [
        "## Initial loss and gradient check\n",
        "\n",
        "As a sanity check, run the following to check the initial loss and to gradient check the network both with and without regularization. Do the initial losses seem reasonable?\n",
        "\n",
        "For gradient checking, you should expect to see errors around 1e-7 or less."
      ]
    },
    {
      "cell_type": "code",
      "execution_count": null,
      "metadata": {
        "id": "RXvPP2LNurnY",
        "colab": {
          "base_uri": "https://localhost:8080/",
          "height": 382
        },
        "outputId": "e5ba3044-5bf7-46a2-953e-507250fb7162"
      },
      "outputs": [
        {
          "output_type": "stream",
          "name": "stdout",
          "text": [
            "Running check with reg =  0\n"
          ]
        },
        {
          "output_type": "error",
          "ename": "ValueError",
          "evalue": "operands could not be broadcast together with shapes (2,30) (2,20) ",
          "traceback": [
            "\u001b[0;31m---------------------------------------------------------------------------\u001b[0m",
            "\u001b[0;31mValueError\u001b[0m                                Traceback (most recent call last)",
            "\u001b[0;32m/tmp/ipython-input-1236102307.py\u001b[0m in \u001b[0;36m<cell line: 0>\u001b[0;34m()\u001b[0m\n\u001b[1;32m      9\u001b[0m                             reg=reg, weight_scale=5e-2, dtype=np.float64)\n\u001b[1;32m     10\u001b[0m \u001b[0;34m\u001b[0m\u001b[0m\n\u001b[0;32m---> 11\u001b[0;31m   \u001b[0mloss\u001b[0m\u001b[0;34m,\u001b[0m \u001b[0mgrads\u001b[0m \u001b[0;34m=\u001b[0m \u001b[0mmodel\u001b[0m\u001b[0;34m.\u001b[0m\u001b[0mloss\u001b[0m\u001b[0;34m(\u001b[0m\u001b[0mX\u001b[0m\u001b[0;34m,\u001b[0m \u001b[0my\u001b[0m\u001b[0;34m)\u001b[0m\u001b[0;34m\u001b[0m\u001b[0;34m\u001b[0m\u001b[0m\n\u001b[0m\u001b[1;32m     12\u001b[0m   \u001b[0mprint\u001b[0m\u001b[0;34m(\u001b[0m\u001b[0;34m'Initial loss: '\u001b[0m\u001b[0;34m,\u001b[0m \u001b[0mloss\u001b[0m\u001b[0;34m)\u001b[0m\u001b[0;34m\u001b[0m\u001b[0;34m\u001b[0m\u001b[0m\n\u001b[1;32m     13\u001b[0m \u001b[0;34m\u001b[0m\u001b[0m\n",
            "\u001b[0;32m/content/drive/My Drive/ML/Lab1/assignment1/ece662/classifiers/fc_net.py\u001b[0m in \u001b[0;36mloss\u001b[0;34m(self, X, y)\u001b[0m\n\u001b[1;32m    350\u001b[0m             \u001b[0;32melse\u001b[0m\u001b[0;34m:\u001b[0m\u001b[0;34m\u001b[0m\u001b[0;34m\u001b[0m\u001b[0m\n\u001b[1;32m    351\u001b[0m                 \u001b[0mfc_cache\u001b[0m\u001b[0;34m,\u001b[0m \u001b[0mrelu_cache\u001b[0m \u001b[0;34m=\u001b[0m \u001b[0mcaches\u001b[0m\u001b[0;34m[\u001b[0m\u001b[0mi\u001b[0m\u001b[0;34m]\u001b[0m\u001b[0;34m\u001b[0m\u001b[0;34m\u001b[0m\u001b[0m\n\u001b[0;32m--> 352\u001b[0;31m             \u001b[0mdout\u001b[0m \u001b[0;34m=\u001b[0m \u001b[0mrelu_backward\u001b[0m\u001b[0;34m(\u001b[0m\u001b[0mdout\u001b[0m\u001b[0;34m,\u001b[0m \u001b[0mrelu_cache\u001b[0m\u001b[0;34m)\u001b[0m\u001b[0;34m\u001b[0m\u001b[0;34m\u001b[0m\u001b[0m\n\u001b[0m\u001b[1;32m    353\u001b[0m             \u001b[0;32mif\u001b[0m \u001b[0mself\u001b[0m\u001b[0;34m.\u001b[0m\u001b[0mnormalization\u001b[0m \u001b[0;34m==\u001b[0m \u001b[0;34m\"batchnorm\"\u001b[0m\u001b[0;34m:\u001b[0m\u001b[0;34m\u001b[0m\u001b[0;34m\u001b[0m\u001b[0m\n\u001b[1;32m    354\u001b[0m                 \u001b[0mfc_cache\u001b[0m\u001b[0;34m,\u001b[0m \u001b[0mbn_cache\u001b[0m \u001b[0;34m=\u001b[0m \u001b[0mfc_cache\u001b[0m\u001b[0;34m\u001b[0m\u001b[0;34m\u001b[0m\u001b[0m\n",
            "\u001b[0;32m/content/drive/My Drive/ML/Lab1/assignment1/ece662/layers.py\u001b[0m in \u001b[0;36mrelu_backward\u001b[0;34m(dout, cache)\u001b[0m\n\u001b[1;32m    133\u001b[0m     \u001b[0;31m#pass\u001b[0m\u001b[0;34m\u001b[0m\u001b[0;34m\u001b[0m\u001b[0m\n\u001b[1;32m    134\u001b[0m     \u001b[0mx\u001b[0m \u001b[0;34m=\u001b[0m \u001b[0mcache\u001b[0m\u001b[0;34m\u001b[0m\u001b[0;34m\u001b[0m\u001b[0m\n\u001b[0;32m--> 135\u001b[0;31m     \u001b[0mdx\u001b[0m \u001b[0;34m=\u001b[0m \u001b[0mdout\u001b[0m \u001b[0;34m*\u001b[0m \u001b[0;34m(\u001b[0m\u001b[0mx\u001b[0m \u001b[0;34m>\u001b[0m \u001b[0;36m0\u001b[0m\u001b[0;34m)\u001b[0m   \u001b[0;31m# only pass gradient where x > 0\u001b[0m\u001b[0;34m\u001b[0m\u001b[0;34m\u001b[0m\u001b[0m\n\u001b[0m\u001b[1;32m    136\u001b[0m \u001b[0;34m\u001b[0m\u001b[0m\n\u001b[1;32m    137\u001b[0m     \u001b[0;31m# *****END OF YOUR CODE (DO NOT DELETE/MODIFY THIS LINE)*****\u001b[0m\u001b[0;34m\u001b[0m\u001b[0;34m\u001b[0m\u001b[0m\n",
            "\u001b[0;31mValueError\u001b[0m: operands could not be broadcast together with shapes (2,30) (2,20) "
          ]
        }
      ],
      "source": [
        "np.random.seed(231)\n",
        "N, D, H1, H2, C = 2, 15, 20, 30, 10\n",
        "X = np.random.randn(N, D)\n",
        "y = np.random.randint(C, size=(N,))\n",
        "\n",
        "for reg in [0, 3.14]:\n",
        "  print('Running check with reg = ', reg)\n",
        "  model = FullyConnectedNet([H1, H2], input_dim=D, num_classes=C,\n",
        "                            reg=reg, weight_scale=5e-2, dtype=np.float64)\n",
        "\n",
        "  loss, grads = model.loss(X, y)\n",
        "  print('Initial loss: ', loss)\n",
        "\n",
        "  # Most of the errors should be on the order of e-7 or smaller.\n",
        "  # NOTE: It is fine however to see an error for W2 on the order of e-5\n",
        "  # for the check when reg = 0.0\n",
        "  for name in sorted(grads):\n",
        "    f = lambda _: model.loss(X, y)[0]\n",
        "    grad_num = eval_numerical_gradient(f, model.params[name], verbose=False, h=1e-5)\n",
        "    print('%s relative error: %.2e' % (name, rel_error(grad_num, grads[name])))"
      ]
    },
    {
      "cell_type": "markdown",
      "metadata": {
        "id": "_JjeTaaWurnc"
      },
      "source": [
        "As another sanity check, make sure you can overfit a small dataset of 50 images. First we will try a three-layer network with 100 units in each hidden layer. In the following cell, tweak the **learning rate** and **weight initialization scale** to overfit and achieve 90+% training accuracy within 20 epochs."
      ]
    },
    {
      "cell_type": "code",
      "execution_count": null,
      "metadata": {
        "id": "raCmpCjHurnd",
        "scrolled": false
      },
      "outputs": [],
      "source": [
        "# TODO: Use a three-layer Net to overfit 50 training examples by\n",
        "# tweaking just the learning rate and initialization scale.\n",
        "\n",
        "num_train = 50\n",
        "small_data = {\n",
        "  'X_train': data['X_train'][:num_train],\n",
        "  'y_train': data['y_train'][:num_train],\n",
        "  'X_val': data['X_val'],\n",
        "  'y_val': data['y_val'],\n",
        "}\n",
        "\n",
        "weight_scale = 1e-2   # Experiment with this!\n",
        "learning_rate = 1e-2  # Experiment with this!\n",
        "model = FullyConnectedNet([100, 100],\n",
        "              weight_scale=weight_scale, dtype=np.float64, num_classes=6)\n",
        "solver = Solver(model, small_data,\n",
        "                print_every=10, num_epochs=20, batch_size=25,\n",
        "                update_rule='sgd',\n",
        "                optim_config={\n",
        "                  'learning_rate': learning_rate,\n",
        "                }\n",
        "         )\n",
        "solver.train()\n",
        "\n",
        "plt.plot(solver.loss_history, 'o')\n",
        "plt.title('Training loss history')\n",
        "plt.xlabel('Iteration')\n",
        "plt.ylabel('Training loss')\n",
        "plt.show()"
      ]
    },
    {
      "cell_type": "markdown",
      "metadata": {
        "id": "zkAtG77Purnh"
      },
      "source": [
        "Now try to use a five-layer network with 100 units on each layer to overfit 50 training examples. Again, you will have to adjust the learning rate and weight initialization scale, but you should be able to achieve 100% training accuracy within 20 epochs."
      ]
    },
    {
      "cell_type": "code",
      "execution_count": null,
      "metadata": {
        "id": "kGnvPaXQurni"
      },
      "outputs": [],
      "source": [
        "# TODO: Use a five-layer Net to overfit 50 training examples by\n",
        "# tweaking just the learning rate and initialization scale.\n",
        "\n",
        "num_train = 50\n",
        "small_data = {\n",
        "  'X_train': data['X_train'][:num_train],\n",
        "  'y_train': data['y_train'][:num_train],\n",
        "  'X_val': data['X_val'],\n",
        "  'y_val': data['y_val'],\n",
        "}\n",
        "\n",
        "learning_rate = 2e-1  # Experiment with this!\n",
        "weight_scale = 1e-5   # Experiment with this!\n",
        "model = FullyConnectedNet([100, 100, 100, 100],\n",
        "                weight_scale=weight_scale, dtype=np.float64)\n",
        "solver = Solver(model, small_data,\n",
        "                print_every=10, num_epochs=20, batch_size=25,\n",
        "                update_rule='sgd',\n",
        "                optim_config={\n",
        "                  'learning_rate': learning_rate,\n",
        "                }\n",
        "         )\n",
        "solver.train()\n",
        "\n",
        "plt.plot(solver.loss_history, 'o')\n",
        "plt.title('Training loss history')\n",
        "plt.xlabel('Iteration')\n",
        "plt.ylabel('Training loss')\n",
        "plt.show()"
      ]
    },
    {
      "cell_type": "markdown",
      "metadata": {
        "id": "aTqAsr93urnp",
        "tags": [
          "pdf-inline"
        ]
      },
      "source": [
        "## Inline Question 3:\n",
        "Why would you need multi-layer networks ? Will stacking several layers without activation functions be able to model complex problems ?\n",
        "\n",
        "## Answer:\n",
        "\n",
        "[FILL YOUR ANSWER HERE]"
      ]
    },
    {
      "cell_type": "markdown",
      "metadata": {
        "id": "sVcEwKFDurnq"
      },
      "source": [
        "# Update rules\n",
        "So far we have used vanilla stochastic gradient descent (SGD) as our update rule. More sophisticated update rules can make it easier to train deep networks. We will implement a few of the most commonly used update rules and compare them to vanilla SGD."
      ]
    },
    {
      "cell_type": "markdown",
      "metadata": {
        "id": "47hFBM9Eurnr"
      },
      "source": [
        "# SGD+Momentum\n",
        "Stochastic gradient descent with momentum is a widely used update rule that tends to make deep networks converge faster than vanilla stochastic gradient descent.\n",
        "\n",
        "Open the file `ece697ls/optim.py` and read the documentation at the top of the file to make sure you understand the API. Implement the SGD+momentum update rule in the function `sgd_momentum` and run the following to check your implementation. You should see errors less than e-8."
      ]
    },
    {
      "cell_type": "code",
      "execution_count": null,
      "metadata": {
        "id": "CluxdPf3urnr"
      },
      "outputs": [],
      "source": [
        "from ece697ls.optim import sgd_momentum\n",
        "\n",
        "N, D = 4, 5\n",
        "w = np.linspace(-0.4, 0.6, num=N*D).reshape(N, D)\n",
        "dw = np.linspace(-0.6, 0.4, num=N*D).reshape(N, D)\n",
        "v = np.linspace(0.6, 0.9, num=N*D).reshape(N, D)\n",
        "\n",
        "config = {'learning_rate': 1e-3, 'velocity': v}\n",
        "next_w, _ = sgd_momentum(w, dw, config=config)\n",
        "\n",
        "expected_next_w = np.asarray([\n",
        "  [ 0.1406,      0.20738947,  0.27417895,  0.34096842,  0.40775789],\n",
        "  [ 0.47454737,  0.54133684,  0.60812632,  0.67491579,  0.74170526],\n",
        "  [ 0.80849474,  0.87528421,  0.94207368,  1.00886316,  1.07565263],\n",
        "  [ 1.14244211,  1.20923158,  1.27602105,  1.34281053,  1.4096    ]])\n",
        "expected_velocity = np.asarray([\n",
        "  [ 0.5406,      0.55475789,  0.56891579, 0.58307368,  0.59723158],\n",
        "  [ 0.61138947,  0.62554737,  0.63970526,  0.65386316,  0.66802105],\n",
        "  [ 0.68217895,  0.69633684,  0.71049474,  0.72465263,  0.73881053],\n",
        "  [ 0.75296842,  0.76712632,  0.78128421,  0.79544211,  0.8096    ]])\n",
        "\n",
        "# Should see relative errors around e-8 or less\n",
        "print('next_w error: ', rel_error(next_w, expected_next_w))\n",
        "print('velocity error: ', rel_error(expected_velocity, config['velocity']))"
      ]
    },
    {
      "cell_type": "markdown",
      "metadata": {
        "id": "XPqf_IFsurnw"
      },
      "source": [
        "Once you have done so, run the following to train a six-layer network with both SGD and SGD+momentum. You should see the SGD+momentum update rule converge faster."
      ]
    },
    {
      "cell_type": "code",
      "execution_count": null,
      "metadata": {
        "id": "xsPyHamXurnx",
        "scrolled": false
      },
      "outputs": [],
      "source": [
        "num_train = 4000\n",
        "small_data = {\n",
        "  'X_train': data['X_train'][:num_train],\n",
        "  'y_train': data['y_train'][:num_train],\n",
        "  'X_val': data['X_val'],\n",
        "  'y_val': data['y_val'],\n",
        "}\n",
        "\n",
        "solvers = {}\n",
        "\n",
        "for update_rule in ['sgd', 'sgd_momentum']:\n",
        "  print('running with ', update_rule)\n",
        "  model = FullyConnectedNet([100, 100, 100, 100, 100], weight_scale=5e-2, num_classes=6)\n",
        "\n",
        "  solver = Solver(model, small_data,\n",
        "                  num_epochs=5, batch_size=100,\n",
        "                  update_rule=update_rule,\n",
        "                  optim_config={\n",
        "                    'learning_rate': 5e-3,\n",
        "                  },\n",
        "                  verbose=True)\n",
        "  solvers[update_rule] = solver\n",
        "  solver.train()\n",
        "  print()\n",
        "\n",
        "plt.subplot(3, 1, 1)\n",
        "plt.title('Training loss')\n",
        "plt.xlabel('Iteration')\n",
        "\n",
        "plt.subplot(3, 1, 2)\n",
        "plt.title('Training accuracy')\n",
        "plt.xlabel('Epoch')\n",
        "\n",
        "plt.subplot(3, 1, 3)\n",
        "plt.title('Validation accuracy')\n",
        "plt.xlabel('Epoch')\n",
        "\n",
        "for update_rule, solver in solvers.items():\n",
        "  plt.subplot(3, 1, 1)\n",
        "  plt.plot(solver.loss_history, 'o', label=\"loss_%s\" % update_rule)\n",
        "\n",
        "  plt.subplot(3, 1, 2)\n",
        "  plt.plot(solver.train_acc_history, '-o', label=\"train_acc_%s\" % update_rule)\n",
        "\n",
        "  plt.subplot(3, 1, 3)\n",
        "  plt.plot(solver.val_acc_history, '-o', label=\"val_acc_%s\" % update_rule)\n",
        "\n",
        "for i in [1, 2, 3]:\n",
        "  plt.subplot(3, 1, i)\n",
        "  plt.legend(loc='upper center', ncol=4)\n",
        "plt.gcf().set_size_inches(15, 15)\n",
        "plt.show()"
      ]
    },
    {
      "cell_type": "markdown",
      "metadata": {
        "id": "AbZEz9nrurn1"
      },
      "source": [
        "# RMSProp and Adam\n",
        "RMSProp [1] and Adam [2] are update rules that set per-parameter learning rates by using a running average of the second moments of gradients.\n",
        "\n",
        "In the file `ece697ls/optim.py`, implement the RMSProp update rule in the `rmsprop` function and implement the Adam update rule in the `adam` function, and check your implementations using the tests below.\n",
        "\n",
        "**NOTE:** Please implement the _complete_ Adam update rule (with the bias correction mechanism), not the first simplified version mentioned in the course notes.\n",
        "\n",
        "[1] Tijmen Tieleman and Geoffrey Hinton. \"Lecture 6.5-rmsprop: Divide the gradient by a running average of its recent magnitude.\" COURSERA: Neural Networks for Machine Learning 4 (2012).\n",
        "\n",
        "[2] Diederik Kingma and Jimmy Ba, \"Adam: A Method for Stochastic Optimization\", ICLR 2015."
      ]
    },
    {
      "cell_type": "code",
      "execution_count": null,
      "metadata": {
        "id": "6gzErhx-urn2"
      },
      "outputs": [],
      "source": [
        "# Test RMSProp implementation\n",
        "from ece697ls.optim import rmsprop\n",
        "\n",
        "N, D = 4, 5\n",
        "w = np.linspace(-0.4, 0.6, num=N*D).reshape(N, D)\n",
        "dw = np.linspace(-0.6, 0.4, num=N*D).reshape(N, D)\n",
        "cache = np.linspace(0.6, 0.9, num=N*D).reshape(N, D)\n",
        "\n",
        "config = {'learning_rate': 1e-2, 'cache': cache}\n",
        "next_w, _ = rmsprop(w, dw, config=config)\n",
        "\n",
        "expected_next_w = np.asarray([\n",
        "  [-0.39223849, -0.34037513, -0.28849239, -0.23659121, -0.18467247],\n",
        "  [-0.132737,   -0.08078555, -0.02881884,  0.02316247,  0.07515774],\n",
        "  [ 0.12716641,  0.17918792,  0.23122175,  0.28326742,  0.33532447],\n",
        "  [ 0.38739248,  0.43947102,  0.49155973,  0.54365823,  0.59576619]])\n",
        "expected_cache = np.asarray([\n",
        "  [ 0.5976,      0.6126277,   0.6277108,   0.64284931,  0.65804321],\n",
        "  [ 0.67329252,  0.68859723,  0.70395734,  0.71937285,  0.73484377],\n",
        "  [ 0.75037008,  0.7659518,   0.78158892,  0.79728144,  0.81302936],\n",
        "  [ 0.82883269,  0.84469141,  0.86060554,  0.87657507,  0.8926    ]])\n",
        "\n",
        "# You should see relative errors around e-7 or less\n",
        "print('next_w error: ', rel_error(expected_next_w, next_w))\n",
        "print('cache error: ', rel_error(expected_cache, config['cache']))"
      ]
    },
    {
      "cell_type": "code",
      "execution_count": null,
      "metadata": {
        "id": "9eDJM_lAurn7"
      },
      "outputs": [],
      "source": [
        "# Test Adam implementation\n",
        "from ece697ls.optim import adam\n",
        "\n",
        "N, D = 4, 5\n",
        "w = np.linspace(-0.4, 0.6, num=N*D).reshape(N, D)\n",
        "dw = np.linspace(-0.6, 0.4, num=N*D).reshape(N, D)\n",
        "m = np.linspace(0.6, 0.9, num=N*D).reshape(N, D)\n",
        "v = np.linspace(0.7, 0.5, num=N*D).reshape(N, D)\n",
        "\n",
        "config = {'learning_rate': 1e-2, 'm': m, 'v': v, 't': 5}\n",
        "next_w, _ = adam(w, dw, config=config)\n",
        "\n",
        "expected_next_w = np.asarray([\n",
        "  [-0.40094747, -0.34836187, -0.29577703, -0.24319299, -0.19060977],\n",
        "  [-0.1380274,  -0.08544591, -0.03286534,  0.01971428,  0.0722929],\n",
        "  [ 0.1248705,   0.17744702,  0.23002243,  0.28259667,  0.33516969],\n",
        "  [ 0.38774145,  0.44031188,  0.49288093,  0.54544852,  0.59801459]])\n",
        "expected_v = np.asarray([\n",
        "  [ 0.69966,     0.68908382,  0.67851319,  0.66794809,  0.65738853,],\n",
        "  [ 0.64683452,  0.63628604,  0.6257431,   0.61520571,  0.60467385,],\n",
        "  [ 0.59414753,  0.58362676,  0.57311152,  0.56260183,  0.55209767,],\n",
        "  [ 0.54159906,  0.53110598,  0.52061845,  0.51013645,  0.49966,   ]])\n",
        "expected_m = np.asarray([\n",
        "  [ 0.48,        0.49947368,  0.51894737,  0.53842105,  0.55789474],\n",
        "  [ 0.57736842,  0.59684211,  0.61631579,  0.63578947,  0.65526316],\n",
        "  [ 0.67473684,  0.69421053,  0.71368421,  0.73315789,  0.75263158],\n",
        "  [ 0.77210526,  0.79157895,  0.81105263,  0.83052632,  0.85      ]])\n",
        "\n",
        "# You should see relative errors around e-7 or less\n",
        "print('next_w error: ', rel_error(expected_next_w, next_w))\n",
        "print('v error: ', rel_error(expected_v, config['v']))\n",
        "print('m error: ', rel_error(expected_m, config['m']))"
      ]
    },
    {
      "cell_type": "markdown",
      "metadata": {
        "id": "ZZLiR8Tyurn_"
      },
      "source": [
        "Once you have debugged your RMSProp and Adam implementations, run the following to train a pair of deep networks using these new update rules:"
      ]
    },
    {
      "cell_type": "code",
      "execution_count": null,
      "metadata": {
        "id": "kxufBKLEuroA"
      },
      "outputs": [],
      "source": [
        "learning_rates = {'rmsprop': 1e-4, 'adam': 1e-3}\n",
        "for update_rule in ['adam', 'rmsprop']:\n",
        "  print('running with ', update_rule)\n",
        "  model = FullyConnectedNet([100, 100, 100, 100, 100], weight_scale=5e-2, num_classes=6)\n",
        "\n",
        "  solver = Solver(model, small_data,\n",
        "                  num_epochs=5, batch_size=100,\n",
        "                  update_rule=update_rule,\n",
        "                  optim_config={\n",
        "                    'learning_rate': learning_rates[update_rule]\n",
        "                  },\n",
        "                  verbose=True)\n",
        "  solvers[update_rule] = solver\n",
        "  solver.train()\n",
        "  print()\n",
        "\n",
        "plt.subplot(3, 1, 1)\n",
        "plt.title('Training loss')\n",
        "plt.xlabel('Iteration')\n",
        "\n",
        "plt.subplot(3, 1, 2)\n",
        "plt.title('Training accuracy')\n",
        "plt.xlabel('Epoch')\n",
        "\n",
        "plt.subplot(3, 1, 3)\n",
        "plt.title('Validation accuracy')\n",
        "plt.xlabel('Epoch')\n",
        "\n",
        "for update_rule, solver in list(solvers.items()):\n",
        "  plt.subplot(3, 1, 1)\n",
        "  plt.plot(solver.loss_history, 'o', label=update_rule)\n",
        "\n",
        "  plt.subplot(3, 1, 2)\n",
        "  plt.plot(solver.train_acc_history, '-o', label=update_rule)\n",
        "\n",
        "  plt.subplot(3, 1, 3)\n",
        "  plt.plot(solver.val_acc_history, '-o', label=update_rule)\n",
        "\n",
        "for i in [1, 2, 3]:\n",
        "  plt.subplot(3, 1, i)\n",
        "  plt.legend(loc='upper center', ncol=4)\n",
        "plt.gcf().set_size_inches(15, 15)\n",
        "plt.show()"
      ]
    },
    {
      "cell_type": "markdown",
      "metadata": {
        "id": "lTMZQejauroE",
        "tags": [
          "pdf-inline"
        ]
      },
      "source": [
        "## Inline Question 4:\n",
        "\n",
        "AdaGrad, like Adam, is a per-parameter optimization method that uses the following update rule:\n",
        "\n",
        "```\n",
        "cache += dw**2\n",
        "w += - learning_rate * dw / (np.sqrt(cache) + eps)\n",
        "```\n",
        "\n",
        "John notices that when he was training a network with AdaGrad that the updates became very small, and that his network was learning slowly. Using your knowledge of the AdaGrad update rule, why do you think the updates would become very small? Would Adam have the same issue?\n",
        "\n",
        "\n",
        "## Answer:\n",
        "[FILL YOUR ANSWER HERE]\n"
      ]
    },
    {
      "cell_type": "markdown",
      "metadata": {
        "id": "sT5GKLJCuroF"
      },
      "source": [
        "# Train a good model!\n",
        "Train the best fully-connected model that you can on CINIC-10, storing your best model in the `best_model` variable. We require you to get at least 40% accuracy on the validation set using a fully-connected net.\n",
        "\n",
        "Later in the assignment we will ask you to train the best convolutional network that you can on CINIC-10, and we would prefer that you spend your effort working on convolutional nets rather than fully-connected nets.\n",
        "\n",
        "You might find it useful to complete the `BatchNormalization.ipynb` and `Dropout.ipynb` notebooks before completing this part, since those techniques can help you train powerful models."
      ]
    },
    {
      "cell_type": "code",
      "execution_count": null,
      "metadata": {
        "id": "GlscvCxkuroG",
        "scrolled": false
      },
      "outputs": [],
      "source": [
        "best_model = None\n",
        "################################################################################\n",
        "# TODO: Train the best FullyConnectedNet that you can on CINIC-10. You might   #\n",
        "# find batch/layer normalization and dropout useful. Store your best model in  #\n",
        "# the best_model variable.                                                     #\n",
        "################################################################################\n",
        "# *****START OF YOUR CODE (DO NOT DELETE/MODIFY THIS LINE)*****\n",
        "\n",
        "\n",
        "# *****END OF YOUR CODE (DO NOT DELETE/MODIFY THIS LINE)*****\n",
        "################################################################################\n",
        "#                              END OF YOUR CODE                                #\n",
        "################################################################################"
      ]
    },
    {
      "cell_type": "markdown",
      "metadata": {
        "id": "mzIg6AeburoN"
      },
      "source": [
        "# Test your model!\n",
        "Run your best model on the validation and test sets. You should achieve above 40% accuracy on the validation set."
      ]
    },
    {
      "cell_type": "code",
      "execution_count": null,
      "metadata": {
        "id": "mlheYrbmuroS"
      },
      "outputs": [],
      "source": [
        "y_test_pred = np.argmax(best_model.loss(data['X_test']), axis=1)\n",
        "y_val_pred = np.argmax(best_model.loss(data['X_val']), axis=1)\n",
        "print('Validation set accuracy: ', (y_val_pred == data['y_val']).mean())\n",
        "print('Test set accuracy: ', (y_test_pred == data['y_test']).mean())"
      ]
    }
  ],
  "metadata": {
    "colab": {
      "provenance": [],
      "include_colab_link": true
    },
    "kernelspec": {
      "display_name": "Python 3",
      "language": "python",
      "name": "python3"
    },
    "language_info": {
      "codemirror_mode": {
        "name": "ipython",
        "version": 3
      },
      "file_extension": ".py",
      "mimetype": "text/x-python",
      "name": "python",
      "nbconvert_exporter": "python",
      "pygments_lexer": "ipython3",
      "version": "3.7.4"
    }
  },
  "nbformat": 4,
  "nbformat_minor": 0
}