{
  "nbformat": 4,
  "nbformat_minor": 0,
  "metadata": {
    "colab": {
      "provenance": [],
      "include_colab_link": true
    },
    "language_info": {
      "name": "python"
    },
    "kernelspec": {
      "name": "python3",
      "display_name": "Python 3"
    }
  },
  "cells": [
    {
      "cell_type": "markdown",
      "metadata": {
        "id": "view-in-github",
        "colab_type": "text"
      },
      "source": [
        "<a href=\"https://colab.research.google.com/github/nkodali34/662/blob/Lab1/Q4_CNNs.ipynb\" target=\"_parent\"><img src=\"https://colab.research.google.com/assets/colab-badge.svg\" alt=\"Open In Colab\"/></a>"
      ]
    },
    {
      "cell_type": "code",
      "metadata": {
        "id": "EbhOplOvGnfR",
        "colab": {
          "base_uri": "https://localhost:8080/"
        },
        "outputId": "cbe16602-392d-4c6a-93f5-15501b35c12c"
      },
      "source": [
        "# --- SETUP CELL (run this first in Colab) ---\n",
        "from google.colab import drive\n",
        "drive.mount('/content/drive', force_remount=True)\n",
        "\n",
        "# Path to your assignment folder in Drive\n",
        "FOLDERNAME = 'Lab1/assignment1/ece662'\n",
        "BASE_DIR = f'/content/drive/My Drive/{FOLDERNAME}'\n",
        "\n",
        "# Add parent folder to sys.path so `ece662` is seen as a Python package\n",
        "import sys\n",
        "sys.path.append('/content/drive/My Drive/Lab1/assignment1')\n",
        "\n",
        "# Optional: move into assignment1 directory\n",
        "%cd \"/content/drive/My Drive/Lab1/assignment1\"\n",
        "\n",
        "# Check contents to confirm\n",
        "!ls $BASE_DIR\n"
      ],
      "execution_count": 77,
      "outputs": [
        {
          "output_type": "stream",
          "name": "stdout",
          "text": [
            "Mounted at /content/drive\n",
            "/content/drive/My Drive/Lab1/assignment1\n",
            "ls: cannot access '/content/drive/My': No such file or directory\n",
            "ls: cannot access 'Drive/Lab1/assignment1/ece662': No such file or directory\n"
          ]
        }
      ]
    },
    {
      "cell_type": "code",
      "source": [
        "# Mount Google Drive if not already mounted\n",
        "from google.colab import drive\n",
        "drive.mount('/content/drive', force_remount=True)\n",
        "\n",
        "# Add parent folder of ece662 to sys.path\n",
        "import sys\n",
        "sys.path.append('/content/drive/My Drive/ML/Lab1/assignment1')\n",
        "\n",
        "# Now import from ece662\n",
        "from ece662.layer_utils import conv_relu_forward, conv_relu_backward\n"
      ],
      "metadata": {
        "colab": {
          "base_uri": "https://localhost:8080/"
        },
        "id": "OGCGUKXpl2iD",
        "outputId": "0c24c26f-544b-423e-ad68-f27a21274efd"
      },
      "execution_count": 52,
      "outputs": [
        {
          "output_type": "stream",
          "name": "stdout",
          "text": [
            "Mounted at /content/drive\n"
          ]
        }
      ]
    },
    {
      "cell_type": "code",
      "source": [
        "from google.colab import drive\n",
        "drive.mount('/content/drive', force_remount=True)\n",
        "\n",
        "# Add parent folder of ece662 to sys.path\n",
        "import sys\n",
        "sys.path.append('/content/drive/My Drive/Lab1/assignment1')\n"
      ],
      "metadata": {
        "colab": {
          "base_uri": "https://localhost:8080/"
        },
        "id": "ME8nMgP5wr8y",
        "outputId": "d19bcc0e-7a32-4ea8-ab62-c5abe4caa110"
      },
      "execution_count": 5,
      "outputs": [
        {
          "output_type": "stream",
          "name": "stdout",
          "text": [
            "Mounted at /content/drive\n"
          ]
        }
      ]
    },
    {
      "cell_type": "code",
      "source": [
        "!ls \"/content/drive/My Drive/Lab1/assignment1\"\n"
      ],
      "metadata": {
        "colab": {
          "base_uri": "https://localhost:8080/"
        },
        "id": "PxYcXXXwwyK7",
        "outputId": "840528d0-f9a9-4cf6-a1a0-34b27a221ee1"
      },
      "execution_count": 6,
      "outputs": [
        {
          "output_type": "stream",
          "name": "stdout",
          "text": [
            "shell-init: error retrieving current directory: getcwd: cannot access parent directories: Transport endpoint is not connected\n",
            "collect_submission.ipynb  Q1-FCNetworks.ipynb  Q5-Tensorflow.ipynb\n",
            "collectSubmission.sh\t  Q2-BatchNorm.ipynb   Q6-Pruning.ipynb\n",
            "ece662\t\t\t  Q3-Dropout.ipynb     requirements.txt\n",
            "frameworkpython\t\t  Q4-CNNs.ipynb        start_ipython_osx.sh\n",
            "makepdf.py\t\t  Q5-Pytorch.ipynb\n"
          ]
        }
      ]
    },
    {
      "cell_type": "markdown",
      "metadata": {
        "tags": [
          "pdf-title"
        ],
        "id": "sRFbQZzUGnfZ"
      },
      "source": [
        "# Convolutional Networks\n",
        "\n",
        "So far we have worked with deep fully-connected networks, using them to explore different optimization strategies and network architectures. Fully-connected networks are a good testbed for experimentation because they are very computationally efficient, but in practice all state-of-the-art results use convolutional networks instead.\n",
        "\n",
        "First you will implement several layer types that are used in convolutional networks. You will then use these layers to train a convolutional network on the CINIC-10 dataset."
      ]
    },
    {
      "cell_type": "code",
      "metadata": {
        "tags": [
          "pdf-ignore"
        ],
        "id": "NWKgyW4oGnfc"
      },
      "source": [
        "# As usual, a bit of setup\n",
        "from __future__ import print_function\n",
        "import time\n",
        "import numpy as np\n",
        "import matplotlib.pyplot as plt\n",
        "from ece662.classifiers.fc_net import *\n",
        "from ece662.data_utils import get_CINIC10_data\n",
        "from ece662.gradient_check import eval_numerical_gradient, eval_numerical_gradient_array\n",
        "from ece662.solver import Solver\n",
        "\n",
        "%matplotlib inline\n",
        "plt.rcParams['figure.figsize'] = (10.0, 8.0) # set default size of plots\n",
        "plt.rcParams['image.interpolation'] = 'nearest'\n",
        "plt.rcParams['image.cmap'] = 'gray'\n",
        "\n",
        "# for auto-reloading external modules\n",
        "# see http://stackoverflow.com/questions/1907993/autoreload-of-modules-in-ipython\n",
        "#%load_ext autoreload\n",
        "#%autoreload 2\n",
        "\n",
        "def rel_error(x, y):\n",
        "  \"\"\" returns relative error \"\"\"\n",
        "  return np.max(np.abs(x - y) / (np.maximum(1e-8, np.abs(x) + np.abs(y))))"
      ],
      "execution_count": 25,
      "outputs": []
    },
    {
      "cell_type": "code",
      "metadata": {
        "tags": [
          "pdf-ignore"
        ],
        "id": "iTMOk3zCGnfi",
        "colab": {
          "base_uri": "https://localhost:8080/"
        },
        "outputId": "76a2a589-ddc3-451c-88b8-418f013c6ce4"
      },
      "source": [
        "# Load the (preprocessed) CINIC10 data - Note that CINIC10 was modified in size for this course\n",
        "\n",
        "data = get_CINIC10_data()\n",
        "for k, v in list(data.items()):\n",
        "  print(('%s: ' % k, v.shape))\n",
        "\n",
        "print('Number of Classes: {}'.format(len(np.unique(data['y_train']))))"
      ],
      "execution_count": 22,
      "outputs": [
        {
          "output_type": "stream",
          "name": "stdout",
          "text": [
            "('X_train: ', (53973, 3, 32, 32))\n",
            "('y_train: ', (53973,))\n",
            "('X_val: ', (10195, 3, 32, 32))\n",
            "('y_val: ', (10195,))\n",
            "('X_test: ', (10196, 3, 32, 32))\n",
            "('y_test: ', (10196,))\n",
            "Number of Classes: 6\n"
          ]
        }
      ]
    },
    {
      "cell_type": "markdown",
      "metadata": {
        "id": "oLLNdEe0Gnfq"
      },
      "source": [
        "# Convolution: Naive forward pass\n",
        "The core of a convolutional network is the convolution operation. In the file `ece697ls/layers.py`, implement the forward pass for the convolution layer in the function `conv_forward_naive`.\n",
        "\n",
        "You don't have to worry too much about efficiency at this point; just write the code in whatever way you find most clear.\n",
        "\n",
        "You can test your implementation by running the following:"
      ]
    },
    {
      "cell_type": "code",
      "metadata": {
        "id": "AVYzIfYGGnfr",
        "colab": {
          "base_uri": "https://localhost:8080/"
        },
        "outputId": "8613c834-750b-497b-c29c-6e63f4d5f6b4"
      },
      "source": [
        "x_shape = (2, 3, 4, 4)\n",
        "w_shape = (3, 3, 4, 4)\n",
        "x = np.linspace(-0.1, 0.5, num=np.prod(x_shape)).reshape(x_shape)\n",
        "w = np.linspace(-0.2, 0.3, num=np.prod(w_shape)).reshape(w_shape)\n",
        "b = np.linspace(-0.1, 0.2, num=3)\n",
        "\n",
        "conv_param = {'stride': 2, 'pad': 1}\n",
        "out, _ = conv_forward_naive(x, w, b, conv_param)\n",
        "correct_out = np.array([[[[-0.08759809, -0.10987781],\n",
        "                           [-0.18387192, -0.2109216 ]],\n",
        "                          [[ 0.21027089,  0.21661097],\n",
        "                           [ 0.22847626,  0.23004637]],\n",
        "                          [[ 0.50813986,  0.54309974],\n",
        "                           [ 0.64082444,  0.67101435]]],\n",
        "                         [[[-0.98053589, -1.03143541],\n",
        "                           [-1.19128892, -1.24695841]],\n",
        "                          [[ 0.69108355,  0.66880383],\n",
        "                           [ 0.59480972,  0.56776003]],\n",
        "                          [[ 2.36270298,  2.36904306],\n",
        "                           [ 2.38090835,  2.38247847]]]])\n",
        "\n",
        "# Compare your output to ours; difference should be around e-8\n",
        "print('Testing conv_forward_naive')\n",
        "print('difference: ', rel_error(out, correct_out))"
      ],
      "execution_count": 35,
      "outputs": [
        {
          "output_type": "stream",
          "name": "stdout",
          "text": [
            "Testing conv_forward_naive\n",
            "difference:  2.2121476417505994e-08\n"
          ]
        }
      ]
    },
    {
      "cell_type": "markdown",
      "metadata": {
        "id": "XF_8CF50Gnfx"
      },
      "source": [
        "# Aside: Image processing via convolutions\n",
        "\n",
        "As fun way to both check your implementation and gain a better understanding of the type of operation that convolutional layers can perform, we will set up an input containing two images and manually set up filters that perform common image processing operations (grayscale conversion and edge detection). The convolution forward pass will apply these operations to each of the input images. We can then visualize the results as a sanity check."
      ]
    },
    {
      "cell_type": "markdown",
      "metadata": {
        "id": "nZ_MS0zGGnf0"
      },
      "source": [
        "## Colab Users Only\n",
        "\n",
        "Please execute the below cell to copy two cat images to the Colab VM."
      ]
    },
    {
      "cell_type": "code",
      "source": [
        "!fusermount -u /content/drive\n"
      ],
      "metadata": {
        "id": "_XWQpvL0dFuv"
      },
      "execution_count": 10,
      "outputs": []
    },
    {
      "cell_type": "code",
      "source": [
        "import sys\n",
        "\n",
        "# parent folder (so Python can see ece662 package)\n",
        "sys.path.append('/content/drive/My Drive/Lab1/assignment1')\n",
        "\n",
        "# check files\n",
        "!ls \"/content/drive/My Drive/Lab1/assignment1/ece662\"\n"
      ],
      "metadata": {
        "colab": {
          "base_uri": "https://localhost:8080/"
        },
        "id": "IsS5CLHVdG6X",
        "outputId": "6628961b-d2d7-4012-8912-a54f748e10e1"
      },
      "execution_count": 11,
      "outputs": [
        {
          "output_type": "stream",
          "name": "stdout",
          "text": [
            "ls: cannot access '/content/drive/My Drive/Lab1/assignment1/ece662': No such file or directory\n"
          ]
        }
      ]
    },
    {
      "cell_type": "code",
      "metadata": {
        "id": "c2DawfoAGngH",
        "colab": {
          "base_uri": "https://localhost:8080/"
        },
        "outputId": "bd1ae545-719a-4587-b40e-1e0de65ce264"
      },
      "source": [
        "# Colab users only!\n",
        "%mkdir -p ece662ls/notebook_images\n",
        "%cd drive/My\\ Drive/$FOLDERNAME/ece662ls\n",
        "%cp -r /content/drive/My\\ Drive/$FOLDERNAME/ece662ls/notebook_images/ /content/ece662ls/\n",
        "%cd /content/"
      ],
      "execution_count": 3,
      "outputs": [
        {
          "output_type": "stream",
          "name": "stdout",
          "text": [
            "[Errno 2] No such file or directory: 'drive/My Drive/$FOLDERNAME/ece662ls'\n",
            "/content\n",
            "cp: cannot stat '/content/drive/My Drive//ece662ls/notebook_images/': No such file or directory\n",
            "/content\n"
          ]
        }
      ]
    },
    {
      "cell_type": "code",
      "source": [
        "# Mount your Google Drive to the Colab VM\n",
        "from google.colab import drive\n",
        "drive.mount('/content/drive', force_remount=True)\n",
        "\n",
        "# Enter the foldername in your Drive where you have saved the unzipped assignment\n",
        "FOLDERNAME = 'ML/Lab1/assignment1/ece662'   # <-- updated to include ece662\n",
        "assert FOLDERNAME is not None, \"[!] Enter the foldername.\"\n",
        "\n",
        "# Add parent folder (assignment1) to sys.path so Python can see ece662 package\n",
        "import sys\n",
        "sys.path.append('/content/drive/My Drive/ML/Lab1/assignment1')\n",
        "\n",
        "# Change directory to assignment1 for convenience\n",
        "%cd \"/content/drive/My Drive/ML/Lab1/assignment1\"\n"
      ],
      "metadata": {
        "colab": {
          "base_uri": "https://localhost:8080/"
        },
        "id": "d_AKJLJGdb-T",
        "outputId": "279abe7f-c2ce-4e5e-e6c7-fdb5e9c417ff"
      },
      "execution_count": 13,
      "outputs": [
        {
          "output_type": "stream",
          "name": "stdout",
          "text": [
            "Mounted at /content/drive\n",
            "[Errno 2] No such file or directory: '/content/drive/My Drive/ML/Lab1/assignment1'\n",
            "/content\n"
          ]
        }
      ]
    },
    {
      "cell_type": "code",
      "source": [
        "!ls \"/content/drive/My Drive/ML/Lab1/assignment1/ece662\"\n"
      ],
      "metadata": {
        "colab": {
          "base_uri": "https://localhost:8080/"
        },
        "id": "5TPZ647RdkB2",
        "outputId": "30de1b7e-43de-41cf-9d6c-109781f35731"
      },
      "execution_count": 14,
      "outputs": [
        {
          "output_type": "stream",
          "name": "stdout",
          "text": [
            "ls: cannot access '/content/drive/My Drive/ML/Lab1/assignment1/ece662': No such file or directory\n"
          ]
        }
      ]
    },
    {
      "cell_type": "code",
      "source": [
        "from ece662.classifiers.fc_net import *\n",
        "from ece662.data_utils import get_CINIC10_data\n"
      ],
      "metadata": {
        "colab": {
          "base_uri": "https://localhost:8080/"
        },
        "id": "JEcoyHVmdlWr",
        "outputId": "4a6281db-b7aa-47ce-a68f-7acb57d7a3d8"
      },
      "execution_count": 15,
      "outputs": [
        {
          "output_type": "stream",
          "name": "stdout",
          "text": [
            "=========== You can safely ignore the message below if you are NOT working on ConvolutionalNetworks.ipynb ===========\n",
            "\tYou will need to compile a Cython extension for a portion of this assignment.\n",
            "\tThe instructions to do this will be given in a section of the notebook below.\n",
            "\tThere will be an option for Colab users and another for Jupyter (local) users.\n"
          ]
        }
      ]
    },
    {
      "cell_type": "code",
      "metadata": {
        "tags": [
          "pdf-ignore-input"
        ],
        "id": "DrF7e3_vGngX",
        "colab": {
          "base_uri": "https://localhost:8080/",
          "height": 495
        },
        "outputId": "a15570cd-fd85-43a5-d353-83c810f95a3f"
      },
      "source": [
        "from imageio import imread\n",
        "from PIL import Image  # Import Image from PIL\n",
        "\n",
        "# Define BASE_DIR (now it's just /content)\n",
        "BASE_DIR = '/content'\n",
        "\n",
        "# Load images from /content\n",
        "kitten = imread(f'{BASE_DIR}/kitten.jpg')\n",
        "puppy  = imread(f'{BASE_DIR}/puppy.jpg')\n",
        "\n",
        "# kitten is wide, and puppy is already square\n",
        "d = kitten.shape[1] - kitten.shape[0]\n",
        "kitten_cropped = kitten[:, d//2:-d//2, :]\n",
        "\n",
        "img_size = 200   # Make this smaller if it runs too slow\n",
        "resized_puppy = np.array(Image.fromarray(puppy).resize((img_size, img_size)))\n",
        "resized_kitten = np.array(Image.fromarray(kitten_cropped).resize((img_size, img_size)))\n",
        "x = np.zeros((2, 3, img_size, img_size))\n",
        "x[0, :, :, :] = resized_puppy.transpose((2, 0, 1))\n",
        "x[1, :, :, :] = resized_kitten.transpose((2, 0, 1))\n",
        "\n",
        "# Set up a convolutional weights holding 2 filters, each 3x3\n",
        "w = np.zeros((2, 3, 3, 3))\n",
        "\n",
        "# The first filter converts the image to grayscale.\n",
        "# Set up the red, green, and blue channels of the filter.\n",
        "w[0, 0, :, :] = [[0, 0, 0], [0, 0.3, 0], [0, 0, 0]]\n",
        "w[0, 1, :, :] = [[0, 0, 0], [0, 0.6, 0], [0, 0, 0]]\n",
        "w[0, 2, :, :] = [[0, 0, 0], [0, 0.1, 0], [0, 0, 0]]\n",
        "\n",
        "# Second filter detects horizontal edges in the blue channel.\n",
        "w[1, 2, :, :] = [[1, 2, 1], [0, 0, 0], [-1, -2, -1]]\n",
        "\n",
        "# Vector of biases. We don't need any bias for the grayscale\n",
        "# filter, but for the edge detection filter we want to add 128\n",
        "# to each output so that nothing is negative.\n",
        "b = np.array([0, 128])\n",
        "\n",
        "# Compute the result of convolving each input in x with each filter in w,\n",
        "# offsetting by b, and storing the results in out.\n",
        "out, _ = conv_forward_naive(x, w, b, {'stride': 1, 'pad': 1})\n",
        "\n",
        "def imshow_no_ax(img, normalize=True):\n",
        "    \"\"\" Tiny helper to show images as uint8 and remove axis labels \"\"\"\n",
        "    if normalize:\n",
        "        img_max, img_min = np.max(img), np.min(img)\n",
        "        img = 255.0 * (img - img_min) / (img_max - img_min)\n",
        "    plt.imshow(img.astype('uint8'))\n",
        "    plt.gca().axis('off')\n",
        "\n",
        "# Show the original images and the results of the conv operation\n",
        "plt.subplot(2, 3, 1)\n",
        "imshow_no_ax(puppy, normalize=False)\n",
        "plt.title('Original image')\n",
        "plt.subplot(2, 3, 2)\n",
        "imshow_no_ax(out[0, 0])\n",
        "plt.title('Grayscale')\n",
        "plt.subplot(2, 3, 3)\n",
        "imshow_no_ax(out[0, 1])\n",
        "plt.title('Edges')\n",
        "plt.subplot(2, 3, 4)\n",
        "imshow_no_ax(kitten_cropped, normalize=False)\n",
        "plt.subplot(2, 3, 5)\n",
        "imshow_no_ax(out[1, 0])\n",
        "plt.subplot(2, 3, 6)\n",
        "imshow_no_ax(out[1, 1])\n",
        "plt.show()"
      ],
      "execution_count": 24,
      "outputs": [
        {
          "output_type": "stream",
          "name": "stderr",
          "text": [
            "/tmp/ipython-input-3516471245.py:8: DeprecationWarning: Starting with ImageIO v3 the behavior of this function will switch to that of iio.v3.imread. To keep the current behavior (and make this warning disappear) use `import imageio.v2 as imageio` or call `imageio.v2.imread` directly.\n",
            "  kitten = imread(f'{BASE_DIR}/kitten.jpg')\n",
            "/tmp/ipython-input-3516471245.py:9: DeprecationWarning: Starting with ImageIO v3 the behavior of this function will switch to that of iio.v3.imread. To keep the current behavior (and make this warning disappear) use `import imageio.v2 as imageio` or call `imageio.v2.imread` directly.\n",
            "  puppy  = imread(f'{BASE_DIR}/puppy.jpg')\n"
          ]
        },
        {
          "output_type": "display_data",
          "data": {
            "text/plain": [
              "<Figure size 640x480 with 6 Axes>"
            ],
            "image/png": "[encoded data removed]"
          },
          "metadata": {}
        }
      ]
    },
    {
      "cell_type": "markdown",
      "metadata": {
        "id": "akSTU97SGnge"
      },
      "source": [
        "# Convolution: Naive backward pass\n",
        "Implement the backward pass for the convolution operation in the function `conv_backward_naive` in the file `ece697ls/layers.py`. Again, you don't need to worry too much about computational efficiency.\n",
        "\n",
        "When you are done, run the following to check your backward pass with a numeric gradient check."
      ]
    },
    {
      "cell_type": "code",
      "metadata": {
        "id": "S0HkSIBTGngf",
        "colab": {
          "base_uri": "https://localhost:8080/"
        },
        "outputId": "328f35dc-865c-433f-e301-d5b8dab6ab93"
      },
      "source": [
        "np.random.seed(231)\n",
        "x = np.random.randn(4, 3, 5, 5)\n",
        "w = np.random.randn(2, 3, 3, 3)\n",
        "b = np.random.randn(2,)\n",
        "dout = np.random.randn(4, 2, 5, 5)\n",
        "conv_param = {'stride': 1, 'pad': 1}\n",
        "\n",
        "dx_num = eval_numerical_gradient_array(lambda x: conv_forward_naive(x, w, b, conv_param)[0], x, dout)\n",
        "dw_num = eval_numerical_gradient_array(lambda w: conv_forward_naive(x, w, b, conv_param)[0], w, dout)\n",
        "db_num = eval_numerical_gradient_array(lambda b: conv_forward_naive(x, w, b, conv_param)[0], b, dout)\n",
        "\n",
        "out, cache = conv_forward_naive(x, w, b, conv_param)\n",
        "dx, dw, db = conv_backward_naive(dout, cache)\n",
        "\n",
        "# Your errors should be around e-8 or less.\n",
        "print('Testing conv_backward_naive function')\n",
        "print('dx error: ', rel_error(dx, dx_num))\n",
        "print('dw error: ', rel_error(dw, dw_num))\n",
        "print('db error: ', rel_error(db, db_num))"
      ],
      "execution_count": 38,
      "outputs": [
        {
          "output_type": "stream",
          "name": "stdout",
          "text": [
            "Testing conv_backward_naive function\n",
            "dx error:  1.159803161159293e-08\n",
            "dw error:  2.2471264748452487e-10\n",
            "db error:  3.37264006649648e-11\n"
          ]
        }
      ]
    },
    {
      "cell_type": "markdown",
      "metadata": {
        "id": "14IPZttiGngk"
      },
      "source": [
        "# Max-Pooling: Naive forward\n",
        "Implement the forward pass for the max-pooling operation in the function `max_pool_forward_naive` in the file `ece697ls/layers.py`. Again, don't worry too much about computational efficiency.\n",
        "\n",
        "Check your implementation by running the following:"
      ]
    },
    {
      "cell_type": "code",
      "metadata": {
        "id": "F9AtR26sGngl",
        "colab": {
          "base_uri": "https://localhost:8080/"
        },
        "outputId": "83b4eea0-d32e-428a-9276-861cc33246af"
      },
      "source": [
        "x_shape = (2, 3, 4, 4)\n",
        "x = np.linspace(-0.3, 0.4, num=np.prod(x_shape)).reshape(x_shape)\n",
        "pool_param = {'pool_width': 2, 'pool_height': 2, 'stride': 2}\n",
        "\n",
        "out, _ = max_pool_forward_naive(x, pool_param)\n",
        "\n",
        "correct_out = np.array([[[[-0.26315789, -0.24842105],\n",
        "                          [-0.20421053, -0.18947368]],\n",
        "                         [[-0.14526316, -0.13052632],\n",
        "                          [-0.08631579, -0.07157895]],\n",
        "                         [[-0.02736842, -0.01263158],\n",
        "                          [ 0.03157895,  0.04631579]]],\n",
        "                        [[[ 0.09052632,  0.10526316],\n",
        "                          [ 0.14947368,  0.16421053]],\n",
        "                         [[ 0.20842105,  0.22315789],\n",
        "                          [ 0.26736842,  0.28210526]],\n",
        "                         [[ 0.32631579,  0.34105263],\n",
        "                          [ 0.38526316,  0.4       ]]]])\n",
        "\n",
        "# Compare your output with ours. Difference should be on the order of e-8.\n",
        "print('Testing max_pool_forward_naive function:')\n",
        "print('difference: ', rel_error(out, correct_out))"
      ],
      "execution_count": 39,
      "outputs": [
        {
          "output_type": "stream",
          "name": "stdout",
          "text": [
            "Testing max_pool_forward_naive function:\n",
            "difference:  4.1666665157267834e-08\n"
          ]
        }
      ]
    },
    {
      "cell_type": "markdown",
      "metadata": {
        "id": "u2uZIQshGngp"
      },
      "source": [
        "# Max-Pooling: Naive backward\n",
        "Implement the backward pass for the max-pooling operation in the function `max_pool_backward_naive` in the file `ece697ls/layers.py`. You don't need to worry about computational efficiency.\n",
        "\n",
        "Check your implementation with numeric gradient checking by running the following:"
      ]
    },
    {
      "cell_type": "code",
      "metadata": {
        "id": "HE3X95DeGngq",
        "colab": {
          "base_uri": "https://localhost:8080/"
        },
        "outputId": "686660d8-e2d6-499f-dac7-242248e675d0"
      },
      "source": [
        "np.random.seed(231)\n",
        "x = np.random.randn(3, 2, 8, 8)\n",
        "dout = np.random.randn(3, 2, 4, 4)\n",
        "pool_param = {'pool_height': 2, 'pool_width': 2, 'stride': 2}\n",
        "\n",
        "dx_num = eval_numerical_gradient_array(lambda x: max_pool_forward_naive(x, pool_param)[0], x, dout)\n",
        "\n",
        "out, cache = max_pool_forward_naive(x, pool_param)\n",
        "dx = max_pool_backward_naive(dout, cache)\n",
        "\n",
        "# Your error should be on the order of e-12\n",
        "print('Testing max_pool_backward_naive function:')\n",
        "print('dx error: ', rel_error(dx, dx_num))"
      ],
      "execution_count": 40,
      "outputs": [
        {
          "output_type": "stream",
          "name": "stdout",
          "text": [
            "Testing max_pool_backward_naive function:\n",
            "dx error:  3.27562514223145e-12\n"
          ]
        }
      ]
    },
    {
      "cell_type": "markdown",
      "metadata": {
        "id": "yP43ONC0Gngv"
      },
      "source": [
        "# Fast layers\n",
        "\n",
        "Making convolution and pooling layers fast can be challenging. To spare you the pain, we've provided fast implementations of the forward and backward passes for convolution and pooling layers in the file `ece697ls/fast_layers.py`."
      ]
    },
    {
      "cell_type": "markdown",
      "metadata": {
        "id": "KYFIQjpGGngw"
      },
      "source": [
        "The fast convolution implementation depends on a Cython extension; to compile it either execute the local development cell (option A) if you are developing locally, or the Colab cell (option B) if you are running this assignment in Colab.\n",
        "\n",
        "---\n",
        "\n",
        "**Very Important, Please Read**. For **both** option A and B, you have to **restart** the notebook after compiling the cython extension. In Colab, please save the notebook `File -> Save`, then click `Runtime -> Restart Runtime -> Yes`. This will restart the kernel which means local variables will be lost. Just re-execute the cells from top to bottom and skip the cell below as you only need to run it once for the compilation step.\n",
        "\n",
        "---"
      ]
    },
    {
      "cell_type": "markdown",
      "metadata": {
        "id": "wsmo8sLPGngw"
      },
      "source": [
        "## Option A: Local Development\n",
        "\n",
        "Go to the ece697ls directory and execute the following in your terminal:\n",
        "\n",
        "```bash\n",
        "python setup.py build_ext --inplace\n",
        "```"
      ]
    },
    {
      "cell_type": "markdown",
      "metadata": {
        "id": "scwMpdL-Gngx"
      },
      "source": [
        "## Option B: Colab\n",
        "\n",
        "Execute the cell below only only **ONCE**.\n",
        "\n",
        "**Note that you may need to terminate this session and start a new one after executing the code below**"
      ]
    },
    {
      "cell_type": "code",
      "metadata": {
        "id": "ecHaE-4FGngy",
        "colab": {
          "base_uri": "https://localhost:8080/"
        },
        "outputId": "a0e9b1e6-85bc-4cac-ee26-3ff3a593046e"
      },
      "source": [
        "# Go into your ece662 folder (where setup.py and cython files are)\n",
        "%cd \"/content/drive/My Drive/ML/Lab1/assignment1/ece662\"\n",
        "\n",
        "# Build Cython extensions in-place\n",
        "!python setup.py build_ext --inplace"
      ],
      "execution_count": 28,
      "outputs": [
        {
          "output_type": "stream",
          "name": "stdout",
          "text": [
            "[Errno 2] No such file or directory: '/content/drive/My Drive/ML/Lab1/assignment1/ece662'\n",
            "/content\n",
            "python3: can't open file '/content/setup.py': [Errno 2] No such file or directory\n"
          ]
        }
      ]
    },
    {
      "cell_type": "markdown",
      "metadata": {
        "id": "ujNl6doYGng4"
      },
      "source": [
        "The API for the fast versions of the convolution and pooling layers is exactly the same as the naive versions that you implemented above: the forward pass receives data, weights, and parameters and produces outputs and a cache object; the backward pass recieves upstream derivatives and the cache object and produces gradients with respect to the data and weights.\n",
        "\n",
        "**NOTE:** The fast implementation for pooling will only perform optimally if the pooling regions are non-overlapping and tile the input. If these conditions are not met then the fast pooling implementation will not be much faster than the naive implementation.\n",
        "\n",
        "You can compare the performance of the naive and fast versions of these layers by running the following:"
      ]
    },
    {
      "cell_type": "code",
      "source": [
        "%cd \"/content/drive/My Drive/ML/Lab1/assignment1/ece662\"\n",
        "!ls\n"
      ],
      "metadata": {
        "colab": {
          "base_uri": "https://localhost:8080/"
        },
        "id": "izWDPrqWiQoa",
        "outputId": "3c35334d-abb6-4145-b57f-9fcca983f178"
      },
      "execution_count": 30,
      "outputs": [
        {
          "output_type": "stream",
          "name": "stdout",
          "text": [
            "[Errno 2] No such file or directory: '/content/drive/My Drive/ML/Lab1/assignment1/ece662'\n",
            "/content\n",
            "batchnorm_graph.png  drive     kitten.jpg\t  puppy.jpg\n",
            "desktop.ini\t     ece662ls  normalization.png  sample_data\n"
          ]
        }
      ]
    },
    {
      "cell_type": "code",
      "source": [
        "!cythonize -i im2col_cython.pyx\n"
      ],
      "metadata": {
        "colab": {
          "base_uri": "https://localhost:8080/"
        },
        "id": "zr4qSYxJiSeT",
        "outputId": "75d94a9c-2d79-420b-a147-68ba150b81f1"
      },
      "execution_count": 31,
      "outputs": [
        {
          "output_type": "stream",
          "name": "stdout",
          "text": [
            "/usr/local/bin/cythonize: No such file or directory: 'im2col_cython.pyx'\n"
          ]
        }
      ]
    },
    {
      "cell_type": "code",
      "source": [
        "!ls | grep im2col_cython\n"
      ],
      "metadata": {
        "id": "cuyoRMQ5ifZm"
      },
      "execution_count": 32,
      "outputs": []
    },
    {
      "cell_type": "code",
      "source": [
        "from google.colab import drive\n",
        "drive.mount('/content/drive', force_remount=True)\n",
        "\n",
        "import sys\n",
        "sys.path.append('/content/drive/My Drive/ML/Lab1/assignment1')\n",
        "\n",
        "from ece662.fast_layers import conv_forward_fast, conv_backward_fast\n",
        "from ece662.layers import conv_forward_naive, conv_backward_naive\n"
      ],
      "metadata": {
        "colab": {
          "base_uri": "https://localhost:8080/"
        },
        "id": "ticYGMqkih66",
        "outputId": "1262c3e3-66f5-42e9-9bda-d16e846232a6"
      },
      "execution_count": 33,
      "outputs": [
        {
          "output_type": "stream",
          "name": "stdout",
          "text": [
            "Mounted at /content/drive\n"
          ]
        }
      ]
    },
    {
      "cell_type": "code",
      "source": [
        "try:\n",
        "    from im2col_cython import col2im_6d_cython\n",
        "except ImportError:\n",
        "    def col2im_6d_cython(*args, **kwargs):\n",
        "        raise NotImplementedError(\"col2im_6d_cython not available in this setup\")\n"
      ],
      "metadata": {
        "id": "AsxMJwbai5oe"
      },
      "execution_count": 35,
      "outputs": []
    },
    {
      "cell_type": "code",
      "metadata": {
        "scrolled": true,
        "id": "NI2SHYjdGng5",
        "colab": {
          "base_uri": "https://localhost:8080/",
          "height": 419
        },
        "outputId": "e79cf6d9-84af-4007-86d8-aff1beb38d9f"
      },
      "source": [
        "from ece662.fast_layers import conv_forward_fast, conv_backward_fast\n",
        "from ece662.layers import conv_forward_naive, conv_backward_naive\n",
        "from time import time\n",
        "import numpy as np\n",
        "\n",
        "np.random.seed(231)\n",
        "\n",
        "x = np.random.randn(100, 3, 31, 31)\n",
        "w = np.random.randn(25, 3, 3, 3)\n",
        "b = np.random.randn(25,)\n",
        "dout = np.random.randn(100, 25, 16, 16)\n",
        "conv_param = {'stride': 2, 'pad': 1}\n",
        "\n",
        "t0 = time()\n",
        "out_naive, cache_naive = conv_forward_naive(x, w, b, conv_param)\n",
        "t1 = time()\n",
        "out_fast, cache_fast = conv_forward_fast(x, w, b, conv_param)\n",
        "t2 = time()\n",
        "\n",
        "print('Testing conv_forward_fast:')\n",
        "print('Naive: %fs' % (t1 - t0))\n",
        "print('Fast: %fs' % (t2 - t1))\n",
        "print('Speedup: %fx' % ((t1 - t0) / (t2 - t1)))\n",
        "print('Difference: ', rel_error(out_naive, out_fast))\n",
        "\n",
        "t0 = time()\n",
        "dx_naive, dw_naive, db_naive = conv_backward_naive(dout, cache_naive)\n",
        "t1 = time()\n",
        "dx_fast, dw_fast, db_fast = conv_backward_fast(dout, cache_fast)\n",
        "t2 = time()\n",
        "\n",
        "print('\\nTesting conv_backward_fast:')\n",
        "print('Naive: %fs' % (t1 - t0))\n",
        "print('Fast: %fs' % (t2 - t1))\n",
        "print('Speedup: %fx' % ((t1 - t0) / (t2 - t1)))\n",
        "print('dx difference: ', rel_error(dx_naive, dx_fast))\n",
        "print('dw difference: ', rel_error(dw_naive, dw_fast))\n",
        "print('db difference: ', rel_error(db_naive, db_fast))\n"
      ],
      "execution_count": 53,
      "outputs": [
        {
          "output_type": "stream",
          "name": "stdout",
          "text": [
            "Testing conv_forward_fast:\n",
            "Naive: 5.923072s\n",
            "Fast: 0.008154s\n",
            "Speedup: 726.408304x\n",
            "Difference:  4.926407851494105e-11\n"
          ]
        },
        {
          "output_type": "error",
          "ename": "NameError",
          "evalue": "name 'col2im_6d_cython' is not defined",
          "traceback": [
            "\u001b[0;31m---------------------------------------------------------------------------\u001b[0m",
            "\u001b[0;31mNameError\u001b[0m                                 Traceback (most recent call last)",
            "\u001b[0;32m/tmp/ipython-input-2917995723.py\u001b[0m in \u001b[0;36m<cell line: 0>\u001b[0;34m()\u001b[0m\n\u001b[1;32m     27\u001b[0m \u001b[0mdx_naive\u001b[0m\u001b[0;34m,\u001b[0m \u001b[0mdw_naive\u001b[0m\u001b[0;34m,\u001b[0m \u001b[0mdb_naive\u001b[0m \u001b[0;34m=\u001b[0m \u001b[0mconv_backward_naive\u001b[0m\u001b[0;34m(\u001b[0m\u001b[0mdout\u001b[0m\u001b[0;34m,\u001b[0m \u001b[0mcache_naive\u001b[0m\u001b[0;34m)\u001b[0m\u001b[0;34m\u001b[0m\u001b[0;34m\u001b[0m\u001b[0m\n\u001b[1;32m     28\u001b[0m \u001b[0mt1\u001b[0m \u001b[0;34m=\u001b[0m \u001b[0mtime\u001b[0m\u001b[0;34m(\u001b[0m\u001b[0;34m)\u001b[0m\u001b[0;34m\u001b[0m\u001b[0;34m\u001b[0m\u001b[0m\n\u001b[0;32m---> 29\u001b[0;31m \u001b[0mdx_fast\u001b[0m\u001b[0;34m,\u001b[0m \u001b[0mdw_fast\u001b[0m\u001b[0;34m,\u001b[0m \u001b[0mdb_fast\u001b[0m \u001b[0;34m=\u001b[0m \u001b[0mconv_backward_fast\u001b[0m\u001b[0;34m(\u001b[0m\u001b[0mdout\u001b[0m\u001b[0;34m,\u001b[0m \u001b[0mcache_fast\u001b[0m\u001b[0;34m)\u001b[0m\u001b[0;34m\u001b[0m\u001b[0;34m\u001b[0m\u001b[0m\n\u001b[0m\u001b[1;32m     30\u001b[0m \u001b[0mt2\u001b[0m \u001b[0;34m=\u001b[0m \u001b[0mtime\u001b[0m\u001b[0;34m(\u001b[0m\u001b[0;34m)\u001b[0m\u001b[0;34m\u001b[0m\u001b[0;34m\u001b[0m\u001b[0m\n\u001b[1;32m     31\u001b[0m \u001b[0;34m\u001b[0m\u001b[0m\n",
            "\u001b[0;32m/content/drive/My Drive/Lab1/assignment1/ece662/fast_layers.py\u001b[0m in \u001b[0;36mconv_backward_strides\u001b[0;34m(dout, cache)\u001b[0m\n\u001b[1;32m    101\u001b[0m     \u001b[0mdx_cols\u001b[0m \u001b[0;34m=\u001b[0m \u001b[0mw\u001b[0m\u001b[0;34m.\u001b[0m\u001b[0mreshape\u001b[0m\u001b[0;34m(\u001b[0m\u001b[0mF\u001b[0m\u001b[0;34m,\u001b[0m \u001b[0;34m-\u001b[0m\u001b[0;36m1\u001b[0m\u001b[0;34m)\u001b[0m\u001b[0;34m.\u001b[0m\u001b[0mT\u001b[0m\u001b[0;34m.\u001b[0m\u001b[0mdot\u001b[0m\u001b[0;34m(\u001b[0m\u001b[0mdout_reshaped\u001b[0m\u001b[0;34m)\u001b[0m\u001b[0;34m\u001b[0m\u001b[0;34m\u001b[0m\u001b[0m\n\u001b[1;32m    102\u001b[0m     \u001b[0mdx_cols\u001b[0m\u001b[0;34m.\u001b[0m\u001b[0mshape\u001b[0m \u001b[0;34m=\u001b[0m \u001b[0;34m(\u001b[0m\u001b[0mC\u001b[0m\u001b[0;34m,\u001b[0m \u001b[0mHH\u001b[0m\u001b[0;34m,\u001b[0m \u001b[0mWW\u001b[0m\u001b[0;34m,\u001b[0m \u001b[0mN\u001b[0m\u001b[0;34m,\u001b[0m \u001b[0mout_h\u001b[0m\u001b[0;34m,\u001b[0m \u001b[0mout_w\u001b[0m\u001b[0;34m)\u001b[0m\u001b[0;34m\u001b[0m\u001b[0;34m\u001b[0m\u001b[0m\n\u001b[0;32m--> 103\u001b[0;31m     \u001b[0mdx\u001b[0m \u001b[0;34m=\u001b[0m \u001b[0mcol2im_6d_cython\u001b[0m\u001b[0;34m(\u001b[0m\u001b[0mdx_cols\u001b[0m\u001b[0;34m,\u001b[0m \u001b[0mN\u001b[0m\u001b[0;34m,\u001b[0m \u001b[0mC\u001b[0m\u001b[0;34m,\u001b[0m \u001b[0mH\u001b[0m\u001b[0;34m,\u001b[0m \u001b[0mW\u001b[0m\u001b[0;34m,\u001b[0m \u001b[0mHH\u001b[0m\u001b[0;34m,\u001b[0m \u001b[0mWW\u001b[0m\u001b[0;34m,\u001b[0m \u001b[0mpad\u001b[0m\u001b[0;34m,\u001b[0m \u001b[0mstride\u001b[0m\u001b[0;34m)\u001b[0m\u001b[0;34m\u001b[0m\u001b[0;34m\u001b[0m\u001b[0m\n\u001b[0m\u001b[1;32m    104\u001b[0m \u001b[0;34m\u001b[0m\u001b[0m\n\u001b[1;32m    105\u001b[0m     \u001b[0;32mreturn\u001b[0m \u001b[0mdx\u001b[0m\u001b[0;34m,\u001b[0m \u001b[0mdw\u001b[0m\u001b[0;34m,\u001b[0m \u001b[0mdb\u001b[0m\u001b[0;34m\u001b[0m\u001b[0;34m\u001b[0m\u001b[0m\n",
            "\u001b[0;31mNameError\u001b[0m: name 'col2im_6d_cython' is not defined"
          ]
        }
      ]
    },
    {
      "cell_type": "code",
      "source": [],
      "metadata": {
        "id": "-pDvlvzSmFRN"
      },
      "execution_count": null,
      "outputs": []
    },
    {
      "cell_type": "code",
      "source": [
        "from google.colab import drive\n",
        "drive.mount('/content/drive', force_remount=True)\n",
        "\n",
        "import sys\n",
        "sys.path.append('/content/drive/My Drive/ML/Lab1/assignment1')\n",
        "\n",
        "from ece662.fast_layers import conv_forward_fast, conv_backward_fast\n",
        "from ece662.layers import conv_forward_naive, conv_backward_naive\n"
      ],
      "metadata": {
        "colab": {
          "base_uri": "https://localhost:8080/"
        },
        "id": "mLRAgLnzmFKb",
        "outputId": "34738257-e5df-4ded-bd00-6584b00e86ed"
      },
      "execution_count": 55,
      "outputs": [
        {
          "output_type": "stream",
          "name": "stdout",
          "text": [
            "Mounted at /content/drive\n"
          ]
        }
      ]
    },
    {
      "cell_type": "code",
      "metadata": {
        "id": "HrhRUy36GnhA",
        "colab": {
          "base_uri": "https://localhost:8080/"
        },
        "outputId": "7eb9c4ad-9f84-4221-b28e-5b485014b5f6"
      },
      "source": [
        "# Relative errors should be close to 0.0\n",
        "from ece662.fast_layers import conv_forward_fast, conv_backward_fast\n",
        "\n",
        "\n",
        "np.random.seed(231)\n",
        "x = np.random.randn(100, 3, 32, 32)\n",
        "dout = np.random.randn(100, 3, 16, 16)\n",
        "pool_param = {'pool_height': 2, 'pool_width': 2, 'stride': 2}\n",
        "\n",
        "t0 = time()\n",
        "out_naive, cache_naive = max_pool_forward_naive(x, pool_param)\n",
        "t1 = time()\n",
        "out_fast, cache_fast = max_pool_forward_fast(x, pool_param)\n",
        "t2 = time()\n",
        "\n",
        "print('Testing pool_forward_fast:')\n",
        "print('Naive: %fs' % (t1 - t0))\n",
        "print('fast: %fs' % (t2 - t1))\n",
        "print('speedup: %fx' % ((t1 - t0) / (t2 - t1)))\n",
        "print('difference: ', rel_error(out_naive, out_fast))\n",
        "\n",
        "t0 = time()\n",
        "dx_naive = max_pool_backward_naive(dout, cache_naive)\n",
        "t1 = time()\n",
        "dx_fast = max_pool_backward_fast(dout, cache_fast)\n",
        "t2 = time()\n",
        "\n",
        "print('\\nTesting pool_backward_fast:')\n",
        "print('Naive: %fs' % (t1 - t0))\n",
        "print('fast: %fs' % (t2 - t1))\n",
        "print('speedup: %fx' % ((t1 - t0) / (t2 - t1)))\n",
        "print('dx difference: ', rel_error(dx_naive, dx_fast))"
      ],
      "execution_count": 79,
      "outputs": [
        {
          "output_type": "stream",
          "name": "stdout",
          "text": [
            "Testing pool_forward_fast:\n",
            "Naive: 0.512824s\n",
            "fast: 0.009560s\n",
            "speedup: 53.642077x\n",
            "difference:  0.0\n",
            "\n",
            "Testing pool_backward_fast:\n",
            "Naive: 1.663082s\n",
            "fast: 0.021914s\n",
            "speedup: 75.892952x\n",
            "dx difference:  0.0\n"
          ]
        }
      ]
    },
    {
      "cell_type": "markdown",
      "metadata": {
        "id": "YIGE8vLcGnhE"
      },
      "source": [
        "# Convolutional \"sandwich\" layers\n",
        "Previously we introduced the concept of \"sandwich\" layers that combine multiple operations into commonly used patterns. In the file `ece697ls/layer_utils.py` you will find sandwich layers that implement a few commonly used patterns for convolutional networks. Run the cells below to sanity check they're working."
      ]
    },
    {
      "cell_type": "code",
      "source": [
        "from ece662.layer_utils import conv_relu_pool_forward, conv_relu_pool_backward\n"
      ],
      "metadata": {
        "id": "J3-PbEfUnoxx"
      },
      "execution_count": 69,
      "outputs": []
    },
    {
      "cell_type": "code",
      "source": [
        "import sys\n",
        "sys.path.append('/content/drive/My Drive/ML/Lab1/assignment1')\n"
      ],
      "metadata": {
        "id": "LCQbKH-WntYG"
      },
      "execution_count": 70,
      "outputs": []
    },
    {
      "cell_type": "code",
      "source": [
        "import numpy as np\n",
        "from ece662.layers import conv_forward_naive, conv_backward_naive\n",
        "\n",
        "# Try importing the Cython function\n",
        "try:\n",
        "    from im2col_cython import col2im_6d_cython\n",
        "except ImportError:\n",
        "    col2im_6d_cython = None\n",
        "\n",
        "\n",
        "def conv_forward_fast(x, w, b, conv_param):\n",
        "    \"\"\"\n",
        "    Fast version of the forward pass for a convolutional layer.\n",
        "    Falls back to the naive version if Cython is not available.\n",
        "    \"\"\"\n",
        "    if col2im_6d_cython is None:\n",
        "        print(\"[!] Falling back to conv_forward_naive (Cython not available)\")\n",
        "        return conv_forward_naive(x, w, b, conv_param)\n",
        "    # ---- your existing fast implementation code here ----\n",
        "\n",
        "\n",
        "def conv_backward_fast(dout, cache):\n",
        "    \"\"\"\n",
        "    Fast version of the backward pass for a convolutional layer.\n",
        "    Falls back to the naive version if Cython is not available.\n",
        "    \"\"\"\n",
        "    if col2im_6d_cython is None:\n",
        "        print(\"[!] Falling back to conv_backward_naive (Cython not available)\")\n",
        "        return conv_backward_naive(dout, cache)\n",
        "    # ---- your existing fast implementation code here ----\n"
      ],
      "metadata": {
        "id": "B8ayYIW-oUSo"
      },
      "execution_count": 71,
      "outputs": []
    },
    {
      "cell_type": "code",
      "source": [
        "from ece662.fast_layers import conv_forward_fast, conv_backward_fast\n",
        "from ece662.layers import conv_forward_naive, conv_backward_naive\n"
      ],
      "metadata": {
        "id": "N1cdxtjXp5Su"
      },
      "execution_count": 72,
      "outputs": []
    },
    {
      "cell_type": "code",
      "metadata": {
        "id": "KS01B-jBGnhF",
        "colab": {
          "base_uri": "https://localhost:8080/",
          "height": 356
        },
        "outputId": "562143c4-607c-4ebd-eae5-d4ef0e970847"
      },
      "source": [
        "from ece662.layer_utils import conv_relu_pool_forward, conv_relu_pool_backward\n",
        "import numpy as np\n",
        "\n",
        "np.random.seed(231)\n",
        "x = np.random.randn(2, 3, 16, 16)\n",
        "w = np.random.randn(3, 3, 3, 3)\n",
        "b = np.random.randn(3,)\n",
        "dout = np.random.randn(2, 3, 8, 8)\n",
        "conv_param = {'stride': 1, 'pad': 1}\n",
        "pool_param = {'pool_height': 2, 'pool_width': 2, 'stride': 2}\n",
        "\n",
        "out, cache = conv_relu_pool_forward(x, w, b, conv_param, pool_param)\n",
        "dx, dw, db = conv_relu_pool_backward(dout, cache)\n",
        "\n",
        "dx_num = eval_numerical_gradient_array(\n",
        "    lambda x: conv_relu_pool_forward(x, w, b, conv_param, pool_param)[0], x, dout)\n",
        "dw_num = eval_numerical_gradient_array(\n",
        "    lambda w: conv_relu_pool_forward(x, w, b, conv_param, pool_param)[0], w, dout)\n",
        "db_num = eval_numerical_gradient_array(\n",
        "    lambda b: conv_relu_pool_forward(x, w, b, conv_param, pool_param)[0], b, dout)\n",
        "\n",
        "# Relative errors should be around e-8 or less\n",
        "print('Testing conv_relu_pool')\n",
        "print('dx error: ', rel_error(dx_num, dx))\n",
        "print('dw error: ', rel_error(dw_num, dw))\n",
        "print('db error: ', rel_error(db_num, db))\n"
      ],
      "execution_count": 80,
      "outputs": [
        {
          "output_type": "error",
          "ename": "NameError",
          "evalue": "name 'col2im_6d_cython' is not defined",
          "traceback": [
            "\u001b[0;31m---------------------------------------------------------------------------\u001b[0m",
            "\u001b[0;31mNameError\u001b[0m                                 Traceback (most recent call last)",
            "\u001b[0;32m/tmp/ipython-input-524610943.py\u001b[0m in \u001b[0;36m<cell line: 0>\u001b[0;34m()\u001b[0m\n\u001b[1;32m     11\u001b[0m \u001b[0;34m\u001b[0m\u001b[0m\n\u001b[1;32m     12\u001b[0m \u001b[0mout\u001b[0m\u001b[0;34m,\u001b[0m \u001b[0mcache\u001b[0m \u001b[0;34m=\u001b[0m \u001b[0mconv_relu_pool_forward\u001b[0m\u001b[0;34m(\u001b[0m\u001b[0mx\u001b[0m\u001b[0;34m,\u001b[0m \u001b[0mw\u001b[0m\u001b[0;34m,\u001b[0m \u001b[0mb\u001b[0m\u001b[0;34m,\u001b[0m \u001b[0mconv_param\u001b[0m\u001b[0;34m,\u001b[0m \u001b[0mpool_param\u001b[0m\u001b[0;34m)\u001b[0m\u001b[0;34m\u001b[0m\u001b[0;34m\u001b[0m\u001b[0m\n\u001b[0;32m---> 13\u001b[0;31m \u001b[0mdx\u001b[0m\u001b[0;34m,\u001b[0m \u001b[0mdw\u001b[0m\u001b[0;34m,\u001b[0m \u001b[0mdb\u001b[0m \u001b[0;34m=\u001b[0m \u001b[0mconv_relu_pool_backward\u001b[0m\u001b[0;34m(\u001b[0m\u001b[0mdout\u001b[0m\u001b[0;34m,\u001b[0m \u001b[0mcache\u001b[0m\u001b[0;34m)\u001b[0m\u001b[0;34m\u001b[0m\u001b[0;34m\u001b[0m\u001b[0m\n\u001b[0m\u001b[1;32m     14\u001b[0m \u001b[0;34m\u001b[0m\u001b[0m\n\u001b[1;32m     15\u001b[0m dx_num = eval_numerical_gradient_array(\n",
            "\u001b[0;32m/content/drive/My Drive/Lab1/assignment1/ece662/layer_utils.py\u001b[0m in \u001b[0;36mconv_relu_pool_backward\u001b[0;34m(dout, cache)\u001b[0m\n\u001b[1;32m    107\u001b[0m     \u001b[0mds\u001b[0m \u001b[0;34m=\u001b[0m \u001b[0mmax_pool_backward_fast\u001b[0m\u001b[0;34m(\u001b[0m\u001b[0mdout\u001b[0m\u001b[0;34m,\u001b[0m \u001b[0mpool_cache\u001b[0m\u001b[0;34m)\u001b[0m\u001b[0;34m\u001b[0m\u001b[0;34m\u001b[0m\u001b[0m\n\u001b[1;32m    108\u001b[0m     \u001b[0mda\u001b[0m \u001b[0;34m=\u001b[0m \u001b[0mrelu_backward\u001b[0m\u001b[0;34m(\u001b[0m\u001b[0mds\u001b[0m\u001b[0;34m,\u001b[0m \u001b[0mrelu_cache\u001b[0m\u001b[0;34m)\u001b[0m\u001b[0;34m\u001b[0m\u001b[0;34m\u001b[0m\u001b[0m\n\u001b[0;32m--> 109\u001b[0;31m     \u001b[0mdx\u001b[0m\u001b[0;34m,\u001b[0m \u001b[0mdw\u001b[0m\u001b[0;34m,\u001b[0m \u001b[0mdb\u001b[0m \u001b[0;34m=\u001b[0m \u001b[0mconv_backward_fast\u001b[0m\u001b[0;34m(\u001b[0m\u001b[0mda\u001b[0m\u001b[0;34m,\u001b[0m \u001b[0mconv_cache\u001b[0m\u001b[0;34m)\u001b[0m\u001b[0;34m\u001b[0m\u001b[0;34m\u001b[0m\u001b[0m\n\u001b[0m\u001b[1;32m    110\u001b[0m     \u001b[0;32mreturn\u001b[0m \u001b[0mdx\u001b[0m\u001b[0;34m,\u001b[0m \u001b[0mdw\u001b[0m\u001b[0;34m,\u001b[0m \u001b[0mdb\u001b[0m\u001b[0;34m\u001b[0m\u001b[0;34m\u001b[0m\u001b[0m\n",
            "\u001b[0;32m/content/drive/My Drive/Lab1/assignment1/ece662/fast_layers.py\u001b[0m in \u001b[0;36mconv_backward_strides\u001b[0;34m(dout, cache)\u001b[0m\n\u001b[1;32m    101\u001b[0m \u001b[0;34m\u001b[0m\u001b[0m\n\u001b[1;32m    102\u001b[0m     \u001b[0mdout_reshaped\u001b[0m \u001b[0;34m=\u001b[0m \u001b[0mdout\u001b[0m\u001b[0;34m.\u001b[0m\u001b[0mtranspose\u001b[0m\u001b[0;34m(\u001b[0m\u001b[0;36m1\u001b[0m\u001b[0;34m,\u001b[0m \u001b[0;36m0\u001b[0m\u001b[0;34m,\u001b[0m \u001b[0;36m2\u001b[0m\u001b[0;34m,\u001b[0m \u001b[0;36m3\u001b[0m\u001b[0;34m)\u001b[0m\u001b[0;34m.\u001b[0m\u001b[0mreshape\u001b[0m\u001b[0;34m(\u001b[0m\u001b[0mF\u001b[0m\u001b[0;34m,\u001b[0m \u001b[0;34m-\u001b[0m\u001b[0;36m1\u001b[0m\u001b[0;34m)\u001b[0m\u001b[0;34m\u001b[0m\u001b[0;34m\u001b[0m\u001b[0m\n\u001b[0;32m--> 103\u001b[0;31m     \u001b[0mdw\u001b[0m \u001b[0;34m=\u001b[0m \u001b[0mdout_reshaped\u001b[0m\u001b[0;34m.\u001b[0m\u001b[0mdot\u001b[0m\u001b[0;34m(\u001b[0m\u001b[0mx_cols\u001b[0m\u001b[0;34m.\u001b[0m\u001b[0mT\u001b[0m\u001b[0;34m)\u001b[0m\u001b[0;34m.\u001b[0m\u001b[0mreshape\u001b[0m\u001b[0;34m(\u001b[0m\u001b[0mw\u001b[0m\u001b[0;34m.\u001b[0m\u001b[0mshape\u001b[0m\u001b[0;34m)\u001b[0m\u001b[0;34m\u001b[0m\u001b[0;34m\u001b[0m\u001b[0m\n\u001b[0m\u001b[1;32m    104\u001b[0m \u001b[0;34m\u001b[0m\u001b[0m\n\u001b[1;32m    105\u001b[0m     \u001b[0mdx_cols\u001b[0m \u001b[0;34m=\u001b[0m \u001b[0mw\u001b[0m\u001b[0;34m.\u001b[0m\u001b[0mreshape\u001b[0m\u001b[0;34m(\u001b[0m\u001b[0mF\u001b[0m\u001b[0;34m,\u001b[0m \u001b[0;34m-\u001b[0m\u001b[0;36m1\u001b[0m\u001b[0;34m)\u001b[0m\u001b[0;34m.\u001b[0m\u001b[0mT\u001b[0m\u001b[0;34m.\u001b[0m\u001b[0mdot\u001b[0m\u001b[0;34m(\u001b[0m\u001b[0mdout_reshaped\u001b[0m\u001b[0;34m)\u001b[0m\u001b[0;34m\u001b[0m\u001b[0;34m\u001b[0m\u001b[0m\n",
            "\u001b[0;31mNameError\u001b[0m: name 'col2im_6d_cython' is not defined"
          ]
        }
      ]
    },
    {
      "cell_type": "code",
      "source": [
        "from ece662.layer_utils import conv_relu_forward, conv_relu_backward\n"
      ],
      "metadata": {
        "id": "6E2KLxRcjtXG"
      },
      "execution_count": 42,
      "outputs": []
    },
    {
      "cell_type": "code",
      "source": [
        "import layer_utils\n",
        "dir(layer_utils)\n"
      ],
      "metadata": {
        "colab": {
          "base_uri": "https://localhost:8080/"
        },
        "id": "ikbTPjIqlAw4",
        "outputId": "3de4c8cb-c581-4514-bda7-7a324f9f32e1"
      },
      "execution_count": 49,
      "outputs": [
        {
          "output_type": "execute_result",
          "data": {
            "text/plain": [
              "['__builtins__',\n",
              " '__cached__',\n",
              " '__doc__',\n",
              " '__file__',\n",
              " '__loader__',\n",
              " '__name__',\n",
              " '__package__',\n",
              " '__spec__',\n",
              " 'affine_backward',\n",
              " 'affine_forward',\n",
              " 'affine_relu_backward',\n",
              " 'affine_relu_forward',\n",
              " 'batchnorm_backward',\n",
              " 'batchnorm_backward_alt',\n",
              " 'batchnorm_forward',\n",
              " 'col2im_indices',\n",
              " 'conv_backward_fast',\n",
              " 'conv_backward_im2col',\n",
              " 'conv_backward_naive',\n",
              " 'conv_backward_strides',\n",
              " 'conv_bn_relu_backward',\n",
              " 'conv_bn_relu_forward',\n",
              " 'conv_forward_fast',\n",
              " 'conv_forward_im2col',\n",
              " 'conv_forward_naive',\n",
              " 'conv_forward_strides',\n",
              " 'conv_relu_backward',\n",
              " 'conv_relu_forward',\n",
              " 'conv_relu_pool_backward',\n",
              " 'conv_relu_pool_forward',\n",
              " 'dropout_backward',\n",
              " 'dropout_forward',\n",
              " 'get_im2col_indices',\n",
              " 'im2col_indices',\n",
              " 'layernorm_backward',\n",
              " 'layernorm_forward',\n",
              " 'max_pool_backward_fast',\n",
              " 'max_pool_backward_im2col',\n",
              " 'max_pool_backward_naive',\n",
              " 'max_pool_backward_reshape',\n",
              " 'max_pool_forward_fast',\n",
              " 'max_pool_forward_im2col',\n",
              " 'max_pool_forward_naive',\n",
              " 'max_pool_forward_reshape',\n",
              " 'np',\n",
              " 'print_function',\n",
              " 'range',\n",
              " 'relu_backward',\n",
              " 'relu_forward',\n",
              " 'softmax_loss',\n",
              " 'spatial_batchnorm_backward',\n",
              " 'spatial_batchnorm_forward',\n",
              " 'spatial_groupnorm_backward',\n",
              " 'spatial_groupnorm_forward',\n",
              " 'svm_loss']"
            ]
          },
          "metadata": {},
          "execution_count": 49
        }
      ]
    },
    {
      "cell_type": "code",
      "metadata": {
        "id": "qtQ7P9sjGnhJ",
        "colab": {
          "base_uri": "https://localhost:8080/",
          "height": 384
        },
        "outputId": "e7ca8e47-fa55-44b5-aa77-bb6f2c28621b"
      },
      "source": [
        "import sys\n",
        "sys.path.append('/content')\n",
        "\n",
        "from layer_utils import conv_relu_forward, conv_relu_backward\n",
        "\n",
        "\n",
        "from ece662ls.layer_utils import conv_relu_forward, conv_relu_backward\n",
        "np.random.seed(231)\n",
        "x = np.random.randn(2, 3, 8, 8)\n",
        "w = np.random.randn(3, 3, 3, 3)\n",
        "b = np.random.randn(3,)\n",
        "dout = np.random.randn(2, 3, 8, 8)\n",
        "conv_param = {'stride': 1, 'pad': 1}\n",
        "\n",
        "out, cache = conv_relu_forward(x, w, b, conv_param)\n",
        "dx, dw, db = conv_relu_backward(dout, cache)\n",
        "\n",
        "dx_num = eval_numerical_gradient_array(lambda x: conv_relu_forward(x, w, b, conv_param)[0], x, dout)\n",
        "dw_num = eval_numerical_gradient_array(lambda w: conv_relu_forward(x, w, b, conv_param)[0], w, dout)\n",
        "db_num = eval_numerical_gradient_array(lambda b: conv_relu_forward(x, w, b, conv_param)[0], b, dout)\n",
        "\n",
        "# Relative errors should be around e-8 or less\n",
        "print('Testing conv_relu:')\n",
        "print('dx error: ', rel_error(dx_num, dx))\n",
        "print('dw error: ', rel_error(dw_num, dw))\n",
        "print('db error: ', rel_error(db_num, db))"
      ],
      "execution_count": 82,
      "outputs": [
        {
          "output_type": "error",
          "ename": "ModuleNotFoundError",
          "evalue": "No module named 'ece662ls.layer_utils'",
          "traceback": [
            "\u001b[0;31m---------------------------------------------------------------------------\u001b[0m",
            "\u001b[0;31mModuleNotFoundError\u001b[0m                       Traceback (most recent call last)",
            "\u001b[0;32m/tmp/ipython-input-1097052439.py\u001b[0m in \u001b[0;36m<cell line: 0>\u001b[0;34m()\u001b[0m\n\u001b[1;32m      5\u001b[0m \u001b[0;34m\u001b[0m\u001b[0m\n\u001b[1;32m      6\u001b[0m \u001b[0;34m\u001b[0m\u001b[0m\n\u001b[0;32m----> 7\u001b[0;31m \u001b[0;32mfrom\u001b[0m \u001b[0mece662ls\u001b[0m\u001b[0;34m.\u001b[0m\u001b[0mlayer_utils\u001b[0m \u001b[0;32mimport\u001b[0m \u001b[0mconv_relu_forward\u001b[0m\u001b[0;34m,\u001b[0m \u001b[0mconv_relu_backward\u001b[0m\u001b[0;34m\u001b[0m\u001b[0;34m\u001b[0m\u001b[0m\n\u001b[0m\u001b[1;32m      8\u001b[0m \u001b[0mnp\u001b[0m\u001b[0;34m.\u001b[0m\u001b[0mrandom\u001b[0m\u001b[0;34m.\u001b[0m\u001b[0mseed\u001b[0m\u001b[0;34m(\u001b[0m\u001b[0;36m231\u001b[0m\u001b[0;34m)\u001b[0m\u001b[0;34m\u001b[0m\u001b[0;34m\u001b[0m\u001b[0m\n\u001b[1;32m      9\u001b[0m \u001b[0mx\u001b[0m \u001b[0;34m=\u001b[0m \u001b[0mnp\u001b[0m\u001b[0;34m.\u001b[0m\u001b[0mrandom\u001b[0m\u001b[0;34m.\u001b[0m\u001b[0mrandn\u001b[0m\u001b[0;34m(\u001b[0m\u001b[0;36m2\u001b[0m\u001b[0;34m,\u001b[0m \u001b[0;36m3\u001b[0m\u001b[0;34m,\u001b[0m \u001b[0;36m8\u001b[0m\u001b[0;34m,\u001b[0m \u001b[0;36m8\u001b[0m\u001b[0;34m)\u001b[0m\u001b[0;34m\u001b[0m\u001b[0;34m\u001b[0m\u001b[0m\n",
            "\u001b[0;31mModuleNotFoundError\u001b[0m: No module named 'ece662ls.layer_utils'",
            "",
            "\u001b[0;31m---------------------------------------------------------------------------\u001b[0;32m\nNOTE: If your import is failing due to a missing package, you can\nmanually install dependencies using either !pip or !apt.\n\nTo view examples of installing some common dependencies, click the\n\"Open Examples\" button below.\n\u001b[0;31m---------------------------------------------------------------------------\u001b[0m\n"
          ],
          "errorDetails": {
            "actions": [
              {
                "action": "open_url",
                "actionText": "Open Examples",
                "url": "/notebooks/snippets/importing_libraries.ipynb"
              }
            ]
          }
        }
      ]
    },
    {
      "cell_type": "markdown",
      "metadata": {
        "id": "OfA0ELuxGnhN"
      },
      "source": [
        "# Three-layer ConvNet\n",
        "Now that you have implemented all the necessary layers, we can put them together into a simple convolutional network.\n",
        "\n",
        "Open the file `ece697ls/classifiers/cnn.py` and complete the implementation of the `ThreeLayerConvNet` class. Remember you can use the fast/sandwich layers (already imported for you) in your implementation. Run the following cells to help you debug:"
      ]
    },
    {
      "cell_type": "markdown",
      "metadata": {
        "id": "FuQhSaOKGnhO"
      },
      "source": [
        "## Sanity check loss\n",
        "After you build a new network, one of the first things you should do is sanity check the loss. When we use the softmax loss, we expect the loss for random weights (and no regularization) to be about `log(C)` for `C` classes. When we add regularization the loss should go up slightly."
      ]
    },
    {
      "cell_type": "code",
      "source": [
        "from ece662.classifiers.cnn import ThreeLayerConvNet\n"
      ],
      "metadata": {
        "id": "zllIn7PfBJSl"
      },
      "execution_count": 94,
      "outputs": []
    },
    {
      "cell_type": "code",
      "metadata": {
        "id": "JNi88lgjGnhP",
        "colab": {
          "base_uri": "https://localhost:8080/",
          "height": 356
        },
        "outputId": "dec40eef-7df1-469a-f893-8beed1293114"
      },
      "source": [
        "model = ThreeLayerConvNet()\n",
        "\n",
        "N = 50\n",
        "X = np.random.randn(N, 3, 32, 32)\n",
        "y = np.random.randint(10, size=N)\n",
        "\n",
        "loss, grads = model.loss(X, y)\n",
        "print('Initial loss (no regularization): ', loss)\n",
        "\n",
        "model.reg = 0.5\n",
        "loss, grads = model.loss(X, y)\n",
        "print('Initial loss (with regularization): ', loss)"
      ],
      "execution_count": 101,
      "outputs": [
        {
          "output_type": "error",
          "ename": "NameError",
          "evalue": "name 'col2im_6d_cython' is not defined",
          "traceback": [
            "\u001b[0;31m---------------------------------------------------------------------------\u001b[0m",
            "\u001b[0;31mNameError\u001b[0m                                 Traceback (most recent call last)",
            "\u001b[0;32m/tmp/ipython-input-2515226595.py\u001b[0m in \u001b[0;36m<cell line: 0>\u001b[0;34m()\u001b[0m\n\u001b[1;32m      5\u001b[0m \u001b[0my\u001b[0m \u001b[0;34m=\u001b[0m \u001b[0mnp\u001b[0m\u001b[0;34m.\u001b[0m\u001b[0mrandom\u001b[0m\u001b[0;34m.\u001b[0m\u001b[0mrandint\u001b[0m\u001b[0;34m(\u001b[0m\u001b[0;36m10\u001b[0m\u001b[0;34m,\u001b[0m \u001b[0msize\u001b[0m\u001b[0;34m=\u001b[0m\u001b[0mN\u001b[0m\u001b[0;34m)\u001b[0m\u001b[0;34m\u001b[0m\u001b[0;34m\u001b[0m\u001b[0m\n\u001b[1;32m      6\u001b[0m \u001b[0;34m\u001b[0m\u001b[0m\n\u001b[0;32m----> 7\u001b[0;31m \u001b[0mloss\u001b[0m\u001b[0;34m,\u001b[0m \u001b[0mgrads\u001b[0m \u001b[0;34m=\u001b[0m \u001b[0mmodel\u001b[0m\u001b[0;34m.\u001b[0m\u001b[0mloss\u001b[0m\u001b[0;34m(\u001b[0m\u001b[0mX\u001b[0m\u001b[0;34m,\u001b[0m \u001b[0my\u001b[0m\u001b[0;34m)\u001b[0m\u001b[0;34m\u001b[0m\u001b[0;34m\u001b[0m\u001b[0m\n\u001b[0m\u001b[1;32m      8\u001b[0m \u001b[0mprint\u001b[0m\u001b[0;34m(\u001b[0m\u001b[0;34m'Initial loss (no regularization): '\u001b[0m\u001b[0;34m,\u001b[0m \u001b[0mloss\u001b[0m\u001b[0;34m)\u001b[0m\u001b[0;34m\u001b[0m\u001b[0;34m\u001b[0m\u001b[0m\n\u001b[1;32m      9\u001b[0m \u001b[0;34m\u001b[0m\u001b[0m\n",
            "\u001b[0;32m/content/drive/My Drive/Lab1/assignment1/ece662/classifiers/cnn.py\u001b[0m in \u001b[0;36mloss\u001b[0;34m(self, X, y)\u001b[0m\n\u001b[1;32m     88\u001b[0m         \u001b[0mfilter_size\u001b[0m \u001b[0;34m=\u001b[0m \u001b[0mW1\u001b[0m\u001b[0;34m.\u001b[0m\u001b[0mshape\u001b[0m\u001b[0;34m[\u001b[0m\u001b[0;36m2\u001b[0m\u001b[0;34m]\u001b[0m\u001b[0;34m\u001b[0m\u001b[0;34m\u001b[0m\u001b[0m\n\u001b[1;32m     89\u001b[0m         \u001b[0mconv_param\u001b[0m \u001b[0;34m=\u001b[0m \u001b[0;34m{\u001b[0m\u001b[0;34m\"stride\"\u001b[0m\u001b[0;34m:\u001b[0m \u001b[0;36m1\u001b[0m\u001b[0;34m,\u001b[0m \u001b[0;34m\"pad\"\u001b[0m\u001b[0;34m:\u001b[0m \u001b[0;34m(\u001b[0m\u001b[0mfilter_size\u001b[0m \u001b[0;34m-\u001b[0m \u001b[0;36m1\u001b[0m\u001b[0;34m)\u001b[0m \u001b[0;34m//\u001b[0m \u001b[0;36m2\u001b[0m\u001b[0;34m}\u001b[0m\u001b[0;34m\u001b[0m\u001b[0;34m\u001b[0m\u001b[0m\n\u001b[0;32m---> 90\u001b[0;31m \u001b[0;34m\u001b[0m\u001b[0m\n\u001b[0m\u001b[1;32m     91\u001b[0m         \u001b[0;31m# pass pool_param to the forward pass for the max-pooling layer\u001b[0m\u001b[0;34m\u001b[0m\u001b[0;34m\u001b[0m\u001b[0m\n\u001b[1;32m     92\u001b[0m         \u001b[0mpool_param\u001b[0m \u001b[0;34m=\u001b[0m \u001b[0;34m{\u001b[0m\u001b[0;34m\"pool_height\"\u001b[0m\u001b[0;34m:\u001b[0m \u001b[0;36m2\u001b[0m\u001b[0;34m,\u001b[0m \u001b[0;34m\"pool_width\"\u001b[0m\u001b[0;34m:\u001b[0m \u001b[0;36m2\u001b[0m\u001b[0;34m,\u001b[0m \u001b[0;34m\"stride\"\u001b[0m\u001b[0;34m:\u001b[0m \u001b[0;36m2\u001b[0m\u001b[0;34m}\u001b[0m\u001b[0;34m\u001b[0m\u001b[0;34m\u001b[0m\u001b[0m\n",
            "\u001b[0;32m/content/drive/My Drive/Lab1/assignment1/ece662/layer_utils.py\u001b[0m in \u001b[0;36mconv_relu_pool_backward\u001b[0;34m(dout, cache)\u001b[0m\n\u001b[1;32m    107\u001b[0m     \u001b[0mds\u001b[0m \u001b[0;34m=\u001b[0m \u001b[0mmax_pool_backward_fast\u001b[0m\u001b[0;34m(\u001b[0m\u001b[0mdout\u001b[0m\u001b[0;34m,\u001b[0m \u001b[0mpool_cache\u001b[0m\u001b[0;34m)\u001b[0m\u001b[0;34m\u001b[0m\u001b[0;34m\u001b[0m\u001b[0m\n\u001b[1;32m    108\u001b[0m     \u001b[0mda\u001b[0m \u001b[0;34m=\u001b[0m \u001b[0mrelu_backward\u001b[0m\u001b[0;34m(\u001b[0m\u001b[0mds\u001b[0m\u001b[0;34m,\u001b[0m \u001b[0mrelu_cache\u001b[0m\u001b[0;34m)\u001b[0m\u001b[0;34m\u001b[0m\u001b[0;34m\u001b[0m\u001b[0m\n\u001b[0;32m--> 109\u001b[0;31m     \u001b[0mdx\u001b[0m\u001b[0;34m,\u001b[0m \u001b[0mdw\u001b[0m\u001b[0;34m,\u001b[0m \u001b[0mdb\u001b[0m \u001b[0;34m=\u001b[0m \u001b[0mconv_backward_fast\u001b[0m\u001b[0;34m(\u001b[0m\u001b[0mda\u001b[0m\u001b[0;34m,\u001b[0m \u001b[0mconv_cache\u001b[0m\u001b[0;34m)\u001b[0m\u001b[0;34m\u001b[0m\u001b[0;34m\u001b[0m\u001b[0m\n\u001b[0m\u001b[1;32m    110\u001b[0m     \u001b[0;32mreturn\u001b[0m \u001b[0mdx\u001b[0m\u001b[0;34m,\u001b[0m \u001b[0mdw\u001b[0m\u001b[0;34m,\u001b[0m \u001b[0mdb\u001b[0m\u001b[0;34m\u001b[0m\u001b[0;34m\u001b[0m\u001b[0m\n",
            "\u001b[0;32m/content/drive/My Drive/Lab1/assignment1/ece662/fast_layers.py\u001b[0m in \u001b[0;36mconv_backward_strides\u001b[0;34m(dout, cache)\u001b[0m\n\u001b[1;32m    101\u001b[0m \u001b[0;34m\u001b[0m\u001b[0m\n\u001b[1;32m    102\u001b[0m     \u001b[0mThis\u001b[0m \u001b[0mchooses\u001b[0m \u001b[0mbetween\u001b[0m \u001b[0mthe\u001b[0m \u001b[0mreshape\u001b[0m \u001b[0mmethod\u001b[0m \u001b[0;32mand\u001b[0m \u001b[0mthe\u001b[0m \u001b[0mim2col\u001b[0m \u001b[0mmethod\u001b[0m\u001b[0;34m.\u001b[0m \u001b[0mIf\u001b[0m \u001b[0mthe\u001b[0m \u001b[0mpooling\u001b[0m\u001b[0;34m\u001b[0m\u001b[0;34m\u001b[0m\u001b[0m\n\u001b[0;32m--> 103\u001b[0;31m     \u001b[0mregions\u001b[0m \u001b[0mare\u001b[0m \u001b[0msquare\u001b[0m \u001b[0;32mand\u001b[0m \u001b[0mtile\u001b[0m \u001b[0mthe\u001b[0m \u001b[0minput\u001b[0m \u001b[0mimage\u001b[0m\u001b[0;34m,\u001b[0m \u001b[0mthen\u001b[0m \u001b[0mwe\u001b[0m \u001b[0mcan\u001b[0m \u001b[0muse\u001b[0m \u001b[0mthe\u001b[0m \u001b[0mreshape\u001b[0m\u001b[0;34m\u001b[0m\u001b[0;34m\u001b[0m\u001b[0m\n\u001b[0m\u001b[1;32m    104\u001b[0m     \u001b[0mmethod\u001b[0m \u001b[0mwhich\u001b[0m \u001b[0;32mis\u001b[0m \u001b[0mvery\u001b[0m \u001b[0mfast\u001b[0m\u001b[0;34m.\u001b[0m \u001b[0mOtherwise\u001b[0m \u001b[0mwe\u001b[0m \u001b[0mfall\u001b[0m \u001b[0mback\u001b[0m \u001b[0mon\u001b[0m \u001b[0mthe\u001b[0m \u001b[0mim2col\u001b[0m \u001b[0mmethod\u001b[0m\u001b[0;34m,\u001b[0m \u001b[0mwhich\u001b[0m\u001b[0;34m\u001b[0m\u001b[0;34m\u001b[0m\u001b[0m\n\u001b[1;32m    105\u001b[0m     \u001b[0;32mis\u001b[0m \u001b[0;32mnot\u001b[0m \u001b[0mmuch\u001b[0m \u001b[0mfaster\u001b[0m \u001b[0mthan\u001b[0m \u001b[0mthe\u001b[0m \u001b[0mnaive\u001b[0m \u001b[0mmethod\u001b[0m\u001b[0;34m.\u001b[0m\u001b[0;34m\u001b[0m\u001b[0;34m\u001b[0m\u001b[0m\n",
            "\u001b[0;31mNameError\u001b[0m: name 'col2im_6d_cython' is not defined"
          ]
        }
      ]
    },
    {
      "cell_type": "markdown",
      "metadata": {
        "id": "YwsxQmmTGnhV"
      },
      "source": [
        "## Gradient check\n",
        "After the loss looks reasonable, use numeric gradient checking to make sure that your backward pass is correct. When you use numeric gradient checking you should use a small amount of artifical data and a small number of neurons at each layer. Note: correct implementations may still have relative errors up to the order of e-2."
      ]
    },
    {
      "cell_type": "code",
      "metadata": {
        "id": "0Qe61-H8GnhW",
        "colab": {
          "base_uri": "https://localhost:8080/",
          "height": 356
        },
        "outputId": "4d401ec7-ba61-40b2-f0b6-645682cae61b"
      },
      "source": [
        "num_inputs = 2\n",
        "input_dim = (3, 16, 16)\n",
        "reg = 0.0\n",
        "num_classes = 10\n",
        "np.random.seed(231)\n",
        "X = np.random.randn(num_inputs, *input_dim)\n",
        "y = np.random.randint(num_classes, size=num_inputs)\n",
        "\n",
        "model = ThreeLayerConvNet(num_filters=3, filter_size=3,\n",
        "                          input_dim=input_dim, hidden_dim=7,\n",
        "                          dtype=np.float64)\n",
        "loss, grads = model.loss(X, y)\n",
        "# Errors should be small, but correct implementations may have\n",
        "# relative errors up to the order of e-2\n",
        "for param_name in sorted(grads):\n",
        "    f = lambda _: model.loss(X, y)[0]\n",
        "    param_grad_num = eval_numerical_gradient(f, model.params[param_name], verbose=False, h=1e-6)\n",
        "    e = rel_error(param_grad_num, grads[param_name])\n",
        "    print('%s max relative error: %e' % (param_name, rel_error(param_grad_num, grads[param_name])))"
      ],
      "execution_count": 102,
      "outputs": [
        {
          "output_type": "error",
          "ename": "NameError",
          "evalue": "name 'col2im_6d_cython' is not defined",
          "traceback": [
            "\u001b[0;31m---------------------------------------------------------------------------\u001b[0m",
            "\u001b[0;31mNameError\u001b[0m                                 Traceback (most recent call last)",
            "\u001b[0;32m/tmp/ipython-input-3246554302.py\u001b[0m in \u001b[0;36m<cell line: 0>\u001b[0;34m()\u001b[0m\n\u001b[1;32m     10\u001b[0m                           \u001b[0minput_dim\u001b[0m\u001b[0;34m=\u001b[0m\u001b[0minput_dim\u001b[0m\u001b[0;34m,\u001b[0m \u001b[0mhidden_dim\u001b[0m\u001b[0;34m=\u001b[0m\u001b[0;36m7\u001b[0m\u001b[0;34m,\u001b[0m\u001b[0;34m\u001b[0m\u001b[0;34m\u001b[0m\u001b[0m\n\u001b[1;32m     11\u001b[0m                           dtype=np.float64)\n\u001b[0;32m---> 12\u001b[0;31m \u001b[0mloss\u001b[0m\u001b[0;34m,\u001b[0m \u001b[0mgrads\u001b[0m \u001b[0;34m=\u001b[0m \u001b[0mmodel\u001b[0m\u001b[0;34m.\u001b[0m\u001b[0mloss\u001b[0m\u001b[0;34m(\u001b[0m\u001b[0mX\u001b[0m\u001b[0;34m,\u001b[0m \u001b[0my\u001b[0m\u001b[0;34m)\u001b[0m\u001b[0;34m\u001b[0m\u001b[0;34m\u001b[0m\u001b[0m\n\u001b[0m\u001b[1;32m     13\u001b[0m \u001b[0;31m# Errors should be small, but correct implementations may have\u001b[0m\u001b[0;34m\u001b[0m\u001b[0;34m\u001b[0m\u001b[0m\n\u001b[1;32m     14\u001b[0m \u001b[0;31m# relative errors up to the order of e-2\u001b[0m\u001b[0;34m\u001b[0m\u001b[0;34m\u001b[0m\u001b[0m\n",
            "\u001b[0;32m/content/drive/My Drive/Lab1/assignment1/ece662/classifiers/cnn.py\u001b[0m in \u001b[0;36mloss\u001b[0;34m(self, X, y)\u001b[0m\n\u001b[1;32m     88\u001b[0m         \u001b[0mfilter_size\u001b[0m \u001b[0;34m=\u001b[0m \u001b[0mW1\u001b[0m\u001b[0;34m.\u001b[0m\u001b[0mshape\u001b[0m\u001b[0;34m[\u001b[0m\u001b[0;36m2\u001b[0m\u001b[0;34m]\u001b[0m\u001b[0;34m\u001b[0m\u001b[0;34m\u001b[0m\u001b[0m\n\u001b[1;32m     89\u001b[0m         \u001b[0mconv_param\u001b[0m \u001b[0;34m=\u001b[0m \u001b[0;34m{\u001b[0m\u001b[0;34m\"stride\"\u001b[0m\u001b[0;34m:\u001b[0m \u001b[0;36m1\u001b[0m\u001b[0;34m,\u001b[0m \u001b[0;34m\"pad\"\u001b[0m\u001b[0;34m:\u001b[0m \u001b[0;34m(\u001b[0m\u001b[0mfilter_size\u001b[0m \u001b[0;34m-\u001b[0m \u001b[0;36m1\u001b[0m\u001b[0;34m)\u001b[0m \u001b[0;34m//\u001b[0m \u001b[0;36m2\u001b[0m\u001b[0;34m}\u001b[0m\u001b[0;34m\u001b[0m\u001b[0;34m\u001b[0m\u001b[0m\n\u001b[0;32m---> 90\u001b[0;31m \u001b[0;34m\u001b[0m\u001b[0m\n\u001b[0m\u001b[1;32m     91\u001b[0m         \u001b[0;31m# pass pool_param to the forward pass for the max-pooling layer\u001b[0m\u001b[0;34m\u001b[0m\u001b[0;34m\u001b[0m\u001b[0m\n\u001b[1;32m     92\u001b[0m         \u001b[0mpool_param\u001b[0m \u001b[0;34m=\u001b[0m \u001b[0;34m{\u001b[0m\u001b[0;34m\"pool_height\"\u001b[0m\u001b[0;34m:\u001b[0m \u001b[0;36m2\u001b[0m\u001b[0;34m,\u001b[0m \u001b[0;34m\"pool_width\"\u001b[0m\u001b[0;34m:\u001b[0m \u001b[0;36m2\u001b[0m\u001b[0;34m,\u001b[0m \u001b[0;34m\"stride\"\u001b[0m\u001b[0;34m:\u001b[0m \u001b[0;36m2\u001b[0m\u001b[0;34m}\u001b[0m\u001b[0;34m\u001b[0m\u001b[0;34m\u001b[0m\u001b[0m\n",
            "\u001b[0;32m/content/drive/My Drive/Lab1/assignment1/ece662/layer_utils.py\u001b[0m in \u001b[0;36mconv_relu_pool_backward\u001b[0;34m(dout, cache)\u001b[0m\n\u001b[1;32m    107\u001b[0m     \u001b[0mds\u001b[0m \u001b[0;34m=\u001b[0m \u001b[0mmax_pool_backward_fast\u001b[0m\u001b[0;34m(\u001b[0m\u001b[0mdout\u001b[0m\u001b[0;34m,\u001b[0m \u001b[0mpool_cache\u001b[0m\u001b[0;34m)\u001b[0m\u001b[0;34m\u001b[0m\u001b[0;34m\u001b[0m\u001b[0m\n\u001b[1;32m    108\u001b[0m     \u001b[0mda\u001b[0m \u001b[0;34m=\u001b[0m \u001b[0mrelu_backward\u001b[0m\u001b[0;34m(\u001b[0m\u001b[0mds\u001b[0m\u001b[0;34m,\u001b[0m \u001b[0mrelu_cache\u001b[0m\u001b[0;34m)\u001b[0m\u001b[0;34m\u001b[0m\u001b[0;34m\u001b[0m\u001b[0m\n\u001b[0;32m--> 109\u001b[0;31m     \u001b[0mdx\u001b[0m\u001b[0;34m,\u001b[0m \u001b[0mdw\u001b[0m\u001b[0;34m,\u001b[0m \u001b[0mdb\u001b[0m \u001b[0;34m=\u001b[0m \u001b[0mconv_backward_fast\u001b[0m\u001b[0;34m(\u001b[0m\u001b[0mda\u001b[0m\u001b[0;34m,\u001b[0m \u001b[0mconv_cache\u001b[0m\u001b[0;34m)\u001b[0m\u001b[0;34m\u001b[0m\u001b[0;34m\u001b[0m\u001b[0m\n\u001b[0m\u001b[1;32m    110\u001b[0m     \u001b[0;32mreturn\u001b[0m \u001b[0mdx\u001b[0m\u001b[0;34m,\u001b[0m \u001b[0mdw\u001b[0m\u001b[0;34m,\u001b[0m \u001b[0mdb\u001b[0m\u001b[0;34m\u001b[0m\u001b[0;34m\u001b[0m\u001b[0m\n",
            "\u001b[0;32m/content/drive/My Drive/Lab1/assignment1/ece662/fast_layers.py\u001b[0m in \u001b[0;36mconv_backward_strides\u001b[0;34m(dout, cache)\u001b[0m\n\u001b[1;32m    101\u001b[0m \u001b[0;34m\u001b[0m\u001b[0m\n\u001b[1;32m    102\u001b[0m     \u001b[0mThis\u001b[0m \u001b[0mchooses\u001b[0m \u001b[0mbetween\u001b[0m \u001b[0mthe\u001b[0m \u001b[0mreshape\u001b[0m \u001b[0mmethod\u001b[0m \u001b[0;32mand\u001b[0m \u001b[0mthe\u001b[0m \u001b[0mim2col\u001b[0m \u001b[0mmethod\u001b[0m\u001b[0;34m.\u001b[0m \u001b[0mIf\u001b[0m \u001b[0mthe\u001b[0m \u001b[0mpooling\u001b[0m\u001b[0;34m\u001b[0m\u001b[0;34m\u001b[0m\u001b[0m\n\u001b[0;32m--> 103\u001b[0;31m     \u001b[0mregions\u001b[0m \u001b[0mare\u001b[0m \u001b[0msquare\u001b[0m \u001b[0;32mand\u001b[0m \u001b[0mtile\u001b[0m \u001b[0mthe\u001b[0m \u001b[0minput\u001b[0m \u001b[0mimage\u001b[0m\u001b[0;34m,\u001b[0m \u001b[0mthen\u001b[0m \u001b[0mwe\u001b[0m \u001b[0mcan\u001b[0m \u001b[0muse\u001b[0m \u001b[0mthe\u001b[0m \u001b[0mreshape\u001b[0m\u001b[0;34m\u001b[0m\u001b[0;34m\u001b[0m\u001b[0m\n\u001b[0m\u001b[1;32m    104\u001b[0m     \u001b[0mmethod\u001b[0m \u001b[0mwhich\u001b[0m \u001b[0;32mis\u001b[0m \u001b[0mvery\u001b[0m \u001b[0mfast\u001b[0m\u001b[0;34m.\u001b[0m \u001b[0mOtherwise\u001b[0m \u001b[0mwe\u001b[0m \u001b[0mfall\u001b[0m \u001b[0mback\u001b[0m \u001b[0mon\u001b[0m \u001b[0mthe\u001b[0m \u001b[0mim2col\u001b[0m \u001b[0mmethod\u001b[0m\u001b[0;34m,\u001b[0m \u001b[0mwhich\u001b[0m\u001b[0;34m\u001b[0m\u001b[0;34m\u001b[0m\u001b[0m\n\u001b[1;32m    105\u001b[0m     \u001b[0;32mis\u001b[0m \u001b[0;32mnot\u001b[0m \u001b[0mmuch\u001b[0m \u001b[0mfaster\u001b[0m \u001b[0mthan\u001b[0m \u001b[0mthe\u001b[0m \u001b[0mnaive\u001b[0m \u001b[0mmethod\u001b[0m\u001b[0;34m.\u001b[0m\u001b[0;34m\u001b[0m\u001b[0;34m\u001b[0m\u001b[0m\n",
            "\u001b[0;31mNameError\u001b[0m: name 'col2im_6d_cython' is not defined"
          ]
        }
      ]
    },
    {
      "cell_type": "markdown",
      "metadata": {
        "id": "lu4odbqCGnhZ"
      },
      "source": [
        "## Overfit small data\n",
        "A nice trick is to train your model with just a few training samples. You should be able to overfit small datasets, which will result in very high training accuracy and comparatively low validation accuracy."
      ]
    },
    {
      "cell_type": "code",
      "metadata": {
        "id": "73nDxSitGnha"
      },
      "source": [
        "np.random.seed(231)\n",
        "\n",
        "num_train = 100\n",
        "small_data = {\n",
        "  'X_train': data['X_train'][:num_train],\n",
        "  'y_train': data['y_train'][:num_train],\n",
        "  'X_val': data['X_val'],\n",
        "  'y_val': data['y_val'],\n",
        "}\n",
        "\n",
        "model = ThreeLayerConvNet(weight_scale=1e-2, num_classes=6)\n",
        "\n",
        "solver = Solver(model, small_data,\n",
        "                num_epochs=15, batch_size=50,\n",
        "                update_rule='adam',\n",
        "                optim_config={\n",
        "                  'learning_rate': 1e-3,\n",
        "                },\n",
        "                verbose=True, print_every=1)\n",
        "solver.train()"
      ],
      "execution_count": null,
      "outputs": []
    },
    {
      "cell_type": "code",
      "metadata": {
        "id": "small_data_train_accuracy"
      },
      "source": [
        "# Print final training accuracy\n",
        "print(\n",
        "    \"Small data training accuracy:\",\n",
        "    solver.check_accuracy(small_data['X_train'], small_data['y_train'])\n",
        ")"
      ],
      "execution_count": null,
      "outputs": []
    },
    {
      "cell_type": "code",
      "metadata": {
        "id": "small_data_validation_accuracy"
      },
      "source": [
        "# Print final validation accuracy\n",
        "print(\n",
        "    \"Small data validation accuracy:\",\n",
        "    solver.check_accuracy(small_data['X_val'], small_data['y_val'])\n",
        ")"
      ],
      "execution_count": null,
      "outputs": []
    },
    {
      "cell_type": "markdown",
      "metadata": {
        "id": "94LGF5nUGnho"
      },
      "source": [
        "Plotting the loss, training accuracy, and validation accuracy should show clear overfitting:"
      ]
    },
    {
      "cell_type": "code",
      "metadata": {
        "id": "ZHjKMjNLGnho",
        "colab": {
          "base_uri": "https://localhost:8080/",
          "height": 540
        },
        "outputId": "6cd09f09-d201-4485-9c7e-a1c8b2cc25cc"
      },
      "source": [
        "plt.subplot(2, 1, 1)\n",
        "plt.plot(solver.loss_history, 'o')\n",
        "plt.xlabel('iteration')\n",
        "plt.ylabel('loss')\n",
        "\n",
        "plt.subplot(2, 1, 2)\n",
        "plt.plot(solver.train_acc_history, '-o')\n",
        "plt.plot(solver.val_acc_history, '-o')\n",
        "plt.legend(['train', 'val'], loc='upper left')\n",
        "plt.xlabel('epoch')\n",
        "plt.ylabel('accuracy')\n",
        "plt.show()"
      ],
      "execution_count": 108,
      "outputs": [
        {
          "output_type": "error",
          "ename": "NameError",
          "evalue": "name 'solver' is not defined",
          "traceback": [
            "\u001b[0;31m---------------------------------------------------------------------------\u001b[0m",
            "\u001b[0;31mNameError\u001b[0m                                 Traceback (most recent call last)",
            "\u001b[0;32m/tmp/ipython-input-1662477398.py\u001b[0m in \u001b[0;36m<cell line: 0>\u001b[0;34m()\u001b[0m\n\u001b[1;32m      1\u001b[0m \u001b[0mplt\u001b[0m\u001b[0;34m.\u001b[0m\u001b[0msubplot\u001b[0m\u001b[0;34m(\u001b[0m\u001b[0;36m2\u001b[0m\u001b[0;34m,\u001b[0m \u001b[0;36m1\u001b[0m\u001b[0;34m,\u001b[0m \u001b[0;36m1\u001b[0m\u001b[0;34m)\u001b[0m\u001b[0;34m\u001b[0m\u001b[0;34m\u001b[0m\u001b[0m\n\u001b[0;32m----> 2\u001b[0;31m \u001b[0mplt\u001b[0m\u001b[0;34m.\u001b[0m\u001b[0mplot\u001b[0m\u001b[0;34m(\u001b[0m\u001b[0msolver\u001b[0m\u001b[0;34m.\u001b[0m\u001b[0mloss_history\u001b[0m\u001b[0;34m,\u001b[0m \u001b[0;34m'o'\u001b[0m\u001b[0;34m)\u001b[0m\u001b[0;34m\u001b[0m\u001b[0;34m\u001b[0m\u001b[0m\n\u001b[0m\u001b[1;32m      3\u001b[0m \u001b[0mplt\u001b[0m\u001b[0;34m.\u001b[0m\u001b[0mxlabel\u001b[0m\u001b[0;34m(\u001b[0m\u001b[0;34m'iteration'\u001b[0m\u001b[0;34m)\u001b[0m\u001b[0;34m\u001b[0m\u001b[0;34m\u001b[0m\u001b[0m\n\u001b[1;32m      4\u001b[0m \u001b[0mplt\u001b[0m\u001b[0;34m.\u001b[0m\u001b[0mylabel\u001b[0m\u001b[0;34m(\u001b[0m\u001b[0;34m'loss'\u001b[0m\u001b[0;34m)\u001b[0m\u001b[0;34m\u001b[0m\u001b[0;34m\u001b[0m\u001b[0m\n\u001b[1;32m      5\u001b[0m \u001b[0;34m\u001b[0m\u001b[0m\n",
            "\u001b[0;31mNameError\u001b[0m: name 'solver' is not defined"
          ]
        },
        {
          "output_type": "display_data",
          "data": {
            "text/plain": [
              "<Figure size 1000x800 with 1 Axes>"
            ],
            "image/png": "[encoded data removed]"
          },
          "metadata": {}
        }
      ]
    },
    {
      "cell_type": "markdown",
      "metadata": {
        "id": "zvellye-Gnht"
      },
      "source": [
        "## Train the net\n",
        "By training the three-layer convolutional network for one epoch, you should achieve greater than 35+% accuracy on the training set:"
      ]
    },
    {
      "cell_type": "code",
      "metadata": {
        "scrolled": false,
        "id": "gLR-pmxeGnhu",
        "colab": {
          "base_uri": "https://localhost:8080/",
          "height": 321
        },
        "outputId": "68e5d1a9-5025-4b14-da25-1729c4d2e500"
      },
      "source": [
        "model = ThreeLayerConvNet(weight_scale=0.001, hidden_dim=500, reg=0.001, num_classes=6)\n",
        "\n",
        "solver = Solver(model, data,\n",
        "                num_epochs=1, batch_size=50,\n",
        "                update_rule='adam',\n",
        "                optim_config={\n",
        "                  'learning_rate': 1e-3,\n",
        "                },\n",
        "                verbose=True, print_every=100)\n",
        "solver.train()"
      ],
      "execution_count": 109,
      "outputs": [
        {
          "output_type": "error",
          "ename": "NameError",
          "evalue": "name 'col2im_6d_cython' is not defined",
          "traceback": [
            "\u001b[0;31m---------------------------------------------------------------------------\u001b[0m",
            "\u001b[0;31mNameError\u001b[0m                                 Traceback (most recent call last)",
            "\u001b[0;32m/tmp/ipython-input-587946730.py\u001b[0m in \u001b[0;36m<cell line: 0>\u001b[0;34m()\u001b[0m\n\u001b[1;32m      8\u001b[0m                 },\n\u001b[1;32m      9\u001b[0m                 verbose=True, print_every=100)\n\u001b[0;32m---> 10\u001b[0;31m \u001b[0msolver\u001b[0m\u001b[0;34m.\u001b[0m\u001b[0mtrain\u001b[0m\u001b[0;34m(\u001b[0m\u001b[0;34m)\u001b[0m\u001b[0;34m\u001b[0m\u001b[0;34m\u001b[0m\u001b[0m\n\u001b[0m",
            "\u001b[0;32m/content/drive/My Drive/Lab1/assignment1/ece662/solver.py\u001b[0m in \u001b[0;36mtrain\u001b[0;34m(self)\u001b[0m\n\u001b[1;32m    261\u001b[0m \u001b[0;34m\u001b[0m\u001b[0m\n\u001b[1;32m    262\u001b[0m         \u001b[0;32mfor\u001b[0m \u001b[0mt\u001b[0m \u001b[0;32min\u001b[0m \u001b[0mrange\u001b[0m\u001b[0;34m(\u001b[0m\u001b[0mnum_iterations\u001b[0m\u001b[0;34m)\u001b[0m\u001b[0;34m:\u001b[0m\u001b[0;34m\u001b[0m\u001b[0;34m\u001b[0m\u001b[0m\n\u001b[0;32m--> 263\u001b[0;31m             \u001b[0mself\u001b[0m\u001b[0;34m.\u001b[0m\u001b[0m_step\u001b[0m\u001b[0;34m(\u001b[0m\u001b[0;34m)\u001b[0m\u001b[0;34m\u001b[0m\u001b[0;34m\u001b[0m\u001b[0m\n\u001b[0m\u001b[1;32m    264\u001b[0m \u001b[0;34m\u001b[0m\u001b[0m\n\u001b[1;32m    265\u001b[0m             \u001b[0;31m# Maybe print training loss\u001b[0m\u001b[0;34m\u001b[0m\u001b[0;34m\u001b[0m\u001b[0m\n",
            "\u001b[0;32m/content/drive/My Drive/Lab1/assignment1/ece662/solver.py\u001b[0m in \u001b[0;36m_step\u001b[0;34m(self)\u001b[0m\n\u001b[1;32m    179\u001b[0m \u001b[0;34m\u001b[0m\u001b[0m\n\u001b[1;32m    180\u001b[0m         \u001b[0;31m# Compute loss and gradient\u001b[0m\u001b[0;34m\u001b[0m\u001b[0;34m\u001b[0m\u001b[0m\n\u001b[0;32m--> 181\u001b[0;31m         \u001b[0mloss\u001b[0m\u001b[0;34m,\u001b[0m \u001b[0mgrads\u001b[0m \u001b[0;34m=\u001b[0m \u001b[0mself\u001b[0m\u001b[0;34m.\u001b[0m\u001b[0mmodel\u001b[0m\u001b[0;34m.\u001b[0m\u001b[0mloss\u001b[0m\u001b[0;34m(\u001b[0m\u001b[0mX_batch\u001b[0m\u001b[0;34m,\u001b[0m \u001b[0my_batch\u001b[0m\u001b[0;34m)\u001b[0m\u001b[0;34m\u001b[0m\u001b[0;34m\u001b[0m\u001b[0m\n\u001b[0m\u001b[1;32m    182\u001b[0m         \u001b[0mself\u001b[0m\u001b[0;34m.\u001b[0m\u001b[0mloss_history\u001b[0m\u001b[0;34m.\u001b[0m\u001b[0mappend\u001b[0m\u001b[0;34m(\u001b[0m\u001b[0mloss\u001b[0m\u001b[0;34m)\u001b[0m\u001b[0;34m\u001b[0m\u001b[0;34m\u001b[0m\u001b[0m\n\u001b[1;32m    183\u001b[0m \u001b[0;34m\u001b[0m\u001b[0m\n",
            "\u001b[0;32m/content/drive/My Drive/Lab1/assignment1/ece662/classifiers/cnn.py\u001b[0m in \u001b[0;36mloss\u001b[0;34m(self, X, y)\u001b[0m\n\u001b[1;32m     88\u001b[0m         \u001b[0mfilter_size\u001b[0m \u001b[0;34m=\u001b[0m \u001b[0mW1\u001b[0m\u001b[0;34m.\u001b[0m\u001b[0mshape\u001b[0m\u001b[0;34m[\u001b[0m\u001b[0;36m2\u001b[0m\u001b[0;34m]\u001b[0m\u001b[0;34m\u001b[0m\u001b[0;34m\u001b[0m\u001b[0m\n\u001b[1;32m     89\u001b[0m         \u001b[0mconv_param\u001b[0m \u001b[0;34m=\u001b[0m \u001b[0;34m{\u001b[0m\u001b[0;34m\"stride\"\u001b[0m\u001b[0;34m:\u001b[0m \u001b[0;36m1\u001b[0m\u001b[0;34m,\u001b[0m \u001b[0;34m\"pad\"\u001b[0m\u001b[0;34m:\u001b[0m \u001b[0;34m(\u001b[0m\u001b[0mfilter_size\u001b[0m \u001b[0;34m-\u001b[0m \u001b[0;36m1\u001b[0m\u001b[0;34m)\u001b[0m \u001b[0;34m//\u001b[0m \u001b[0;36m2\u001b[0m\u001b[0;34m}\u001b[0m\u001b[0;34m\u001b[0m\u001b[0;34m\u001b[0m\u001b[0m\n\u001b[0;32m---> 90\u001b[0;31m \u001b[0;34m\u001b[0m\u001b[0m\n\u001b[0m\u001b[1;32m     91\u001b[0m         \u001b[0;31m# pass pool_param to the forward pass for the max-pooling layer\u001b[0m\u001b[0;34m\u001b[0m\u001b[0;34m\u001b[0m\u001b[0m\n\u001b[1;32m     92\u001b[0m         \u001b[0mpool_param\u001b[0m \u001b[0;34m=\u001b[0m \u001b[0;34m{\u001b[0m\u001b[0;34m\"pool_height\"\u001b[0m\u001b[0;34m:\u001b[0m \u001b[0;36m2\u001b[0m\u001b[0;34m,\u001b[0m \u001b[0;34m\"pool_width\"\u001b[0m\u001b[0;34m:\u001b[0m \u001b[0;36m2\u001b[0m\u001b[0;34m,\u001b[0m \u001b[0;34m\"stride\"\u001b[0m\u001b[0;34m:\u001b[0m \u001b[0;36m2\u001b[0m\u001b[0;34m}\u001b[0m\u001b[0;34m\u001b[0m\u001b[0;34m\u001b[0m\u001b[0m\n",
            "\u001b[0;32m/content/drive/My Drive/Lab1/assignment1/ece662/layer_utils.py\u001b[0m in \u001b[0;36mconv_relu_pool_backward\u001b[0;34m(dout, cache)\u001b[0m\n\u001b[1;32m    107\u001b[0m     \u001b[0mds\u001b[0m \u001b[0;34m=\u001b[0m \u001b[0mmax_pool_backward_fast\u001b[0m\u001b[0;34m(\u001b[0m\u001b[0mdout\u001b[0m\u001b[0;34m,\u001b[0m \u001b[0mpool_cache\u001b[0m\u001b[0;34m)\u001b[0m\u001b[0;34m\u001b[0m\u001b[0;34m\u001b[0m\u001b[0m\n\u001b[1;32m    108\u001b[0m     \u001b[0mda\u001b[0m \u001b[0;34m=\u001b[0m \u001b[0mrelu_backward\u001b[0m\u001b[0;34m(\u001b[0m\u001b[0mds\u001b[0m\u001b[0;34m,\u001b[0m \u001b[0mrelu_cache\u001b[0m\u001b[0;34m)\u001b[0m\u001b[0;34m\u001b[0m\u001b[0;34m\u001b[0m\u001b[0m\n\u001b[0;32m--> 109\u001b[0;31m     \u001b[0mdx\u001b[0m\u001b[0;34m,\u001b[0m \u001b[0mdw\u001b[0m\u001b[0;34m,\u001b[0m \u001b[0mdb\u001b[0m \u001b[0;34m=\u001b[0m \u001b[0mconv_backward_fast\u001b[0m\u001b[0;34m(\u001b[0m\u001b[0mda\u001b[0m\u001b[0;34m,\u001b[0m \u001b[0mconv_cache\u001b[0m\u001b[0;34m)\u001b[0m\u001b[0;34m\u001b[0m\u001b[0;34m\u001b[0m\u001b[0m\n\u001b[0m\u001b[1;32m    110\u001b[0m     \u001b[0;32mreturn\u001b[0m \u001b[0mdx\u001b[0m\u001b[0;34m,\u001b[0m \u001b[0mdw\u001b[0m\u001b[0;34m,\u001b[0m \u001b[0mdb\u001b[0m\u001b[0;34m\u001b[0m\u001b[0;34m\u001b[0m\u001b[0m\n",
            "\u001b[0;32m/content/drive/My Drive/Lab1/assignment1/ece662/fast_layers.py\u001b[0m in \u001b[0;36mconv_backward_strides\u001b[0;34m(dout, cache)\u001b[0m\n\u001b[1;32m    101\u001b[0m \u001b[0;34m\u001b[0m\u001b[0m\n\u001b[1;32m    102\u001b[0m     \u001b[0mThis\u001b[0m \u001b[0mchooses\u001b[0m \u001b[0mbetween\u001b[0m \u001b[0mthe\u001b[0m \u001b[0mreshape\u001b[0m \u001b[0mmethod\u001b[0m \u001b[0;32mand\u001b[0m \u001b[0mthe\u001b[0m \u001b[0mim2col\u001b[0m \u001b[0mmethod\u001b[0m\u001b[0;34m.\u001b[0m \u001b[0mIf\u001b[0m \u001b[0mthe\u001b[0m \u001b[0mpooling\u001b[0m\u001b[0;34m\u001b[0m\u001b[0;34m\u001b[0m\u001b[0m\n\u001b[0;32m--> 103\u001b[0;31m     \u001b[0mregions\u001b[0m \u001b[0mare\u001b[0m \u001b[0msquare\u001b[0m \u001b[0;32mand\u001b[0m \u001b[0mtile\u001b[0m \u001b[0mthe\u001b[0m \u001b[0minput\u001b[0m \u001b[0mimage\u001b[0m\u001b[0;34m,\u001b[0m \u001b[0mthen\u001b[0m \u001b[0mwe\u001b[0m \u001b[0mcan\u001b[0m \u001b[0muse\u001b[0m \u001b[0mthe\u001b[0m \u001b[0mreshape\u001b[0m\u001b[0;34m\u001b[0m\u001b[0;34m\u001b[0m\u001b[0m\n\u001b[0m\u001b[1;32m    104\u001b[0m     \u001b[0mmethod\u001b[0m \u001b[0mwhich\u001b[0m \u001b[0;32mis\u001b[0m \u001b[0mvery\u001b[0m \u001b[0mfast\u001b[0m\u001b[0;34m.\u001b[0m \u001b[0mOtherwise\u001b[0m \u001b[0mwe\u001b[0m \u001b[0mfall\u001b[0m \u001b[0mback\u001b[0m \u001b[0mon\u001b[0m \u001b[0mthe\u001b[0m \u001b[0mim2col\u001b[0m \u001b[0mmethod\u001b[0m\u001b[0;34m,\u001b[0m \u001b[0mwhich\u001b[0m\u001b[0;34m\u001b[0m\u001b[0;34m\u001b[0m\u001b[0m\n\u001b[1;32m    105\u001b[0m     \u001b[0;32mis\u001b[0m \u001b[0;32mnot\u001b[0m \u001b[0mmuch\u001b[0m \u001b[0mfaster\u001b[0m \u001b[0mthan\u001b[0m \u001b[0mthe\u001b[0m \u001b[0mnaive\u001b[0m \u001b[0mmethod\u001b[0m\u001b[0;34m.\u001b[0m\u001b[0;34m\u001b[0m\u001b[0;34m\u001b[0m\u001b[0m\n",
            "\u001b[0;31mNameError\u001b[0m: name 'col2im_6d_cython' is not defined"
          ]
        }
      ]
    },
    {
      "cell_type": "code",
      "metadata": {
        "id": "full_data_train_accuracy",
        "colab": {
          "base_uri": "https://localhost:8080/",
          "height": 193
        },
        "outputId": "ba9acc8c-40c0-4333-ef42-86c689c18a47"
      },
      "source": [
        "# Print final training accuracy\n",
        "print(\n",
        "    \"Full data training accuracy:\",\n",
        "    solver.check_accuracy(small_data['X_train'], small_data['y_train'])\n",
        ")"
      ],
      "execution_count": 110,
      "outputs": [
        {
          "output_type": "error",
          "ename": "NameError",
          "evalue": "name 'small_data' is not defined",
          "traceback": [
            "\u001b[0;31m---------------------------------------------------------------------------\u001b[0m",
            "\u001b[0;31mNameError\u001b[0m                                 Traceback (most recent call last)",
            "\u001b[0;32m/tmp/ipython-input-2988324870.py\u001b[0m in \u001b[0;36m<cell line: 0>\u001b[0;34m()\u001b[0m\n\u001b[1;32m      2\u001b[0m print(\n\u001b[1;32m      3\u001b[0m     \u001b[0;34m\"Full data training accuracy:\"\u001b[0m\u001b[0;34m,\u001b[0m\u001b[0;34m\u001b[0m\u001b[0;34m\u001b[0m\u001b[0m\n\u001b[0;32m----> 4\u001b[0;31m     \u001b[0msolver\u001b[0m\u001b[0;34m.\u001b[0m\u001b[0mcheck_accuracy\u001b[0m\u001b[0;34m(\u001b[0m\u001b[0msmall_data\u001b[0m\u001b[0;34m[\u001b[0m\u001b[0;34m'X_train'\u001b[0m\u001b[0;34m]\u001b[0m\u001b[0;34m,\u001b[0m \u001b[0msmall_data\u001b[0m\u001b[0;34m[\u001b[0m\u001b[0;34m'y_train'\u001b[0m\u001b[0;34m]\u001b[0m\u001b[0;34m)\u001b[0m\u001b[0;34m\u001b[0m\u001b[0;34m\u001b[0m\u001b[0m\n\u001b[0m\u001b[1;32m      5\u001b[0m )\n",
            "\u001b[0;31mNameError\u001b[0m: name 'small_data' is not defined"
          ]
        }
      ]
    },
    {
      "cell_type": "code",
      "metadata": {
        "id": "full_data_validation_accuracy"
      },
      "source": [
        "# Print final validation accuracy\n",
        "print(\n",
        "    \"Full data validation accuracy:\",\n",
        "    solver.check_accuracy(data['X_val'], data['y_val'])\n",
        ")"
      ],
      "execution_count": null,
      "outputs": []
    },
    {
      "cell_type": "markdown",
      "metadata": {
        "id": "POLreGgeGnh7"
      },
      "source": [
        "## Visualize Filters\n",
        "You can visualize the first-layer convolutional filters from the trained network by running the following:"
      ]
    },
    {
      "cell_type": "code",
      "metadata": {
        "id": "dNJq1-OpGnh8"
      },
      "source": [
        "from ece697ls.vis_utils import visualize_grid\n",
        "\n",
        "grid = visualize_grid(model.params['W1'].transpose(0, 2, 3, 1))\n",
        "plt.imshow(grid.astype('uint8'))\n",
        "plt.axis('off')\n",
        "plt.gcf().set_size_inches(5, 5)\n",
        "plt.show()"
      ],
      "execution_count": null,
      "outputs": []
    },
    {
      "cell_type": "markdown",
      "metadata": {
        "id": "VhrtKVZ7GniA"
      },
      "source": [
        "# Spatial Batch Normalization\n",
        "We already saw that batch normalization is a very useful technique for training deep fully-connected networks. As proposed in the original paper (link in `BatchNormalization.ipynb`), batch normalization can also be used for convolutional networks, but we need to tweak it a bit; the modification will be called \"spatial batch normalization.\"\n",
        "\n",
        "Normally batch-normalization accepts inputs of shape `(N, D)` and produces outputs of shape `(N, D)`, where we normalize across the minibatch dimension `N`. For data coming from convolutional layers, batch normalization needs to accept inputs of shape `(N, C, H, W)` and produce outputs of shape `(N, C, H, W)` where the `N` dimension gives the minibatch size and the `(H, W)` dimensions give the spatial size of the feature map.\n",
        "\n",
        "If the feature map was produced using convolutions, then we expect every feature channel's statistics e.g. mean, variance to be relatively consistent both between different images, and different locations within the same image -- after all, every feature channel is produced by the same convolutional filter! Therefore spatial batch normalization computes a mean and variance for each of the `C` feature channels by computing statistics over the minibatch dimension `N` as well the spatial dimensions `H` and `W`.\n",
        "\n",
        "\n",
        "[1] [Sergey Ioffe and Christian Szegedy, \"Batch Normalization: Accelerating Deep Network Training by Reducing\n",
        "Internal Covariate Shift\", ICML 2015.](https://arxiv.org/abs/1502.03167)"
      ]
    },
    {
      "cell_type": "markdown",
      "metadata": {
        "id": "sSZ5YCqUGniC"
      },
      "source": [
        "## Spatial batch normalization: forward\n",
        "\n",
        "In the file `ece697ls/layers.py`, implement the forward pass for spatial batch normalization in the function `spatial_batchnorm_forward`. Check your implementation by running the following:"
      ]
    },
    {
      "cell_type": "code",
      "metadata": {
        "id": "ixs645cyGniD",
        "colab": {
          "base_uri": "https://localhost:8080/"
        },
        "outputId": "9a1b2aa1-7c3e-4ad7-e274-d2c0b501dafa"
      },
      "source": [
        "np.random.seed(231)\n",
        "# Check the training-time forward pass by checking means and variances\n",
        "# of features both before and after spatial batch normalization\n",
        "\n",
        "N, C, H, W = 2, 3, 4, 5\n",
        "x = 4 * np.random.randn(N, C, H, W) + 10\n",
        "\n",
        "print('Before spatial batch normalization:')\n",
        "print('  Shape: ', x.shape)\n",
        "print('  Means: ', x.mean(axis=(0, 2, 3)))\n",
        "print('  Stds: ', x.std(axis=(0, 2, 3)))\n",
        "\n",
        "# Means should be close to zero and stds close to one\n",
        "gamma, beta = np.ones(C), np.zeros(C)\n",
        "bn_param = {'mode': 'train'}\n",
        "out, _ = spatial_batchnorm_forward(x, gamma, beta, bn_param)\n",
        "print('After spatial batch normalization:')\n",
        "print('  Shape: ', out.shape)\n",
        "print('  Means: ', out.mean(axis=(0, 2, 3)))\n",
        "print('  Stds: ', out.std(axis=(0, 2, 3)))\n",
        "\n",
        "# Means should be close to beta and stds close to gamma\n",
        "gamma, beta = np.asarray([3, 4, 5]), np.asarray([6, 7, 8])\n",
        "out, _ = spatial_batchnorm_forward(x, gamma, beta, bn_param)\n",
        "print('After spatial batch normalization (nontrivial gamma, beta):')\n",
        "print('  Shape: ', out.shape)\n",
        "print('  Means: ', out.mean(axis=(0, 2, 3)))\n",
        "print('  Stds: ', out.std(axis=(0, 2, 3)))"
      ],
      "execution_count": 103,
      "outputs": [
        {
          "output_type": "stream",
          "name": "stdout",
          "text": [
            "Before spatial batch normalization:\n",
            "  Shape:  (2, 3, 4, 5)\n",
            "  Means:  [9.33463814 8.90909116 9.11056338]\n",
            "  Stds:  [3.61447857 3.19347686 3.5168142 ]\n",
            "After spatial batch normalization:\n",
            "  Shape:  (2, 3, 4, 5)\n",
            "  Means:  [ 6.18949336e-16  5.99520433e-16 -1.22124533e-16]\n",
            "  Stds:  [0.99999962 0.99999951 0.9999996 ]\n",
            "After spatial batch normalization (nontrivial gamma, beta):\n",
            "  Shape:  (2, 3, 4, 5)\n",
            "  Means:  [6. 7. 8.]\n",
            "  Stds:  [2.99999885 3.99999804 4.99999798]\n"
          ]
        }
      ]
    },
    {
      "cell_type": "code",
      "metadata": {
        "id": "6MmTaaMFGniH",
        "colab": {
          "base_uri": "https://localhost:8080/"
        },
        "outputId": "aadb0a0e-4313-45d8-ce2b-0eb47e6aba23"
      },
      "source": [
        "np.random.seed(231)\n",
        "# Check the test-time forward pass by running the training-time\n",
        "# forward pass many times to warm up the running averages, and then\n",
        "# checking the means and variances of activations after a test-time\n",
        "# forward pass.\n",
        "N, C, H, W = 10, 4, 11, 12\n",
        "\n",
        "bn_param = {'mode': 'train'}\n",
        "gamma = np.ones(C)\n",
        "beta = np.zeros(C)\n",
        "for t in range(50):\n",
        "  x = 2.3 * np.random.randn(N, C, H, W) + 13\n",
        "  spatial_batchnorm_forward(x, gamma, beta, bn_param)\n",
        "bn_param['mode'] = 'test'\n",
        "x = 2.3 * np.random.randn(N, C, H, W) + 13\n",
        "a_norm, _ = spatial_batchnorm_forward(x, gamma, beta, bn_param)\n",
        "\n",
        "# Means should be close to zero and stds close to one, but will be\n",
        "# noisier than training-time forward passes.\n",
        "print('After spatial batch normalization (test-time):')\n",
        "print('  means: ', a_norm.mean(axis=(0, 2, 3)))\n",
        "print('  stds: ', a_norm.std(axis=(0, 2, 3)))"
      ],
      "execution_count": 104,
      "outputs": [
        {
          "output_type": "stream",
          "name": "stdout",
          "text": [
            "After spatial batch normalization (test-time):\n",
            "  means:  [-0.08034406  0.07562881  0.05716371  0.04378383]\n",
            "  stds:  [0.96718744 1.0299714  1.02887624 1.00585577]\n"
          ]
        }
      ]
    },
    {
      "cell_type": "markdown",
      "metadata": {
        "id": "4_yIilc-GniK"
      },
      "source": [
        "## Spatial batch normalization: backward\n",
        "In the file `ece697ls/layers.py`, implement the backward pass for spatial batch normalization in the function `spatial_batchnorm_backward`. Run the following to check your implementation using a numeric gradient check:"
      ]
    },
    {
      "cell_type": "code",
      "metadata": {
        "id": "amIn8JEKGniM",
        "colab": {
          "base_uri": "https://localhost:8080/"
        },
        "outputId": "6eba7adf-6cdc-4661-8023-a34b94421978"
      },
      "source": [
        "np.random.seed(231)\n",
        "N, C, H, W = 2, 3, 4, 5\n",
        "x = 5 * np.random.randn(N, C, H, W) + 12\n",
        "gamma = np.random.randn(C)\n",
        "beta = np.random.randn(C)\n",
        "dout = np.random.randn(N, C, H, W)\n",
        "\n",
        "bn_param = {'mode': 'train'}\n",
        "fx = lambda x: spatial_batchnorm_forward(x, gamma, beta, bn_param)[0]\n",
        "fg = lambda a: spatial_batchnorm_forward(x, gamma, beta, bn_param)[0]\n",
        "fb = lambda b: spatial_batchnorm_forward(x, gamma, beta, bn_param)[0]\n",
        "\n",
        "dx_num = eval_numerical_gradient_array(fx, x, dout)\n",
        "da_num = eval_numerical_gradient_array(fg, gamma, dout)\n",
        "db_num = eval_numerical_gradient_array(fb, beta, dout)\n",
        "\n",
        "#You should expect errors of magnitudes between 1e-12~1e-06\n",
        "_, cache = spatial_batchnorm_forward(x, gamma, beta, bn_param)\n",
        "dx, dgamma, dbeta = spatial_batchnorm_backward(dout, cache)\n",
        "print('dx error: ', rel_error(dx_num, dx))\n",
        "print('dgamma error: ', rel_error(da_num, dgamma))\n",
        "print('dbeta error: ', rel_error(db_num, dbeta))"
      ],
      "execution_count": 105,
      "outputs": [
        {
          "output_type": "stream",
          "name": "stdout",
          "text": [
            "dx error:  2.786648188046885e-07\n",
            "dgamma error:  7.0974817113608705e-12\n",
            "dbeta error:  3.275608725278405e-12\n"
          ]
        }
      ]
    },
    {
      "cell_type": "markdown",
      "metadata": {
        "id": "TgbUUkMbGniR"
      },
      "source": [
        "# Group Normalization\n",
        "In the previous notebook, we mentioned that Layer Normalization is an alternative normalization technique that mitigates the batch size limitations of Batch Normalization. However, as the authors of [2] observed, Layer Normalization does not perform as well as Batch Normalization when used with Convolutional Layers:\n",
        "\n",
        ">With fully connected layers, all the hidden units in a layer tend to make similar contributions to the final prediction, and re-centering and rescaling the summed inputs to a layer works well. However, the assumption of similar contributions is no longer true for convolutional neural networks. The large number of the hidden units whose\n",
        "receptive fields lie near the boundary of the image are rarely turned on and thus have very different\n",
        "statistics from the rest of the hidden units within the same layer.\n",
        "\n",
        "The authors of [3] propose an intermediary technique. In contrast to Layer Normalization, where you normalize over the entire feature per-datapoint, they suggest a consistent splitting of each per-datapoint feature into G groups, and a per-group per-datapoint normalization instead.\n",
        "\n",
        "<p align=\"center\">\n",
        "<img src=\"https://raw.githubusercontent.com/cs231n/cs231n.github.io/master/assets/a2/normalization.png\">\n",
        "</p>\n",
        "<center>Visual comparison of the normalization techniques discussed so far (image edited from [3])</center>\n",
        "\n",
        "Even though an assumption of equal contribution is still being made within each group, the authors hypothesize that this is not as problematic, as innate grouping arises within features for visual recognition. One example they use to illustrate this is that many high-performance handcrafted features in traditional Computer Vision have terms that are explicitly grouped together. Take for example Histogram of Oriented Gradients [4]-- after computing histograms per spatially local block, each per-block histogram is normalized before being concatenated together to form the final feature vector.\n",
        "\n",
        "You will now implement Group Normalization. Note that this normalization technique that you are to implement in the following cells was introduced and published to ECCV just in 2018 -- this truly is still an ongoing and excitingly active field of research!\n",
        "\n",
        "[2] [Ba, Jimmy Lei, Jamie Ryan Kiros, and Geoffrey E. Hinton. \"Layer Normalization.\" stat 1050 (2016): 21.](https://arxiv.org/pdf/1607.06450.pdf)\n",
        "\n",
        "\n",
        "[3] [Wu, Yuxin, and Kaiming He. \"Group Normalization.\" arXiv preprint arXiv:1803.08494 (2018).](https://arxiv.org/abs/1803.08494)\n",
        "\n",
        "\n",
        "[4] [N. Dalal and B. Triggs. Histograms of oriented gradients for\n",
        "human detection. In Computer Vision and Pattern Recognition\n",
        "(CVPR), 2005.](https://ieeexplore.ieee.org/abstract/document/1467360/)"
      ]
    },
    {
      "cell_type": "markdown",
      "metadata": {
        "id": "viQaMRGXGniS"
      },
      "source": [
        "## Group normalization: forward\n",
        "\n",
        "In the file `ece697ls/layers.py`, implement the forward pass for group normalization in the function `spatial_groupnorm_forward`. Check your implementation by running the following:"
      ]
    },
    {
      "cell_type": "code",
      "metadata": {
        "id": "EHBA2rIEGniT",
        "colab": {
          "base_uri": "https://localhost:8080/"
        },
        "outputId": "55216db0-3a6d-4bae-ff9a-6831100f9ae0"
      },
      "source": [
        "np.random.seed(231)\n",
        "# Check the training-time forward pass by checking means and variances\n",
        "# of features both before and after spatial batch normalization\n",
        "\n",
        "N, C, H, W = 2, 6, 4, 5\n",
        "G = 2\n",
        "x = 4 * np.random.randn(N, C, H, W) + 10\n",
        "x_g = x.reshape((N*G,-1))\n",
        "print('Before spatial group normalization:')\n",
        "print('  Shape: ', x.shape)\n",
        "print('  Means: ', x_g.mean(axis=1))\n",
        "print('  Stds: ', x_g.std(axis=1))\n",
        "\n",
        "# Means should be close to zero and stds close to one\n",
        "gamma, beta = np.ones((1,C,1,1)), np.zeros((1,C,1,1))\n",
        "bn_param = {'mode': 'train'}\n",
        "\n",
        "out, _ = spatial_groupnorm_forward(x, gamma, beta, G, bn_param)\n",
        "out_g = out.reshape((N*G,-1))\n",
        "print('After spatial group normalization:')\n",
        "print('  Shape: ', out.shape)\n",
        "print('  Means: ', out_g.mean(axis=1))\n",
        "print('  Stds: ', out_g.std(axis=1))"
      ],
      "execution_count": 106,
      "outputs": [
        {
          "output_type": "stream",
          "name": "stdout",
          "text": [
            "Before spatial group normalization:\n",
            "  Shape:  (2, 6, 4, 5)\n",
            "  Means:  [9.72505327 8.51114185 8.9147544  9.43448077]\n",
            "  Stds:  [3.67070958 3.09892597 4.27043622 3.97521327]\n",
            "After spatial group normalization:\n",
            "  Shape:  (1, 1, 1, 2, 6, 4, 5)\n",
            "  Means:  [-2.14643118e-16  5.25505565e-16  2.65528340e-16 -3.38618023e-16]\n",
            "  Stds:  [0.99999963 0.99999948 0.99999973 0.99999968]\n"
          ]
        }
      ]
    },
    {
      "cell_type": "markdown",
      "metadata": {
        "id": "FFgb7QMvGniW"
      },
      "source": [
        "## Spatial group normalization: backward\n",
        "In the file `ece697ls/layers.py`, implement the backward pass for spatial batch normalization in the function `spatial_groupnorm_backward`. Run the following to check your implementation using a numeric gradient check:"
      ]
    },
    {
      "cell_type": "code",
      "metadata": {
        "id": "3fA9nemEGniX",
        "colab": {
          "base_uri": "https://localhost:8080/"
        },
        "outputId": "b4728fc7-3a82-46c4-9f73-c7dcf127d575"
      },
      "source": [
        "np.random.seed(231)\n",
        "N, C, H, W = 2, 6, 4, 5\n",
        "G = 2\n",
        "x = 5 * np.random.randn(N, C, H, W) + 12\n",
        "gamma = np.random.randn(1,C,1,1)\n",
        "beta = np.random.randn(1,C,1,1)\n",
        "dout = np.random.randn(N, C, H, W)\n",
        "\n",
        "gn_param = {}\n",
        "fx = lambda x: spatial_groupnorm_forward(x, gamma, beta, G, gn_param)[0]\n",
        "fg = lambda a: spatial_groupnorm_forward(x, gamma, beta, G, gn_param)[0]\n",
        "fb = lambda b: spatial_groupnorm_forward(x, gamma, beta, G, gn_param)[0]\n",
        "\n",
        "dx_num = eval_numerical_gradient_array(fx, x, dout)\n",
        "da_num = eval_numerical_gradient_array(fg, gamma, dout)\n",
        "db_num = eval_numerical_gradient_array(fb, beta, dout)\n",
        "\n",
        "_, cache = spatial_groupnorm_forward(x, gamma, beta, G, gn_param)\n",
        "dx, dgamma, dbeta = spatial_groupnorm_backward(dout, cache)\n",
        "#You should expect errors of magnitudes between 1e-12~1e-07\n",
        "print('dx error: ', rel_error(dx_num, dx))\n",
        "print('dgamma error: ', rel_error(da_num, dgamma))\n",
        "print('dbeta error: ', rel_error(db_num, dbeta))"
      ],
      "execution_count": 107,
      "outputs": [
        {
          "output_type": "stream",
          "name": "stdout",
          "text": [
            "dx error:  7.413109648400194e-08\n",
            "dgamma error:  1.0\n",
            "dbeta error:  1.0\n"
          ]
        }
      ]
    }
  ]
}